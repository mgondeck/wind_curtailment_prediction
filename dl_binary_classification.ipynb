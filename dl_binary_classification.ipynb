{
  "nbformat": 4,
  "nbformat_minor": 0,
  "metadata": {
    "colab": {
      "provenance": [],
      "machine_shape": "hm",
      "gpuType": "A100",
      "authorship_tag": "ABX9TyPEHrw95IYzvBBSYpQQN5Jk",
      "include_colab_link": true
    },
    "kernelspec": {
      "name": "python3",
      "display_name": "Python 3"
    },
    "language_info": {
      "name": "python"
    },
    "accelerator": "GPU"
  },
  "cells": [
    {
      "cell_type": "markdown",
      "metadata": {
        "id": "view-in-github",
        "colab_type": "text"
      },
      "source": [
        "<a href=\"https://colab.research.google.com/github/mgondeck/wind_curtailment_prediction/blob/mary/dl_binary_classification.ipynb\" target=\"_parent\"><img src=\"https://colab.research.google.com/assets/colab-badge.svg\" alt=\"Open In Colab\"/></a>"
      ]
    },
    {
      "cell_type": "code",
      "execution_count": 16,
      "metadata": {
        "id": "ijerM10CgCXa"
      },
      "outputs": [],
      "source": [
        "# packages\n",
        "import os\n",
        "import numpy as np\n",
        "import pandas as pd\n",
        "\n",
        "from sklearn.impute import SimpleImputer\n",
        "from sklearn.preprocessing import StandardScaler\n",
        "from sklearn.pipeline import Pipeline\n",
        "from sklearn.model_selection import train_test_split\n",
        "from imblearn.over_sampling import SMOTE\n",
        "\n",
        "import tensorflow as tf\n",
        "from tensorflow import keras\n",
        "from tensorflow.keras import Sequential\n",
        "from tensorflow.keras.layers import Dense\n",
        "\n",
        "from sklearn.metrics import classification_report\n",
        "\n",
        "from matplotlib import pyplot as plt"
      ]
    },
    {
      "cell_type": "code",
      "source": [
        "# mount your google drive\n",
        "from google.colab import drive\n",
        "drive.mount('/content/drive')"
      ],
      "metadata": {
        "colab": {
          "base_uri": "https://localhost:8080/"
        },
        "id": "fmFcTXOro9wR",
        "outputId": "ec0b48b5-4b23-432b-f54d-6068cba4b1d5"
      },
      "execution_count": 17,
      "outputs": [
        {
          "output_type": "stream",
          "name": "stdout",
          "text": [
            "Drive already mounted at /content/drive; to attempt to forcibly remount, call drive.mount(\"/content/drive\", force_remount=True).\n"
          ]
        }
      ]
    },
    {
      "cell_type": "code",
      "source": [
        "df = pd.read_csv('/content/drive/My Drive/ms_wind_curtailment_prediction/curtailment_target_features.csv', sep = ';', index_col=0)"
      ],
      "metadata": {
        "id": "nMsDoQL7pF5r"
      },
      "execution_count": 18,
      "outputs": []
    },
    {
      "cell_type": "code",
      "source": [
        "# Split the entire dataset into training and test sets\n",
        "cutoff_time = \"2023-01-01\"\n",
        "train = df[df.index < cutoff_time]\n",
        "test = df[df.index >= cutoff_time]\n",
        "X_train = train.drop('redispatch', axis = 1)\n",
        "y_train = train['redispatch']\n",
        "X_test = test.drop('redispatch', axis = 1)\n",
        "y_test = test['redispatch']"
      ],
      "metadata": {
        "id": "6m5AASnmpYvo"
      },
      "execution_count": 19,
      "outputs": []
    },
    {
      "cell_type": "code",
      "source": [
        "# preprocessing pipelines\n",
        "preprocessor = Pipeline([\n",
        "    ('imputer', SimpleImputer(strategy='constant', fill_value=0)),\n",
        "    ('scaler', StandardScaler())\n",
        "])\n",
        "\n",
        "smote = SMOTE(random_state=13)\n",
        "\n",
        "X_train_preprocessed = preprocessor.fit_transform(X_train)\n",
        "X_train_preprocessed, y_train_preprocessed = smote.fit_resample(X_train_preprocessed, y_train)\n",
        "X_test_preprocessed = preprocessor.transform(X_test)"
      ],
      "metadata": {
        "id": "nojG2tG1pu7l"
      },
      "execution_count": 20,
      "outputs": []
    },
    {
      "cell_type": "code",
      "source": [
        "# define number of epochs and learning rate decay\n",
        "N_TRAIN = len(X_train_preprocessed)\n",
        "EPOCHS = 5\n",
        "BATCH_SIZE = 50\n",
        "STEPS_PER_EPOCH = N_TRAIN // BATCH_SIZE\n",
        "lr_schedule = tf.keras.optimizers.schedules.InverseTimeDecay(\n",
        "    0.01,\n",
        "    decay_steps=STEPS_PER_EPOCH,\n",
        "    decay_rate=1,\n",
        "    staircase=False)\n",
        "\n",
        "# define optimizer\n",
        "optimizer = tf.keras.optimizers.Adam(learning_rate=lr_schedule, name='Adam')\n",
        "\n",
        "# define model\n",
        "def dl_bin_class_model():\n",
        "    model = tf.keras.Sequential([\n",
        "        Dense(64, activation='relu', input_dim=12),\n",
        "        Dense(32, activation='relu'),\n",
        "        Dense(1, activation='sigmoid')])\n",
        "\n",
        "    model.compile(optimizer=optimizer,\n",
        "                  loss='binary_crossentropy',\n",
        "                  metrics=['accuracy', tf.keras.metrics.Recall()])\n",
        "    return model\n",
        "\n",
        "# train model\n",
        "model = dl_bin_class_model()\n",
        "with tf.device('/device:GPU:0'):\n",
        "  history = model.fit(X_train_preprocessed,\n",
        "                    y_train_preprocessed,\n",
        "                    validation_split=0.2,\n",
        "                    batch_size=BATCH_SIZE,\n",
        "                    epochs=EPOCHS,\n",
        "                    verbose=1)"
      ],
      "metadata": {
        "colab": {
          "base_uri": "https://localhost:8080/"
        },
        "id": "30G2WsCZ1otB",
        "outputId": "6ca9cc29-1861-42e6-90e0-cf9c611f03df"
      },
      "execution_count": 37,
      "outputs": [
        {
          "output_type": "stream",
          "name": "stdout",
          "text": [
            "Epoch 1/5\n",
            "3179/3179 [==============================] - 9s 3ms/step - loss: 0.3773 - accuracy: 0.8236 - recall_5: 0.7646 - val_loss: 0.3273 - val_accuracy: 0.8829 - val_recall_5: 0.8829\n",
            "Epoch 2/5\n",
            "3179/3179 [==============================] - 8s 2ms/step - loss: 0.2600 - accuracy: 0.8910 - recall_5: 0.8747 - val_loss: 0.2562 - val_accuracy: 0.9155 - val_recall_5: 0.9155\n",
            "Epoch 3/5\n",
            "3179/3179 [==============================] - 8s 2ms/step - loss: 0.2138 - accuracy: 0.9143 - recall_5: 0.9070 - val_loss: 0.2051 - val_accuracy: 0.9356 - val_recall_5: 0.9356\n",
            "Epoch 4/5\n",
            "3179/3179 [==============================] - 8s 2ms/step - loss: 0.1877 - accuracy: 0.9274 - recall_5: 0.9255 - val_loss: 0.2259 - val_accuracy: 0.9282 - val_recall_5: 0.9282\n",
            "Epoch 5/5\n",
            "3179/3179 [==============================] - 8s 2ms/step - loss: 0.1713 - accuracy: 0.9340 - recall_5: 0.9337 - val_loss: 0.2161 - val_accuracy: 0.9297 - val_recall_5: 0.9297\n"
          ]
        }
      ]
    },
    {
      "cell_type": "code",
      "source": [
        "y_pred = model.predict(X_test_preprocessed)\n",
        "\n",
        "threshold = 0.3 # counteract class imbalaance?!\n",
        "y_pred_binary = (y_pred >= threshold).astype(int)\n",
        "\n",
        "# Print classification report\n",
        "print(classification_report(y_test, y_pred_binary))"
      ],
      "metadata": {
        "colab": {
          "base_uri": "https://localhost:8080/"
        },
        "id": "eLI4OUFFxA-r",
        "outputId": "d35d9e40-2662-4525-aa42-d42a7002a5ce"
      },
      "execution_count": 38,
      "outputs": [
        {
          "output_type": "stream",
          "name": "stdout",
          "text": [
            "1093/1093 [==============================] - 2s 1ms/step\n",
            "              precision    recall  f1-score   support\n",
            "\n",
            "         0.0       0.93      0.83      0.88     32472\n",
            "         1.0       0.09      0.21      0.12      2484\n",
            "\n",
            "    accuracy                           0.79     34956\n",
            "   macro avg       0.51      0.52      0.50     34956\n",
            "weighted avg       0.87      0.79      0.83     34956\n",
            "\n"
          ]
        }
      ]
    },
    {
      "cell_type": "code",
      "source": [
        "# plot recall\n",
        "plt.plot(history.history['recall'], label='train_recall')\n",
        "plt.plot(history.history['val_recall'], label='val_recall')\n",
        "plt.xlabel('Epochs')\n",
        "plt.ylabel('Recall')\n",
        "plt.legend()\n",
        "plt.title('Training and Validation Recall')\n",
        "\n",
        "# plot loss\n",
        "plt.figure()\n",
        "plt.plot(history.history['loss'], label='train_loss')\n",
        "plt.plot(history.history['val_loss'], label='val_loss')\n",
        "plt.xlabel('Epochs')\n",
        "plt.ylabel('Loss')\n",
        "plt.legend()\n",
        "plt.title('Training and Validation Loss')\n",
        "\n",
        "\n"
      ],
      "metadata": {
        "colab": {
          "base_uri": "https://localhost:8080/",
          "height": 216
        },
        "id": "cclvzzI3bdrv",
        "outputId": "d74c2aa7-e1d7-4184-ef54-ff8abd50220c"
      },
      "execution_count": 40,
      "outputs": [
        {
          "output_type": "error",
          "ename": "TypeError",
          "evalue": "'History' object is not subscriptable",
          "traceback": [
            "\u001b[0;31m---------------------------------------------------------------------------\u001b[0m",
            "\u001b[0;31mTypeError\u001b[0m                                 Traceback (most recent call last)",
            "\u001b[0;32m<ipython-input-40-30f49c90d058>\u001b[0m in \u001b[0;36m<cell line: 2>\u001b[0;34m()\u001b[0m\n\u001b[1;32m      1\u001b[0m \u001b[0;31m# plot recall\u001b[0m\u001b[0;34m\u001b[0m\u001b[0;34m\u001b[0m\u001b[0m\n\u001b[0;32m----> 2\u001b[0;31m \u001b[0mplt\u001b[0m\u001b[0;34m.\u001b[0m\u001b[0mplot\u001b[0m\u001b[0;34m(\u001b[0m\u001b[0mhistory\u001b[0m\u001b[0;34m[\u001b[0m\u001b[0;34m'recall'\u001b[0m\u001b[0;34m]\u001b[0m\u001b[0;34m,\u001b[0m \u001b[0mlabel\u001b[0m\u001b[0;34m=\u001b[0m\u001b[0;34m'train_recall'\u001b[0m\u001b[0;34m)\u001b[0m\u001b[0;34m\u001b[0m\u001b[0;34m\u001b[0m\u001b[0m\n\u001b[0m\u001b[1;32m      3\u001b[0m \u001b[0mplt\u001b[0m\u001b[0;34m.\u001b[0m\u001b[0mplot\u001b[0m\u001b[0;34m(\u001b[0m\u001b[0mhistory\u001b[0m\u001b[0;34m.\u001b[0m\u001b[0mhistory\u001b[0m\u001b[0;34m[\u001b[0m\u001b[0;34m'val_recall'\u001b[0m\u001b[0;34m]\u001b[0m\u001b[0;34m,\u001b[0m \u001b[0mlabel\u001b[0m\u001b[0;34m=\u001b[0m\u001b[0;34m'val_recall'\u001b[0m\u001b[0;34m)\u001b[0m\u001b[0;34m\u001b[0m\u001b[0;34m\u001b[0m\u001b[0m\n\u001b[1;32m      4\u001b[0m \u001b[0mplt\u001b[0m\u001b[0;34m.\u001b[0m\u001b[0mxlabel\u001b[0m\u001b[0;34m(\u001b[0m\u001b[0;34m'Epochs'\u001b[0m\u001b[0;34m)\u001b[0m\u001b[0;34m\u001b[0m\u001b[0;34m\u001b[0m\u001b[0m\n\u001b[1;32m      5\u001b[0m \u001b[0mplt\u001b[0m\u001b[0;34m.\u001b[0m\u001b[0mylabel\u001b[0m\u001b[0;34m(\u001b[0m\u001b[0;34m'Recall'\u001b[0m\u001b[0;34m)\u001b[0m\u001b[0;34m\u001b[0m\u001b[0;34m\u001b[0m\u001b[0m\n",
            "\u001b[0;31mTypeError\u001b[0m: 'History' object is not subscriptable"
          ]
        }
      ]
    },
    {
      "cell_type": "code",
      "source": [
        "# is it overfitting?\n",
        "# Batchnormalization: method to make artificial NNs faster and more stable through re-centering and re-scaling layers inputs\n",
        "# Dropout: regularisation technique for reducing overfitting in ANNs by preventing complex co-adaptations on training data. Performing model averaging\n"
      ],
      "metadata": {
        "id": "kjdG7zP4aal6"
      },
      "execution_count": null,
      "outputs": []
    },
    {
      "cell_type": "code",
      "source": [
        "'''\n",
        "## safe\n",
        "!mkdir -p saved_model\n",
        "large_model.save('saved_model/my_large_model')\n",
        "\n",
        "!zip -r saved_model.zip saved_model\n",
        "\n",
        "# push to GitHub see [3]\n",
        "\n",
        "## load\n",
        "# unzip files\n",
        "import zipfile\n",
        "with zipfile.ZipFile(‘./saved_model.zip', 'r') as zip_ref:\n",
        "    zip_ref.extractall('./')\n",
        "\n",
        "# Load the saved model\n",
        "with tf.device('/device:GPU:0'):\n",
        "    new_large_model = tf.keras.models.load_model('saved_model/my_large_model')\n",
        "\n",
        "# Check its architecture\n",
        "new_large_model.summary()'''"
      ],
      "metadata": {
        "colab": {
          "base_uri": "https://localhost:8080/",
          "height": 89
        },
        "id": "voiBNpOfyZu9",
        "outputId": "6121a47d-5b18-4140-80e9-bf85ff84e1ae"
      },
      "execution_count": 11,
      "outputs": [
        {
          "output_type": "execute_result",
          "data": {
            "text/plain": [
              "\"\\n## safe \\n!mkdir -p saved_model\\nlarge_model.save('saved_model/my_large_model')\\n\\n!zip -r saved_model.zip saved_model\\n\\n# push to GitHub see [3]\\n\\n## load\\n# unzip files \\nimport zipfile\\nwith zipfile.ZipFile(‘./saved_model.zip', 'r') as zip_ref:\\n    zip_ref.extractall('./')\\n\\n# Load the saved model\\nwith tf.device('/device:GPU:0'):\\n    new_large_model = tf.keras.models.load_model('saved_model/my_large_model')\\n\\n# Check its architecture\\nnew_large_model.summary()\""
            ],
            "application/vnd.google.colaboratory.intrinsic+json": {
              "type": "string"
            }
          },
          "metadata": {},
          "execution_count": 11
        }
      ]
    }
  ]
}