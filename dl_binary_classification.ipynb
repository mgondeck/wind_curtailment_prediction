{
  "nbformat": 4,
  "nbformat_minor": 0,
  "metadata": {
    "colab": {
      "provenance": [],
      "machine_shape": "hm",
      "gpuType": "A100",
      "authorship_tag": "ABX9TyP0v+aOqpwJRT5oOTIK5O6s"
    },
    "kernelspec": {
      "name": "python3",
      "display_name": "Python 3"
    },
    "language_info": {
      "name": "python"
    },
    "accelerator": "GPU"
  },
  "cells": [
    {
      "cell_type": "code",
      "execution_count": 1,
      "metadata": {
        "id": "ijerM10CgCXa"
      },
      "outputs": [],
      "source": [
        "# packages\n",
        "import os\n",
        "import numpy as np\n",
        "import pandas as pd\n",
        "\n",
        "from sklearn.impute import SimpleImputer\n",
        "from sklearn.preprocessing import StandardScaler\n",
        "from sklearn.pipeline import Pipeline\n",
        "from sklearn.model_selection import train_test_split\n",
        "from imblearn.over_sampling import SMOTE\n",
        "\n",
        "import tensorflow as tf\n",
        "from tensorflow import keras\n",
        "#from tensorflow.keras import layers\n",
        "#from tensorflow.keras.layers.experimental import preprocessing\n",
        "from tensorflow.keras import Sequential\n",
        "from tensorflow.keras.layers import Dense\n",
        "\n",
        "from sklearn.metrics import classification_report"
      ]
    },
    {
      "cell_type": "code",
      "source": [
        "# mount your google drive\n",
        "from google.colab import drive\n",
        "drive.mount('/content/drive')"
      ],
      "metadata": {
        "colab": {
          "base_uri": "https://localhost:8080/"
        },
        "id": "fmFcTXOro9wR",
        "outputId": "9bdc4252-f842-492b-a712-12a7bd09a5db"
      },
      "execution_count": 2,
      "outputs": [
        {
          "output_type": "stream",
          "name": "stdout",
          "text": [
            "Mounted at /content/drive\n"
          ]
        }
      ]
    },
    {
      "cell_type": "code",
      "source": [
        "df = pd.read_csv('/content/drive/My Drive/ms_wind_curtailment_prediction/curtailment_target_features.csv', sep = ';', index_col=0)"
      ],
      "metadata": {
        "id": "nMsDoQL7pF5r"
      },
      "execution_count": 3,
      "outputs": []
    },
    {
      "cell_type": "code",
      "source": [
        "# Split the entire dataset into training and test sets\n",
        "cutoff_time = \"2023-01-01\"\n",
        "train = df[df.index < cutoff_time]\n",
        "test = df[df.index >= cutoff_time]\n",
        "X_train = train.drop('redispatch', axis = 1)\n",
        "y_train = train['redispatch']\n",
        "X_test = test.drop('redispatch', axis = 1)\n",
        "y_test = test['redispatch']"
      ],
      "metadata": {
        "id": "6m5AASnmpYvo"
      },
      "execution_count": 4,
      "outputs": []
    },
    {
      "cell_type": "code",
      "source": [
        "# preprocessing pipelines\n",
        "preprocessor = Pipeline([\n",
        "    ('imputer', SimpleImputer(strategy='constant', fill_value=0)),\n",
        "    ('scaler', StandardScaler())\n",
        "])\n",
        "\n",
        "smote = SMOTE(random_state=13)\n",
        "\n",
        "X_train_preprocessed = preprocessor.fit_transform(X_train)\n",
        "X_train_preprocessed, y_train_preprocessed = smote.fit_resample(X_train_preprocessed, y_train)\n",
        "X_test_preprocessed = preprocessor.transform(X_test)"
      ],
      "metadata": {
        "id": "nojG2tG1pu7l"
      },
      "execution_count": 5,
      "outputs": []
    },
    {
      "cell_type": "code",
      "source": [
        "# Define number of epochs and learning rate decay\n",
        "N_TRAIN = len(X_train_preprocessed)\n",
        "EPOCHS = 50\n",
        "BATCH_SIZE = 32\n",
        "STEPS_PER_EPOCH = N_TRAIN // BATCH_SIZE\n",
        "lr_schedule = tf.keras.optimizers.schedules.InverseTimeDecay(\n",
        "    0.01,\n",
        "    decay_steps=STEPS_PER_EPOCH,\n",
        "    decay_rate=1,\n",
        "    staircase=False)\n",
        "\n",
        "# Define optimizer\n",
        "optimizer = tf.keras.optimizers.Adam(learning_rate=lr_schedule, name='Adam')\n",
        "\n",
        "# define model\n",
        "def dl_bin_class_model():\n",
        "    model = tf.keras.Sequential([\n",
        "        Dense(64, activation='relu', input_dim=12),\n",
        "        Dense(32, activation='relu'),\n",
        "        Dense(1, activation='sigmoid')])\n",
        "\n",
        "      # Compile the model with custom optimizer and metrics\n",
        "    model.compile(optimizer=optimizer,\n",
        "                  loss='binary_crossentropy',\n",
        "                  metrics=['accuracy', tf.keras.metrics.Recall()])\n",
        "    return model\n",
        "\n",
        "# model\n",
        "model = dl_bin_class_model()\n",
        "\n",
        "\n",
        "# Train model\n",
        "with tf.device('/device:GPU:0'):\n",
        "  history = model.fit(X_train_preprocessed,\n",
        "                    y_train_preprocessed,\n",
        "                    validation_split=0.2,\n",
        "                    batch_size=BATCH_SIZE,\n",
        "                    epochs=EPOCHS,\n",
        "                    verbose=1)"
      ],
      "metadata": {
        "colab": {
          "base_uri": "https://localhost:8080/"
        },
        "id": "30G2WsCZ1otB",
        "outputId": "fe903504-4e76-42bd-f9a1-7504aed57b12"
      },
      "execution_count": 13,
      "outputs": [
        {
          "output_type": "stream",
          "name": "stdout",
          "text": [
            "Epoch 1/50\n",
            "4967/4967 [==============================] - 20s 3ms/step - loss: 0.3723 - accuracy: 0.8244 - recall: 0.7801 - val_loss: 0.4037 - val_accuracy: 0.8378 - val_recall: 0.8378\n",
            "Epoch 2/50\n",
            "4967/4967 [==============================] - 17s 3ms/step - loss: 0.2504 - accuracy: 0.8939 - recall: 0.8829 - val_loss: 0.2368 - val_accuracy: 0.9269 - val_recall: 0.9269\n",
            "Epoch 3/50\n",
            "4967/4967 [==============================] - 17s 3ms/step - loss: 0.2061 - accuracy: 0.9158 - recall: 0.9121 - val_loss: 0.2254 - val_accuracy: 0.9236 - val_recall: 0.9236\n",
            "Epoch 4/50\n",
            "4967/4967 [==============================] - 17s 3ms/step - loss: 0.1825 - accuracy: 0.9285 - recall: 0.9280 - val_loss: 0.2455 - val_accuracy: 0.9140 - val_recall: 0.9140\n",
            "Epoch 5/50\n",
            "4967/4967 [==============================] - 17s 3ms/step - loss: 0.1669 - accuracy: 0.9355 - recall: 0.9359 - val_loss: 0.1614 - val_accuracy: 0.9488 - val_recall: 0.9488\n",
            "Epoch 6/50\n",
            "4967/4967 [==============================] - 17s 3ms/step - loss: 0.1545 - accuracy: 0.9410 - recall: 0.9423 - val_loss: 0.1853 - val_accuracy: 0.9419 - val_recall: 0.9419\n",
            "Epoch 7/50\n",
            "4967/4967 [==============================] - 17s 3ms/step - loss: 0.1442 - accuracy: 0.9453 - recall: 0.9473 - val_loss: 0.1303 - val_accuracy: 0.9644 - val_recall: 0.9644\n",
            "Epoch 8/50\n",
            "4967/4967 [==============================] - 17s 3ms/step - loss: 0.1371 - accuracy: 0.9475 - recall: 0.9494 - val_loss: 0.1534 - val_accuracy: 0.9543 - val_recall: 0.9543\n",
            "Epoch 9/50\n",
            "4967/4967 [==============================] - 17s 3ms/step - loss: 0.1306 - accuracy: 0.9507 - recall: 0.9533 - val_loss: 0.1230 - val_accuracy: 0.9667 - val_recall: 0.9667\n",
            "Epoch 10/50\n",
            "4967/4967 [==============================] - 17s 3ms/step - loss: 0.1258 - accuracy: 0.9530 - recall: 0.9557 - val_loss: 0.1261 - val_accuracy: 0.9663 - val_recall: 0.9663\n",
            "Epoch 11/50\n",
            "4967/4967 [==============================] - 17s 3ms/step - loss: 0.1213 - accuracy: 0.9550 - recall: 0.9585 - val_loss: 0.1248 - val_accuracy: 0.9681 - val_recall: 0.9681\n",
            "Epoch 12/50\n",
            "4967/4967 [==============================] - 17s 3ms/step - loss: 0.1179 - accuracy: 0.9565 - recall: 0.9602 - val_loss: 0.1240 - val_accuracy: 0.9671 - val_recall: 0.9671\n",
            "Epoch 13/50\n",
            "4967/4967 [==============================] - 17s 3ms/step - loss: 0.1145 - accuracy: 0.9581 - recall: 0.9619 - val_loss: 0.1364 - val_accuracy: 0.9617 - val_recall: 0.9617\n",
            "Epoch 14/50\n",
            "4967/4967 [==============================] - 17s 3ms/step - loss: 0.1120 - accuracy: 0.9592 - recall: 0.9632 - val_loss: 0.1269 - val_accuracy: 0.9627 - val_recall: 0.9627\n",
            "Epoch 15/50\n",
            "4967/4967 [==============================] - 17s 3ms/step - loss: 0.1094 - accuracy: 0.9604 - recall: 0.9641 - val_loss: 0.1265 - val_accuracy: 0.9657 - val_recall: 0.9657\n",
            "Epoch 16/50\n",
            "4967/4967 [==============================] - 17s 3ms/step - loss: 0.1069 - accuracy: 0.9612 - recall: 0.9652 - val_loss: 0.1188 - val_accuracy: 0.9671 - val_recall: 0.9671\n",
            "Epoch 17/50\n",
            "4967/4967 [==============================] - 17s 3ms/step - loss: 0.1054 - accuracy: 0.9618 - recall: 0.9661 - val_loss: 0.1151 - val_accuracy: 0.9703 - val_recall: 0.9703\n",
            "Epoch 18/50\n",
            "4967/4967 [==============================] - 17s 3ms/step - loss: 0.1033 - accuracy: 0.9631 - recall: 0.9676 - val_loss: 0.1353 - val_accuracy: 0.9624 - val_recall: 0.9624\n",
            "Epoch 19/50\n",
            "4967/4967 [==============================] - 17s 3ms/step - loss: 0.1019 - accuracy: 0.9635 - recall: 0.9680 - val_loss: 0.1243 - val_accuracy: 0.9667 - val_recall: 0.9667\n",
            "Epoch 20/50\n",
            "4967/4967 [==============================] - 17s 3ms/step - loss: 0.1004 - accuracy: 0.9642 - recall: 0.9681 - val_loss: 0.1047 - val_accuracy: 0.9724 - val_recall: 0.9724\n",
            "Epoch 21/50\n",
            "4967/4967 [==============================] - 17s 3ms/step - loss: 0.0987 - accuracy: 0.9649 - recall: 0.9698 - val_loss: 0.1169 - val_accuracy: 0.9686 - val_recall: 0.9686\n",
            "Epoch 22/50\n",
            "4967/4967 [==============================] - 17s 3ms/step - loss: 0.0974 - accuracy: 0.9654 - recall: 0.9700 - val_loss: 0.1181 - val_accuracy: 0.9675 - val_recall: 0.9675\n",
            "Epoch 23/50\n",
            "4967/4967 [==============================] - 17s 3ms/step - loss: 0.0964 - accuracy: 0.9659 - recall: 0.9708 - val_loss: 0.0912 - val_accuracy: 0.9793 - val_recall: 0.9793\n",
            "Epoch 24/50\n",
            "4967/4967 [==============================] - 17s 3ms/step - loss: 0.0951 - accuracy: 0.9663 - recall: 0.9710 - val_loss: 0.0925 - val_accuracy: 0.9774 - val_recall: 0.9774\n",
            "Epoch 25/50\n",
            "4967/4967 [==============================] - 17s 3ms/step - loss: 0.0942 - accuracy: 0.9668 - recall: 0.9714 - val_loss: 0.1377 - val_accuracy: 0.9586 - val_recall: 0.9586\n",
            "Epoch 26/50\n",
            "4967/4967 [==============================] - 17s 3ms/step - loss: 0.0932 - accuracy: 0.9675 - recall: 0.9724 - val_loss: 0.1132 - val_accuracy: 0.9693 - val_recall: 0.9693\n",
            "Epoch 27/50\n",
            "4967/4967 [==============================] - 17s 3ms/step - loss: 0.0922 - accuracy: 0.9681 - recall: 0.9726 - val_loss: 0.1206 - val_accuracy: 0.9668 - val_recall: 0.9668\n",
            "Epoch 28/50\n",
            "4967/4967 [==============================] - 17s 3ms/step - loss: 0.0913 - accuracy: 0.9682 - recall: 0.9725 - val_loss: 0.1068 - val_accuracy: 0.9717 - val_recall: 0.9717\n",
            "Epoch 29/50\n",
            "4967/4967 [==============================] - 17s 3ms/step - loss: 0.0904 - accuracy: 0.9686 - recall: 0.9738 - val_loss: 0.1078 - val_accuracy: 0.9724 - val_recall: 0.9724\n",
            "Epoch 30/50\n",
            "4967/4967 [==============================] - 17s 3ms/step - loss: 0.0897 - accuracy: 0.9687 - recall: 0.9731 - val_loss: 0.0923 - val_accuracy: 0.9774 - val_recall: 0.9774\n",
            "Epoch 31/50\n",
            "4967/4967 [==============================] - 17s 3ms/step - loss: 0.0889 - accuracy: 0.9694 - recall: 0.9746 - val_loss: 0.1030 - val_accuracy: 0.9754 - val_recall: 0.9754\n",
            "Epoch 32/50\n",
            "4967/4967 [==============================] - 17s 3ms/step - loss: 0.0882 - accuracy: 0.9695 - recall: 0.9742 - val_loss: 0.1059 - val_accuracy: 0.9720 - val_recall: 0.9720\n",
            "Epoch 33/50\n",
            "4967/4967 [==============================] - 17s 3ms/step - loss: 0.0878 - accuracy: 0.9695 - recall: 0.9742 - val_loss: 0.0957 - val_accuracy: 0.9773 - val_recall: 0.9773\n",
            "Epoch 34/50\n",
            "4967/4967 [==============================] - 17s 3ms/step - loss: 0.0869 - accuracy: 0.9700 - recall: 0.9746 - val_loss: 0.0912 - val_accuracy: 0.9792 - val_recall: 0.9792\n",
            "Epoch 35/50\n",
            "4967/4967 [==============================] - 17s 3ms/step - loss: 0.0865 - accuracy: 0.9701 - recall: 0.9747 - val_loss: 0.0939 - val_accuracy: 0.9771 - val_recall: 0.9771\n",
            "Epoch 36/50\n",
            "4967/4967 [==============================] - 17s 3ms/step - loss: 0.0857 - accuracy: 0.9702 - recall: 0.9748 - val_loss: 0.0905 - val_accuracy: 0.9790 - val_recall: 0.9790\n",
            "Epoch 37/50\n",
            "4967/4967 [==============================] - 17s 3ms/step - loss: 0.0853 - accuracy: 0.9706 - recall: 0.9756 - val_loss: 0.0999 - val_accuracy: 0.9739 - val_recall: 0.9739\n",
            "Epoch 38/50\n",
            "4967/4967 [==============================] - 17s 3ms/step - loss: 0.0848 - accuracy: 0.9704 - recall: 0.9745 - val_loss: 0.0965 - val_accuracy: 0.9760 - val_recall: 0.9760\n",
            "Epoch 39/50\n",
            "4967/4967 [==============================] - 17s 3ms/step - loss: 0.0841 - accuracy: 0.9708 - recall: 0.9750 - val_loss: 0.0889 - val_accuracy: 0.9789 - val_recall: 0.9789\n",
            "Epoch 40/50\n",
            "4967/4967 [==============================] - 17s 3ms/step - loss: 0.0839 - accuracy: 0.9713 - recall: 0.9763 - val_loss: 0.0939 - val_accuracy: 0.9773 - val_recall: 0.9773\n",
            "Epoch 41/50\n",
            "4967/4967 [==============================] - 17s 3ms/step - loss: 0.0833 - accuracy: 0.9714 - recall: 0.9762 - val_loss: 0.0918 - val_accuracy: 0.9770 - val_recall: 0.9770\n",
            "Epoch 42/50\n",
            "4967/4967 [==============================] - 17s 3ms/step - loss: 0.0831 - accuracy: 0.9714 - recall: 0.9761 - val_loss: 0.1013 - val_accuracy: 0.9749 - val_recall: 0.9749\n",
            "Epoch 43/50\n",
            "4967/4967 [==============================] - 17s 3ms/step - loss: 0.0825 - accuracy: 0.9716 - recall: 0.9761 - val_loss: 0.0934 - val_accuracy: 0.9769 - val_recall: 0.9769\n",
            "Epoch 44/50\n",
            "4967/4967 [==============================] - 17s 3ms/step - loss: 0.0823 - accuracy: 0.9718 - recall: 0.9764 - val_loss: 0.0979 - val_accuracy: 0.9749 - val_recall: 0.9749\n",
            "Epoch 45/50\n",
            "4967/4967 [==============================] - 17s 3ms/step - loss: 0.0818 - accuracy: 0.9724 - recall: 0.9774 - val_loss: 0.0981 - val_accuracy: 0.9768 - val_recall: 0.9768\n",
            "Epoch 46/50\n",
            "4967/4967 [==============================] - 17s 3ms/step - loss: 0.0814 - accuracy: 0.9724 - recall: 0.9773 - val_loss: 0.1007 - val_accuracy: 0.9738 - val_recall: 0.9738\n",
            "Epoch 47/50\n",
            "4967/4967 [==============================] - 17s 3ms/step - loss: 0.0808 - accuracy: 0.9726 - recall: 0.9773 - val_loss: 0.0860 - val_accuracy: 0.9798 - val_recall: 0.9798\n",
            "Epoch 48/50\n",
            "4967/4967 [==============================] - 17s 3ms/step - loss: 0.0808 - accuracy: 0.9722 - recall: 0.9767 - val_loss: 0.0910 - val_accuracy: 0.9775 - val_recall: 0.9775\n",
            "Epoch 49/50\n",
            "4967/4967 [==============================] - 17s 3ms/step - loss: 0.0804 - accuracy: 0.9727 - recall: 0.9771 - val_loss: 0.0930 - val_accuracy: 0.9775 - val_recall: 0.9775\n",
            "Epoch 50/50\n",
            "4967/4967 [==============================] - 17s 3ms/step - loss: 0.0799 - accuracy: 0.9731 - recall: 0.9778 - val_loss: 0.0986 - val_accuracy: 0.9743 - val_recall: 0.9743\n"
          ]
        }
      ]
    },
    {
      "cell_type": "code",
      "source": [
        "'''# Evaluate the model\n",
        "test_loss, test_accuracy = model.evaluate(X_test_preprocessed, y_test)\n",
        "print(f'Test Loss: {test_loss}, Test Accuracy: {test_accuracy}')'''\n"
      ],
      "metadata": {
        "id": "xseC-mgCzi0U"
      },
      "execution_count": null,
      "outputs": []
    },
    {
      "cell_type": "code",
      "source": [
        "# Assuming you have already trained your model and obtained predictions on the test data\n",
        "y_pred = model.predict(X_test_preprocessed)\n",
        "\n",
        "threshold = 0.5  # Adjust the threshold as needed\n",
        "y_pred_binary = (y_pred >= threshold).astype(int)\n",
        "\n",
        "# Print classification report\n",
        "print(classification_report(y_test, y_pred_binary))"
      ],
      "metadata": {
        "colab": {
          "base_uri": "https://localhost:8080/"
        },
        "id": "eLI4OUFFxA-r",
        "outputId": "8158b433-b085-47ed-ae60-d5943e7bd386"
      },
      "execution_count": 15,
      "outputs": [
        {
          "output_type": "stream",
          "name": "stdout",
          "text": [
            "1093/1093 [==============================] - 1s 1ms/step\n",
            "              precision    recall  f1-score   support\n",
            "\n",
            "         0.0       0.93      0.89      0.91     32472\n",
            "         1.0       0.09      0.14      0.11      2484\n",
            "\n",
            "    accuracy                           0.84     34956\n",
            "   macro avg       0.51      0.52      0.51     34956\n",
            "weighted avg       0.87      0.84      0.85     34956\n",
            "\n"
          ]
        }
      ]
    },
    {
      "cell_type": "code",
      "source": [],
      "metadata": {
        "id": "voiBNpOfyZu9"
      },
      "execution_count": null,
      "outputs": []
    },
    {
      "cell_type": "code",
      "source": [],
      "metadata": {
        "id": "DhiLknxr5MT2"
      },
      "execution_count": null,
      "outputs": []
    },
    {
      "cell_type": "code",
      "source": [],
      "metadata": {
        "id": "QWg3kYN_5MWg"
      },
      "execution_count": null,
      "outputs": []
    },
    {
      "cell_type": "code",
      "source": [],
      "metadata": {
        "id": "g82EQZFT5MY5"
      },
      "execution_count": null,
      "outputs": []
    },
    {
      "cell_type": "code",
      "source": [],
      "metadata": {
        "id": "uz0u-Xgd5Mep"
      },
      "execution_count": null,
      "outputs": []
    },
    {
      "cell_type": "code",
      "source": [],
      "metadata": {
        "id": "DHtAKBWT5MhK"
      },
      "execution_count": null,
      "outputs": []
    },
    {
      "cell_type": "code",
      "source": [],
      "metadata": {
        "id": "hOUWSegE5MjT"
      },
      "execution_count": null,
      "outputs": []
    },
    {
      "cell_type": "code",
      "source": [],
      "metadata": {
        "id": "DUQkF7vG5Mld"
      },
      "execution_count": null,
      "outputs": []
    },
    {
      "cell_type": "code",
      "source": [],
      "metadata": {
        "id": "e_vt3PcI5MnL"
      },
      "execution_count": null,
      "outputs": []
    },
    {
      "cell_type": "code",
      "source": [],
      "metadata": {
        "id": "qZ05P7Lf5MqH"
      },
      "execution_count": null,
      "outputs": []
    },
    {
      "cell_type": "code",
      "source": [],
      "metadata": {
        "id": "_BofalNW5Mso"
      },
      "execution_count": null,
      "outputs": []
    },
    {
      "cell_type": "code",
      "source": [
        "# Define your deep learning model\n",
        "model = Sequential([\n",
        "    Dense(64, activation='relu', input_dim=12),  # Example input_dim\n",
        "    Dense(32, activation='relu'),\n",
        "    Dense(1, activation='sigmoid')  # Example output layer for binary classification\n",
        "])\n",
        "\n",
        "# Compile the model\n",
        "model.compile(optimizer='adam',\n",
        "              loss='binary_crossentropy',\n",
        "              metrics=['recall'])\n",
        "\n",
        "# Train the model\n",
        "model.fit(X_train_preprocessed, y_train_preprocessed, epochs=10, batch_size=32, validation_split=0.2)\n",
        "\n",
        "# Evaluate the model\n",
        "test_loss, test_accuracy = model.evaluate(X_test_preprocessed, y_test)\n",
        "print(f'Test Loss: {test_loss}, Test Accuracy: {test_accuracy}')\n",
        "\n",
        "# Make predictions (optional)\n",
        "predictions = model.predict(X_test_preprocessed)"
      ],
      "metadata": {
        "colab": {
          "base_uri": "https://localhost:8080/"
        },
        "id": "YCobVq7Lv4MG",
        "outputId": "3931adb5-bbad-4adc-e0f1-86f390ceea8e"
      },
      "execution_count": 39,
      "outputs": [
        {
          "output_type": "stream",
          "name": "stdout",
          "text": [
            "Epoch 1/10\n",
            "4967/4967 [==============================] - 15s 3ms/step - loss: 0.4285 - accuracy: 0.7931 - val_loss: 0.5099 - val_accuracy: 0.7659\n",
            "Epoch 2/10\n",
            "4967/4967 [==============================] - 12s 2ms/step - loss: 0.3371 - accuracy: 0.8475 - val_loss: 0.3326 - val_accuracy: 0.8813\n",
            "Epoch 3/10\n",
            "4967/4967 [==============================] - 13s 3ms/step - loss: 0.2945 - accuracy: 0.8728 - val_loss: 0.3802 - val_accuracy: 0.8529\n",
            "Epoch 4/10\n",
            "4967/4967 [==============================] - 10s 2ms/step - loss: 0.2676 - accuracy: 0.8873 - val_loss: 0.3962 - val_accuracy: 0.8365\n",
            "Epoch 5/10\n",
            "4967/4967 [==============================] - 9s 2ms/step - loss: 0.2486 - accuracy: 0.8967 - val_loss: 0.3867 - val_accuracy: 0.8401\n",
            "Epoch 6/10\n",
            "4967/4967 [==============================] - 11s 2ms/step - loss: 0.2346 - accuracy: 0.9041 - val_loss: 0.2775 - val_accuracy: 0.9042\n",
            "Epoch 7/10\n",
            "4967/4967 [==============================] - 13s 3ms/step - loss: 0.2228 - accuracy: 0.9107 - val_loss: 0.2123 - val_accuracy: 0.9352\n",
            "Epoch 8/10\n",
            "4967/4967 [==============================] - 15s 3ms/step - loss: 0.2137 - accuracy: 0.9155 - val_loss: 0.1919 - val_accuracy: 0.9466\n",
            "Epoch 9/10\n",
            "4967/4967 [==============================] - 10s 2ms/step - loss: 0.2053 - accuracy: 0.9200 - val_loss: 0.3101 - val_accuracy: 0.8793\n",
            "Epoch 10/10\n",
            "4967/4967 [==============================] - 10s 2ms/step - loss: 0.1981 - accuracy: 0.9229 - val_loss: 0.2170 - val_accuracy: 0.9188\n",
            "1093/1093 [==============================] - 2s 2ms/step - loss: 0.8290 - accuracy: 0.7737\n",
            "Test Loss: 0.8289769291877747, Test Accuracy: 0.7737441062927246\n",
            "1093/1093 [==============================] - 1s 1ms/step\n"
          ]
        }
      ]
    }
  ]
}