{
  "nbformat": 4,
  "nbformat_minor": 0,
  "metadata": {
    "colab": {
      "provenance": [],
      "authorship_tag": "ABX9TyNI/apEo6i89VbZIQuvfftS"
    },
    "kernelspec": {
      "name": "python3",
      "display_name": "Python 3"
    },
    "language_info": {
      "name": "python"
    }
  },
  "cells": [
    {
      "cell_type": "markdown",
      "source": [
        "##**Solar energy feed-in data in 15-minute intervals**\n",
        "\n",
        "In this notebook we read and process the data downloaded as a csv file from the website below. The data relate to the TenneT area of Schleswig-Holstein and are available both historically and forecast.\n",
        "\n",
        "Website: https://netztransparenz.tennet.eu/electricity-market/transparency-pages/transparency-germany/network-figures/actual-and-forecast-solar-energy-feed-in/schleswig-holstein/\n",
        "\n",
        "As a first step, download the data for 2020 to 2024 from the specified website and store it as \"sh_solar_feedin_2020_24.csv\" in your google drive."
      ],
      "metadata": {
        "id": "39VKdBh1T0Qj"
      }
    },
    {
      "cell_type": "code",
      "execution_count": 1,
      "metadata": {
        "id": "3UJk7KpzTo9c"
      },
      "outputs": [],
      "source": [
        "# packages\n",
        "import os\n",
        "import pandas as pd\n",
        "from datetime import datetime"
      ]
    },
    {
      "cell_type": "code",
      "source": [
        "# mount your google drive\n",
        "from google.colab import drive\n",
        "drive.mount('/content/drive')"
      ],
      "metadata": {
        "colab": {
          "base_uri": "https://localhost:8080/"
        },
        "id": "zp29ZfkyT6GB",
        "outputId": "33515344-4fd4-4faa-f7ac-cb07e75b0492"
      },
      "execution_count": 2,
      "outputs": [
        {
          "output_type": "stream",
          "name": "stdout",
          "text": [
            "Mounted at /content/drive\n"
          ]
        }
      ]
    },
    {
      "cell_type": "code",
      "source": [
        "# searching for files and load data\n",
        "\n",
        "def search_file(directory, filename):\n",
        "    for root, dirs, files in os.walk(directory):\n",
        "        if filename in files:\n",
        "            return os.path.join(root, filename)\n",
        "    return None\n",
        "\n",
        "search_directory = '/content/drive/My Drive'\n",
        "file_name = 'sh_solar_feedin_2020_24.csv' # change the name if required (if stored differently)\n",
        "file_path = search_file(search_directory, file_name)\n",
        "\n",
        "df_solar_feedin = pd.read_csv(file_path, sep = ';')"
      ],
      "metadata": {
        "id": "qOm46f8yE1aa"
      },
      "execution_count": 8,
      "outputs": []
    },
    {
      "cell_type": "code",
      "source": [
        "# rename/translate column names\n",
        "column_name_mapping = {\n",
        "    'Date': 'date',\n",
        "    'Start Time': 'start',\n",
        "    'End Time' : 'end',\n",
        "    'Forecast in MW': 'forecast_solar_MW',\n",
        "    'Actual in MW': 'actual_solar_MW'\n",
        "}\n",
        "\n",
        "df_solar_feedin = df_solar_feedin.rename(columns=column_name_mapping)\n",
        "\n",
        "# convert time columns to datetime and set start date as new index\n",
        "df_solar_feedin['start'] = pd.to_datetime(df_solar_feedin['date'] + ' ' + df_solar_feedin['start'])\n",
        "df_solar_feedin = df_solar_feedin.drop('date', axis = 1)\n",
        "df_solar_feedin = df_solar_feedin.drop('end', axis = 1)\n",
        "df_solar_feedin.set_index('start', inplace=True)\n",
        "\n",
        "# change german to english numbering conventions\n",
        "columns_to_float = ['forecast_solar_MW', 'actual_solar_MW']\n",
        "\n",
        "for column in columns_to_float:\n",
        "  df_solar_feedin[column] = df_solar_feedin[column].str.replace(',', '.')\n",
        "  df_solar_feedin[column] = df_solar_feedin[column].astype(float)\n",
        "\n",
        "df_solar_feedin = df_solar_feedin.div(15).round(2)"
      ],
      "metadata": {
        "id": "x0sSW2INVO-i"
      },
      "execution_count": 10,
      "outputs": []
    },
    {
      "cell_type": "code",
      "source": [
        "# create folder in google drive if not exists\n",
        "folder_path = '/content/drive/My Drive/wind_curtailment_prediction'\n",
        "\n",
        "if not os.path.exists(folder_path):\n",
        "    os.makedirs(folder_path)\n",
        "    print(\"Folder created successfully.\")\n",
        "else:\n",
        "    print(\"Folder already exists.\")"
      ],
      "metadata": {
        "colab": {
          "base_uri": "https://localhost:8080/"
        },
        "id": "yFCS-Z5hIkzR",
        "outputId": "5b6b4505-3e44-42e2-aaca-5c0303e8a48c"
      },
      "execution_count": 12,
      "outputs": [
        {
          "output_type": "stream",
          "name": "stdout",
          "text": [
            "Folder created successfully.\n"
          ]
        }
      ]
    },
    {
      "cell_type": "code",
      "source": [
        "# save csv\n",
        "df_solar_feedin.to_csv('/content/drive/My Drive/wind_curtailment_prediction/solar_feedin_2020_24.csv',sep = ';', index_label='timestamp')"
      ],
      "metadata": {
        "id": "ChFEKpouXnHA"
      },
      "execution_count": 14,
      "outputs": []
    }
  ]
}