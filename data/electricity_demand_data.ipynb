{
  "nbformat": 4,
  "nbformat_minor": 0,
  "metadata": {
    "colab": {
      "provenance": [],
      "authorship_tag": "ABX9TyNkc0txKHBBUQ3EuyskfdCL"
    },
    "kernelspec": {
      "name": "python3",
      "display_name": "Python 3"
    },
    "language_info": {
      "name": "python"
    }
  },
  "cells": [
    {
      "cell_type": "markdown",
      "source": [
        "## **Electricity demand data in 15-minute intervals**\n",
        "\n",
        "In this notebook we read and process the data downloaded as a csv file from the website below. The data relate to the electricity demand data of Germany and are available both historically and forecast.\n",
        "\n",
        "Website: https://www.smard.de/home/downloadcenter/download-marktdaten/?downloadAttributes=%7B%22selectedCategory%22:2,%22selectedSubCategory%22:5,%22selectedRegion%22:%22DE%22,%22selectedFileType%22:%22CSV%22,%22from%22:1577833200000,%22to%22:1704149999999%7D\n",
        "\n",
        "As a first step, download the data for 2020 to 2024 from the specified website and store it as \"de_electricity_demand_2020_24.csv\" in your google drive folder \"wind_curtailment_prediction\"."
      ],
      "metadata": {
        "id": "FazpJ8m9qsFF"
      }
    },
    {
      "cell_type": "code",
      "execution_count": 1,
      "metadata": {
        "id": "HKQPfPQnqHKp"
      },
      "outputs": [],
      "source": [
        "# packages\n",
        "import os\n",
        "import pandas as pd\n",
        "from datetime import datetime"
      ]
    },
    {
      "cell_type": "code",
      "source": [
        "# mount your google drive\n",
        "from google.colab import drive\n",
        "drive.mount('/content/drive')"
      ],
      "metadata": {
        "colab": {
          "base_uri": "https://localhost:8080/"
        },
        "id": "Dx4V4oGBq5SA",
        "outputId": "28b4872a-8b92-45d9-ce82-bca782a1a3eb"
      },
      "execution_count": 2,
      "outputs": [
        {
          "output_type": "stream",
          "name": "stdout",
          "text": [
            "Mounted at /content/drive\n"
          ]
        }
      ]
    },
    {
      "cell_type": "code",
      "source": [
        "# create folder in google drive if not exists\n",
        "folder_path = '/content/drive/My Drive/wind_curtailment_prediction'\n",
        "\n",
        "if not os.path.exists(folder_path):\n",
        "    os.makedirs(folder_path)\n",
        "    print(\"Folder created successfully.\")\n",
        "else:\n",
        "    print(\"Folder already exists.\")"
      ],
      "metadata": {
        "id": "uCvDi0EbL-nH",
        "outputId": "5b67f884-6b6c-429d-83b5-032b67a3fcbd",
        "colab": {
          "base_uri": "https://localhost:8080/"
        }
      },
      "execution_count": 5,
      "outputs": [
        {
          "output_type": "stream",
          "name": "stdout",
          "text": [
            "Folder already exists.\n"
          ]
        }
      ]
    },
    {
      "cell_type": "code",
      "source": [
        "# searching for files and load data\n",
        "def search_file(directory, filename):\n",
        "    for root, dirs, files in os.walk(directory):\n",
        "        if filename in files:\n",
        "            return os.path.join(root, filename)\n",
        "    return None\n",
        "\n",
        "search_directory = '/content/drive/My Drive'\n",
        "file_name = 'de_electricity_demand_2020_24.csv' # change the name if required (if stored differently)\n",
        "file_path = search_file(search_directory, file_name)\n",
        "\n",
        "df_el_demand = pd.read_csv(file_path, sep = ';')"
      ],
      "metadata": {
        "id": "QTyjqlyFKY_l"
      },
      "execution_count": 13,
      "outputs": []
    },
    {
      "cell_type": "code",
      "source": [
        "# rename/translate selected columns\n",
        "columns_to_keep = ['Datum', 'Anfang', 'Ende', 'Gesamt (Netzlast) [MWh] Originalauflösungen',\n",
        "                  'Residuallast [MWh] Originalauflösungen',\n",
        "                   'Pumpspeicher [MWh] Originalauflösungen']\n",
        "\n",
        "column_name_mapping = {\n",
        "    'Datum': 'date',\n",
        "    'Anfang': 'start',\n",
        "    'Ende' : 'end',\n",
        "    'Gesamt (Netzlast) [MWh] Originalauflösungen': 'total_grid_load_MWh',\n",
        "    'Residuallast [MWh] Originalauflösungen': 'residual_load_MWh',\n",
        "    'Pumpspeicher [MWh] Originalauflösungen': 'pumped_storage_MWh'\n",
        "}\n",
        "\n",
        "df_el_demand = df_el_demand[columns_to_keep].rename(columns=column_name_mapping)\n",
        "\n",
        "# convert time columns to datetime and set start date as new index\n",
        "df_el_demand['start'] = pd.to_datetime(df_el_demand['date'] + ' ' + df_el_demand['start'], format='%d.%m.%Y %H:%M')\n",
        "df_el_demand = df_el_demand.drop('date', axis = 1)\n",
        "df_el_demand = df_el_demand.drop('end', axis = 1)\n",
        "df_el_demand.set_index('start', inplace=True)\n",
        "\n",
        "# change german to english numbering conventions\n",
        "columns_to_float = ['total_grid_load_MWh', 'residual_load_MWh', 'pumped_storage_MWh']\n",
        "\n",
        "for column in columns_to_float:\n",
        "  df_el_demand[column] = df_el_demand[column].str.replace('.', '')\n",
        "  df_el_demand[column] = df_el_demand[column].str.replace(',', '.')\n",
        "  df_el_demand[column] = df_el_demand[column].astype(float)\n",
        "\n",
        "df_el_demand = df_el_demand.div(15).round(2)"
      ],
      "metadata": {
        "id": "KQI2th1pq2T4"
      },
      "execution_count": 14,
      "outputs": []
    },
    {
      "cell_type": "code",
      "source": [
        "# save csv\n",
        "df_el_demand.to_csv('/content/drive/My Drive/wind_curtailment_prediction/electricity_demand_2020_24.csv',sep = ';', index_label='timestamp')"
      ],
      "metadata": {
        "id": "EcVqbKrGxS2q"
      },
      "execution_count": 15,
      "outputs": []
    }
  ]
}