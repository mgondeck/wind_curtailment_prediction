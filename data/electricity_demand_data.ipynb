{
  "nbformat": 4,
  "nbformat_minor": 0,
  "metadata": {
    "colab": {
      "provenance": [],
      "authorship_tag": "ABX9TyPjOJmAbQ9RqJ0RbxQn+5ys"
    },
    "kernelspec": {
      "name": "python3",
      "display_name": "Python 3"
    },
    "language_info": {
      "name": "python"
    }
  },
  "cells": [
    {
      "cell_type": "markdown",
      "source": [
        "## Historical and forecast data electricity demand of Germany 15-min"
      ],
      "metadata": {
        "id": "FazpJ8m9qsFF"
      }
    },
    {
      "cell_type": "code",
      "execution_count": null,
      "metadata": {
        "id": "HKQPfPQnqHKp"
      },
      "outputs": [],
      "source": [
        "# packages\n",
        "import os\n",
        "import pandas as pd\n",
        "from datetime import datetime"
      ]
    },
    {
      "cell_type": "code",
      "source": [
        "# mount your google drive\n",
        "from google.colab import drive\n",
        "drive.mount('/content/drive')"
      ],
      "metadata": {
        "colab": {
          "base_uri": "https://localhost:8080/"
        },
        "id": "Dx4V4oGBq5SA",
        "outputId": "9ba61916-bf09-4b5c-91d5-93060eee1d2f"
      },
      "execution_count": null,
      "outputs": [
        {
          "output_type": "stream",
          "name": "stdout",
          "text": [
            "Drive already mounted at /content/drive; to attempt to forcibly remount, call drive.mount(\"/content/drive\", force_remount=True).\n"
          ]
        }
      ]
    },
    {
      "cell_type": "markdown",
      "source": [
        "**Electricity demand data of Germany**\n",
        "\n",
        "Website: https://www.smard.de/home/downloadcenter/download-marktdaten/?downloadAttributes=%7B%22selectedCategory%22:2,%22selectedSubCategory%22:5,%22selectedRegion%22:%22DE%22,%22selectedFileType%22:%22CSV%22,%22from%22:1577833200000,%22to%22:1704149999999%7D"
      ],
      "metadata": {
        "id": "-Sgn4q1vqZP3"
      }
    },
    {
      "cell_type": "code",
      "source": [
        "df_el_demand = pd.read_csv(\"/content/drive/My Drive/ms_wind_curtailment_prediction/de_electricity_demand_2020_24.csv\", sep = ';')\n",
        "\n",
        "columns_to_keep = ['Datum', 'Anfang', 'Ende', 'Gesamt (Netzlast) [MWh] Originalauflösungen',\n",
        "                  'Residuallast [MWh] Originalauflösungen',\n",
        "                   'Pumpspeicher [MWh] Originalauflösungen']\n",
        "\n",
        "column_name_mapping = {\n",
        "    'Datum': 'date',\n",
        "    'Anfang': 'start',\n",
        "    'Ende' : 'end',\n",
        "    'Gesamt (Netzlast) [MWh] Originalauflösungen': 'total_grid_load_MWh',\n",
        "    'Residuallast [MWh] Originalauflösungen': 'residual_load_MWh',\n",
        "    'Pumpspeicher [MWh] Originalauflösungen': 'pumped_storage_MWh'\n",
        "}\n",
        "\n",
        "df_el_demand = df_el_demand[columns_to_keep].rename(columns=column_name_mapping)\n",
        "\n",
        "# Convert time columns to datetime\n",
        "df_el_demand['start'] = pd.to_datetime(df_el_demand['date'] + ' ' + df_el_demand['start'])\n",
        "df_el_demand = df_el_demand.drop('date', axis = 1)\n",
        "df_el_demand = df_el_demand.drop('end', axis = 1)\n",
        "df_el_demand.set_index('start', inplace=True)\n",
        "\n",
        "columns_to_float = ['total_grid_load_MWh', 'residual_load_MWh', 'pumped_storage_MWh']\n",
        "\n",
        "for column in columns_to_float:\n",
        "  df_el_demand[column] = df_el_demand[column].str.replace('.', '')\n",
        "  df_el_demand[column] = df_el_demand[column].str.replace(',', '.')\n",
        "  df_el_demand[column] = df_el_demand[column].astype(float)\n",
        "\n",
        "df_el_demand = df_el_demand.div(15).round(2)"
      ],
      "metadata": {
        "colab": {
          "base_uri": "https://localhost:8080/"
        },
        "id": "KQI2th1pq2T4",
        "outputId": "4e6d8719-d859-414c-d04a-30bcd5557bd1"
      },
      "execution_count": null,
      "outputs": [
        {
          "output_type": "stream",
          "name": "stderr",
          "text": [
            "<ipython-input-99-d5f098cca720>:28: FutureWarning: The default value of regex will change from True to False in a future version. In addition, single character regular expressions will *not* be treated as literal strings when regex=True.\n",
            "  df_el_demand[column] = df_el_demand[column].str.replace('.', '')\n"
          ]
        }
      ]
    },
    {
      "cell_type": "code",
      "source": [
        "# save csv\n",
        "df_el_demand.to_csv('/content/drive/My Drive/ms_wind_curtailment_prediction/electricity_demand_2020_24.csv',sep = ';', index_label='timestamp')"
      ],
      "metadata": {
        "id": "EcVqbKrGxS2q"
      },
      "execution_count": null,
      "outputs": []
    },
    {
      "cell_type": "code",
      "source": [],
      "metadata": {
        "id": "nbOqXmIhQmoT"
      },
      "execution_count": null,
      "outputs": []
    }
  ]
}