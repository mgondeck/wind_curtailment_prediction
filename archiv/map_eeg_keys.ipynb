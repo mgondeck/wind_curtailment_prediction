{
 "cells": [
  {
   "cell_type": "markdown",
   "id": "e8826a15-ac6e-4f84-a33e-5b9902ded975",
   "metadata": {},
   "source": [
    "**Map EEG-keys with algorithm**"
   ]
  },
  {
   "cell_type": "code",
   "execution_count": null,
   "id": "39101c8c-3b20-4787-a7fa-254666f95bb6",
   "metadata": {},
   "outputs": [],
   "source": [
    "# packages\n",
    "import pandas as pd\n",
    "import matplotlib.pyplot as plt\n",
    "from sklearn.model_selection import train_test_split\n",
    "from sklearn.ensemble import RandomForestClassifier\n",
    "from sklearn.metrics import accuracy_score, confusion_matrix\n",
    "\n",
    "from sklearn.preprocessing import StandardScaler, LabelEncoder\n",
    "from tensorflow.keras.models import Sequential\n",
    "from tensorflow.keras.layers import Embedding, Flatten, Dense\n",
    "\n",
    "import seaborn as sns"
   ]
  },
  {
   "cell_type": "code",
   "execution_count": null,
   "id": "dc5f0abf-7fe7-41db-9ace-9667c1e465b1",
   "metadata": {},
   "outputs": [],
   "source": [
    "# select important features and target value\n",
    "columns_to_select = ['plant_key_eeg', 'plant_type']\n",
    "df_eeg_analyse = df_eeg[columns_to_select]\n",
    "\n",
    "# drop rows with NaN values \n",
    "df_eeg_analyse = df_eeg_analyse.dropna()\n",
    "\n",
    "# Apply label encoding to the 'plant_type' column\n",
    "label_encoder = LabelEncoder()\n",
    "df_eeg_analyse['plant_type_encoded'] = label_encoder.fit_transform(df_eeg_analyse['plant_type'])\n",
    "\n",
    "# Print the mapping between original categories and encoded labels\n",
    "print(\"Original Categories:\", label_encoder.classes_)\n",
    "print(\"\\nEncoded Labels:\", label_encoder.transform(label_encoder.classes_))\n",
    "\n",
    "# Extract features from EEG keys and convert to numeric values\n",
    "df_eeg_analyse['operation_number'] = df_eeg_analyse['plant_key_eeg'].str[2:6]  # von der BNetzA vergebenen Betriebsnummer des Netzbetreibers\n",
    "df_eeg_analyse['network_number'] = df_eeg_analyse['plant_key_eeg'].str[6:8]  # von der BNetzA vergebene Netznummer des Netzes\n",
    "df_eeg_analyse['plant_number'] = df_eeg_analyse['plant_key_eeg'].str[-10:]  # (eig 8 aber dann buchstabe mit drin) Netzbetreiber-individuelle, alphanumerische Bezeichnung der Anlage\n",
    "\n",
    "# train random forest to maß features to plant key\n",
    "X = df_eeg_analyse[['operation_number', 'network_number', 'plant_number']] \n",
    "y = df_eeg_analyse['plant_type_encoded']  \n",
    "\n",
    "X_train, X_test, y_train, y_test = train_test_split(X, y, stratify = y, test_size=0.2, random_state=42)\n",
    "\n",
    "eeg_plant_model = RandomForestClassifier(n_estimators=100, random_state=7)\n",
    "eeg_plant_model.fit(X_train, y_train)\n",
    "\n",
    "# test model\n",
    "y_pred = eeg_plant_model.predict(X_test)\n",
    "accuracy = accuracy_score(y_test, y_pred)\n",
    "print(\"Accuracy:\", accuracy)\n",
    "\n",
    "conf_matrix = confusion_matrix(y_test, y_pred)\n",
    "plt.figure(figsize=(8, 6))\n",
    "sns.heatmap(conf_matrix, annot=True, fmt='d', cmap='Blues', cbar=False)\n",
    "plt.xlabel('Predicted labels')\n",
    "plt.ylabel('True labels')\n",
    "plt.title('Confusion Matrix')\n",
    "plt.show()\n",
    "\n",
    "# features\n",
    "df_redispatch['operation_number'] = df_redispatch['plant_key'].str[2:6]\n",
    "df_redispatch['network_number'] = df_redispatch['plant_key'].str[6:8]\n",
    "df_redispatch['plant_number'] = df_redispatch['plant_key'].str[-10:]\n",
    "\n",
    "df_redispatch['operation_number'] = pd.to_numeric(df_redispatch['operation_number'], errors='coerce')\n",
    "df_redispatch['network_number'] = pd.to_numeric(df_redispatch['network_number'], errors='coerce')\n",
    "df_redispatch['plant_number'] = pd.to_numeric(df_redispatch['plant_number'], errors='coerce')\n",
    "\n",
    "df_redispatch.dropna(inplace=True)\n",
    "\n",
    "encoded_to_plant_type = {0: 'biomass', 1: 'solar', 2: 'wind'}\n",
    "predicted_plant_type_encoded = eeg_plant_model.predict(df_redispatch[['operation_number', 'network_number', 'plant_number']])\n",
    "predicted_plant_type = [encoded_to_plant_type[label] for label in predicted_plant_type_encoded]\n",
    "df_redispatch['predicted_plant_type'] = predicted_plant_type\n",
    "\n",
    "predicted_plant_probabilities = eeg_plant_model.predict_proba(df_redispatch[['operation_number', 'network_number', 'plant_number']])\n",
    "\n",
    "df_redispatch['prob_biomass'] = predicted_plant_probabilities[:, 0]  \n",
    "df_redispatch['prob_solar'] = predicted_plant_probabilities[:, 1]  \n",
    "df_redispatch['prob_wind'] = predicted_plant_probabilities[:, 2]  "
   ]
  }
 ],
 "metadata": {
  "kernelspec": {
   "display_name": "Python 3 (ipykernel)",
   "language": "python",
   "name": "python3"
  },
  "language_info": {
   "codemirror_mode": {
    "name": "ipython",
    "version": 3
   },
   "file_extension": ".py",
   "mimetype": "text/x-python",
   "name": "python",
   "nbconvert_exporter": "python",
   "pygments_lexer": "ipython3",
   "version": "3.11.3"
  }
 },
 "nbformat": 4,
 "nbformat_minor": 5
}
