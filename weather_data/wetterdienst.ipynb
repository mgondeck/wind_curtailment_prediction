{
  "cells": [
    {
      "cell_type": "markdown",
      "id": "cb8480ba-5ea3-4229-a62f-90c18a5a27f5",
      "metadata": {
        "id": "cb8480ba-5ea3-4229-a62f-90c18a5a27f5"
      },
      "source": [
        "Pip install the following packages\n",
        "1. wetterdienst\n",
        "2. shapely\n",
        "3. utm"
      ]
    },
    {
      "cell_type": "code",
      "execution_count": 1,
      "id": "d0403d7b-48d5-43e6-b61b-9d069e755d9a",
      "metadata": {
        "tags": [],
        "id": "d0403d7b-48d5-43e6-b61b-9d069e755d9a",
        "outputId": "a9e7b626-90f2-49cc-e7b0-2d674a6a3499",
        "colab": {
          "base_uri": "https://localhost:8080/"
        }
      },
      "outputs": [
        {
          "output_type": "stream",
          "name": "stderr",
          "text": [
            "WARNING:pint.util:Redefining 'percent' (<class 'pint.delegates.txt_defparser.plain.UnitDefinition'>)\n"
          ]
        }
      ],
      "source": [
        "import os\n",
        "import pandas as pd\n",
        "import polars as pl\n",
        "import pathlib\n",
        "import datetime as dt\n",
        "import utm\n",
        "from datetime import date, timedelta\n",
        "from scipy.interpolate import LinearNDInterpolator\n",
        "from shapely.geometry import Point, Polygon\n",
        "from wetterdienst import Settings, Resolution, Period, Parameter\n",
        "from wetterdienst.provider.dwd.observation import DwdObservationRequest, DwdObservationDataset, DwdObservationPeriod, DwdObservationResolution"
      ]
    },
    {
      "cell_type": "code",
      "source": [
        "from google.colab import drive\n",
        "drive.mount('/content/drive')"
      ],
      "metadata": {
        "colab": {
          "base_uri": "https://localhost:8080/"
        },
        "id": "u9L8YDA2yEKr",
        "outputId": "c4f02374-2e62-45d1-c828-6ba495979ee1"
      },
      "id": "u9L8YDA2yEKr",
      "execution_count": 2,
      "outputs": [
        {
          "output_type": "stream",
          "name": "stdout",
          "text": [
            "Drive already mounted at /content/drive; to attempt to forcibly remount, call drive.mount(\"/content/drive\", force_remount=True).\n"
          ]
        }
      ]
    },
    {
      "cell_type": "code",
      "execution_count": 3,
      "id": "ded04d7f-ad02-41af-aaa5-6910ce65a374",
      "metadata": {
        "tags": [],
        "id": "ded04d7f-ad02-41af-aaa5-6910ce65a374"
      },
      "outputs": [],
      "source": [
        "settings = Settings(\n",
        "    ts_shape=\"long\",\n",
        "    ts_humanize=True,\n",
        "    ts_si_units=True\n",
        ")"
      ]
    },
    {
      "cell_type": "markdown",
      "id": "260c91b2-bd1f-444f-a6a1-15426d45a854",
      "metadata": {
        "id": "260c91b2-bd1f-444f-a6a1-15426d45a854"
      },
      "source": [
        "All the observations we would need are as follows\n",
        "1. wind_speed\n",
        "2. wind_direction\n",
        "3. radiation_global\n",
        "4. air_temperature\n",
        "5. humidity\n",
        "6. wind_gust_max\n",
        "7. extreme_wind\n",
        "8. wind_direction_gust_max"
      ]
    },
    {
      "cell_type": "markdown",
      "id": "cf136496-c32d-40e5-8bce-9ab0a2b52a57",
      "metadata": {
        "id": "cf136496-c32d-40e5-8bce-9ab0a2b52a57"
      },
      "source": [
        "There are 298 weather stations in germany"
      ]
    },
    {
      "cell_type": "markdown",
      "id": "bfb5e103-7fe5-4971-b76e-1bbd436d1224",
      "metadata": {
        "id": "bfb5e103-7fe5-4971-b76e-1bbd436d1224"
      },
      "source": [
        "**INTERPOLATION**\n",
        "\n",
        "The function leverages the four closest stations to your specified latitude and longitude and employs the bilinear interpolation method provided by the scipy package (interp2d) to interpolate the given parameter values. Currently, this interpolation feature is exclusive to DWDObservationRequest and parameters temperature_air_mean_200, wind_speed, precipitation_height. As it is in its early stages, we welcome feedback to enhance and refine its functionality. Interpolation by nearby stations is limited to a distance of 40 km by default (20.0 km for precipitation). You can change this by setting the ts_interpolation_station_distance setting.\n"
      ]
    },
    {
      "cell_type": "code",
      "execution_count": 4,
      "id": "7adee812-e26f-4c11-ad3f-66520b2dcef9",
      "metadata": {
        "tags": [],
        "id": "7adee812-e26f-4c11-ad3f-66520b2dcef9"
      },
      "outputs": [],
      "source": [
        "langenhorn = (54.679, 8.908)"
      ]
    },
    {
      "cell_type": "markdown",
      "source": [
        "Station ID - 02907\n",
        "Latitude - 54.7903\n",
        "Longitude - 8.9514\n",
        "Name - \"Leck\"\n",
        "State - Schleswig Holstein\n",
        "Distance from langenhorn - 12.685km"
      ],
      "metadata": {
        "id": "pAbPzCrSfm4V"
      },
      "id": "pAbPzCrSfm4V"
    },
    {
      "cell_type": "code",
      "execution_count": 5,
      "id": "7a7e34e8-3053-437e-8075-ec8c8e45620c",
      "metadata": {
        "tags": [],
        "id": "7a7e34e8-3053-437e-8075-ec8c8e45620c"
      },
      "outputs": [],
      "source": [
        "def get_weather_datas(param):\n",
        "    request = DwdObservationRequest(\n",
        "        parameter=[\n",
        "             param\n",
        "        ],\n",
        "        resolution=\"10_minutes\",\n",
        "        start_date=\"2019-12-31 22:50:00\",\n",
        "        end_date=\"2023-12-31 00:00:00\",\n",
        "        settings=settings\n",
        "    )\n",
        "    stations = request.filter_by_rank(latlon=langenhorn, rank=1)\n",
        "    df = stations.values.all().df.drop_nulls()\n",
        "    return df"
      ]
    },
    {
      "cell_type": "markdown",
      "id": "a7854f5f-46e0-44c9-9215-fe4f34d21b57",
      "metadata": {
        "id": "a7854f5f-46e0-44c9-9215-fe4f34d21b57"
      },
      "source": [
        "**Weather attributes**"
      ]
    },
    {
      "cell_type": "code",
      "execution_count": 6,
      "id": "0c864a88-2524-4d4a-8ba9-d13a474564a1",
      "metadata": {
        "tags": [],
        "id": "0c864a88-2524-4d4a-8ba9-d13a474564a1"
      },
      "outputs": [],
      "source": [
        "df_wind_speed = get_weather_datas(\"wind_speed\") # mean of wind speed during the last 10 minutes in m/s\n",
        "df_wind_speed = df_wind_speed.drop([\"dataset\", \"parameter\", \"quality\"])\n",
        "df_wind_speed = df_wind_speed.rename({\"value\": \"wind_speed_m/s\"})"
      ]
    },
    {
      "cell_type": "code",
      "execution_count": 7,
      "id": "632e46be-f417-4100-93b9-3c6ba24b42c1",
      "metadata": {
        "tags": [],
        "id": "632e46be-f417-4100-93b9-3c6ba24b42c1"
      },
      "outputs": [],
      "source": [
        "df_wind_direction = get_weather_datas(\"wind_direction\") # mean of wind direction during the last 10 minutes in degrees\n",
        "df_wind_direction = df_wind_direction.drop([\"dataset\", \"parameter\", \"quality\"])\n",
        "df_wind_direction = df_wind_direction.rename({\"value\": \"wind_direction_degrees\"})"
      ]
    },
    {
      "cell_type": "code",
      "execution_count": 8,
      "id": "946264bb-c7f4-4450-800f-7021ced370f3",
      "metadata": {
        "tags": [],
        "id": "946264bb-c7f4-4450-800f-7021ced370f3"
      },
      "outputs": [],
      "source": [
        "df_radiation_global = get_weather_datas(\"radiation_global\") # 10min-sum of solar incoming radiation in J/m2\n",
        "df_radiation_global = df_radiation_global.drop([\"dataset\", \"parameter\", \"quality\"])\n",
        "df_radiation_global = df_radiation_global.rename({\"value\": \"radiation_global_J/m2\"})"
      ]
    },
    {
      "cell_type": "code",
      "execution_count": 9,
      "id": "1c3550d1-135a-451b-98d6-c488d2b4f9a8",
      "metadata": {
        "tags": [],
        "id": "1c3550d1-135a-451b-98d6-c488d2b4f9a8"
      },
      "outputs": [],
      "source": [
        "df_air_temperature = get_weather_datas(\"temperature_air_mean_200\") # air temperature at 2m height\n",
        "df_air_temperature = df_air_temperature.drop([\"dataset\", \"parameter\", \"quality\"])\n",
        "df_air_temperature = df_air_temperature.rename({\"value\": \"air_temperature_K\"})"
      ]
    },
    {
      "cell_type": "code",
      "execution_count": 10,
      "id": "d9b1ad8a-2b01-471b-89e2-668bbb534f63",
      "metadata": {
        "tags": [],
        "id": "d9b1ad8a-2b01-471b-89e2-668bbb534f63"
      },
      "outputs": [],
      "source": [
        "df_humidity = get_weather_datas(\"humidity\") # relative humidity at 2m height in %\n",
        "df_humidity = df_humidity.drop([\"dataset\", \"parameter\", \"quality\"])\n",
        "df_humidity = df_humidity.rename({\"value\": \"humidity_percent\"})"
      ]
    },
    {
      "cell_type": "code",
      "execution_count": 11,
      "id": "e2cca63d-7c5c-456b-be34-b881feabb7b0",
      "metadata": {
        "tags": [],
        "id": "e2cca63d-7c5c-456b-be34-b881feabb7b0"
      },
      "outputs": [],
      "source": [
        "df_wind_gust_max = get_weather_datas(\"wind_gust_max\")# # maximum wind gust of the last 10 minutes, the instrument samples the instantaneous wind velocity every 0.25 seconds, and writes out the max value of a 3 second period, the highest occuring within the 10min interval is given here as the maximum wind gust.\n",
        "df_wind_gust_max = df_wind_gust_max.drop([\"dataset\", \"parameter\", \"quality\"])\n",
        "df_wind_gust_max = df_wind_gust_max.rename({\"value\": \"wind_gust_max_m/s\"})"
      ]
    },
    {
      "cell_type": "code",
      "execution_count": 12,
      "id": "44e96739-c97e-4a57-8fcc-aa4ccb528ccf",
      "metadata": {
        "tags": [],
        "id": "44e96739-c97e-4a57-8fcc-aa4ccb528ccf"
      },
      "outputs": [],
      "source": [
        "df_wind_direction_gust_max = get_weather_datas(\"wind_direction_gust_max\") # wind direction of highest wind gust\n",
        "df_wind_direction_gust_max = df_wind_direction_gust_max.drop([\"dataset\", \"parameter\", \"quality\"])\n",
        "df_wind_direction_gust_max = df_wind_direction_gust_max.rename({\"value\": \"wind_direction_gust_max_degrees\"})"
      ]
    },
    {
      "cell_type": "markdown",
      "id": "7100afc6-3ecc-45de-b313-d91ac7ab426c",
      "metadata": {
        "id": "7100afc6-3ecc-45de-b313-d91ac7ab426c"
      },
      "source": [
        "**Joining all dataframes into one master df**"
      ]
    },
    {
      "cell_type": "code",
      "execution_count": 13,
      "id": "959b8a47-e6c2-49cc-81e5-89608a53fb4c",
      "metadata": {
        "tags": [],
        "id": "959b8a47-e6c2-49cc-81e5-89608a53fb4c"
      },
      "outputs": [],
      "source": [
        "new_df = df_wind_speed.join(df_wind_direction, on=[\"station_id\",\"date\"], how = \"inner\")"
      ]
    },
    {
      "cell_type": "code",
      "execution_count": 14,
      "id": "1e6e55d6-39c1-49b6-997e-b8391900865c",
      "metadata": {
        "tags": [],
        "id": "1e6e55d6-39c1-49b6-997e-b8391900865c"
      },
      "outputs": [],
      "source": [
        "new_df = new_df.join(df_radiation_global, on=[\"station_id\",\"date\"], how = \"inner\")"
      ]
    },
    {
      "cell_type": "code",
      "execution_count": 15,
      "id": "b510cd29-038c-47f2-ba16-cb48b2292e41",
      "metadata": {
        "tags": [],
        "id": "b510cd29-038c-47f2-ba16-cb48b2292e41"
      },
      "outputs": [],
      "source": [
        "new_df = new_df.join(df_air_temperature, on=[\"station_id\",\"date\"], how = \"inner\")"
      ]
    },
    {
      "cell_type": "code",
      "execution_count": 16,
      "id": "769d6646-ac29-4cf8-ba00-866024a4461c",
      "metadata": {
        "tags": [],
        "id": "769d6646-ac29-4cf8-ba00-866024a4461c"
      },
      "outputs": [],
      "source": [
        "new_df = new_df.join(df_humidity, on=[\"station_id\",\"date\"], how = \"inner\")"
      ]
    },
    {
      "cell_type": "code",
      "execution_count": 17,
      "id": "6b18f94f-b3db-4bd7-9a42-3a375b3b1478",
      "metadata": {
        "tags": [],
        "id": "6b18f94f-b3db-4bd7-9a42-3a375b3b1478"
      },
      "outputs": [],
      "source": [
        "new_df = new_df.join(df_wind_gust_max, on=[\"station_id\",\"date\"], how = \"inner\")"
      ]
    },
    {
      "cell_type": "code",
      "execution_count": 18,
      "id": "07c0d63d-f049-4ef5-aaae-bec40781cf2a",
      "metadata": {
        "tags": [],
        "id": "07c0d63d-f049-4ef5-aaae-bec40781cf2a",
        "outputId": "d341ae08-68ea-4207-bddd-a8ff40437572",
        "colab": {
          "base_uri": "https://localhost:8080/",
          "height": 359
        }
      },
      "outputs": [
        {
          "output_type": "execute_result",
          "data": {
            "text/plain": [
              "shape: (5, 9)\n",
              "┌───────────┬───────────┬───────────┬───────────┬───┬───────────┬───────────┬───────────┬──────────┐\n",
              "│ station_i ┆ date      ┆ wind_spee ┆ wind_dire ┆ … ┆ air_tempe ┆ humidity_ ┆ wind_gust ┆ wind_dir │\n",
              "│ d         ┆ ---       ┆ d_m/s     ┆ ction_deg ┆   ┆ rature_K  ┆ percent   ┆ _max_m/s  ┆ ection_g │\n",
              "│ ---       ┆ datetime[ ┆ ---       ┆ rees      ┆   ┆ ---       ┆ ---       ┆ ---       ┆ ust_max_ │\n",
              "│ str       ┆ μs, UTC]  ┆ f64       ┆ ---       ┆   ┆ f64       ┆ f64       ┆ f64       ┆ degrees  │\n",
              "│           ┆           ┆           ┆ f64       ┆   ┆           ┆           ┆           ┆ ---      │\n",
              "│           ┆           ┆           ┆           ┆   ┆           ┆           ┆           ┆ f64      │\n",
              "╞═══════════╪═══════════╪═══════════╪═══════════╪═══╪═══════════╪═══════════╪═══════════╪══════════╡\n",
              "│ 02907     ┆ 2019-12-3 ┆ 2.0       ┆ 260.0     ┆ … ┆ 278.35    ┆ 81.9      ┆ 2.9       ┆ 250.0    │\n",
              "│           ┆ 1         ┆           ┆           ┆   ┆           ┆           ┆           ┆          │\n",
              "│           ┆ 22:50:00  ┆           ┆           ┆   ┆           ┆           ┆           ┆          │\n",
              "│           ┆ UTC       ┆           ┆           ┆   ┆           ┆           ┆           ┆          │\n",
              "│ 02907     ┆ 2019-12-3 ┆ 2.1       ┆ 250.0     ┆ … ┆ 278.45    ┆ 80.7      ┆ 3.3       ┆ 250.0    │\n",
              "│           ┆ 1         ┆           ┆           ┆   ┆           ┆           ┆           ┆          │\n",
              "│           ┆ 23:00:00  ┆           ┆           ┆   ┆           ┆           ┆           ┆          │\n",
              "│           ┆ UTC       ┆           ┆           ┆   ┆           ┆           ┆           ┆          │\n",
              "│ 02907     ┆ 2019-12-3 ┆ 2.9       ┆ 270.0     ┆ … ┆ 278.65    ┆ 79.2      ┆ 4.9       ┆ 270.0    │\n",
              "│           ┆ 1         ┆           ┆           ┆   ┆           ┆           ┆           ┆          │\n",
              "│           ┆ 23:10:00  ┆           ┆           ┆   ┆           ┆           ┆           ┆          │\n",
              "│           ┆ UTC       ┆           ┆           ┆   ┆           ┆           ┆           ┆          │\n",
              "│ 02907     ┆ 2019-12-3 ┆ 2.5       ┆ 260.0     ┆ … ┆ 278.45    ┆ 80.7      ┆ 3.6       ┆ 260.0    │\n",
              "│           ┆ 1         ┆           ┆           ┆   ┆           ┆           ┆           ┆          │\n",
              "│           ┆ 23:20:00  ┆           ┆           ┆   ┆           ┆           ┆           ┆          │\n",
              "│           ┆ UTC       ┆           ┆           ┆   ┆           ┆           ┆           ┆          │\n",
              "│ 02907     ┆ 2019-12-3 ┆ 2.4       ┆ 240.0     ┆ … ┆ 278.45    ┆ 80.4      ┆ 3.5       ┆ 250.0    │\n",
              "│           ┆ 1         ┆           ┆           ┆   ┆           ┆           ┆           ┆          │\n",
              "│           ┆ 23:30:00  ┆           ┆           ┆   ┆           ┆           ┆           ┆          │\n",
              "│           ┆ UTC       ┆           ┆           ┆   ┆           ┆           ┆           ┆          │\n",
              "└───────────┴───────────┴───────────┴───────────┴───┴───────────┴───────────┴───────────┴──────────┘"
            ],
            "text/html": [
              "<div><style>\n",
              ".dataframe > thead > tr,\n",
              ".dataframe > tbody > tr {\n",
              "  text-align: right;\n",
              "  white-space: pre-wrap;\n",
              "}\n",
              "</style>\n",
              "<small>shape: (5, 9)</small><table border=\"1\" class=\"dataframe\"><thead><tr><th>station_id</th><th>date</th><th>wind_speed_m/s</th><th>wind_direction_degrees</th><th>radiation_global_J/m2</th><th>air_temperature_K</th><th>humidity_percent</th><th>wind_gust_max_m/s</th><th>wind_direction_gust_max_degrees</th></tr><tr><td>str</td><td>datetime[μs, UTC]</td><td>f64</td><td>f64</td><td>f64</td><td>f64</td><td>f64</td><td>f64</td><td>f64</td></tr></thead><tbody><tr><td>&quot;02907&quot;</td><td>2019-12-31 22:50:00 UTC</td><td>2.0</td><td>260.0</td><td>0.0</td><td>278.35</td><td>81.9</td><td>2.9</td><td>250.0</td></tr><tr><td>&quot;02907&quot;</td><td>2019-12-31 23:00:00 UTC</td><td>2.1</td><td>250.0</td><td>0.0</td><td>278.45</td><td>80.7</td><td>3.3</td><td>250.0</td></tr><tr><td>&quot;02907&quot;</td><td>2019-12-31 23:10:00 UTC</td><td>2.9</td><td>270.0</td><td>0.0</td><td>278.65</td><td>79.2</td><td>4.9</td><td>270.0</td></tr><tr><td>&quot;02907&quot;</td><td>2019-12-31 23:20:00 UTC</td><td>2.5</td><td>260.0</td><td>0.0</td><td>278.45</td><td>80.7</td><td>3.6</td><td>260.0</td></tr><tr><td>&quot;02907&quot;</td><td>2019-12-31 23:30:00 UTC</td><td>2.4</td><td>240.0</td><td>0.0</td><td>278.45</td><td>80.4</td><td>3.5</td><td>250.0</td></tr></tbody></table></div>"
            ]
          },
          "metadata": {},
          "execution_count": 18
        }
      ],
      "source": [
        "new_df = new_df.join(df_wind_direction_gust_max, on=[\"station_id\",\"date\"], how = \"inner\")"
      ]
    },
    {
      "cell_type": "markdown",
      "source": [
        "**Removing Station_id column since all the stations are the same - 02907**"
      ],
      "metadata": {
        "id": "IlPd2I8Ul1sO"
      },
      "id": "IlPd2I8Ul1sO"
    },
    {
      "cell_type": "code",
      "source": [
        "new_df = new_df.drop([\"station_id\"])\n",
        "new_df.head()"
      ],
      "metadata": {
        "colab": {
          "base_uri": "https://localhost:8080/",
          "height": 255
        },
        "id": "hp9Lq36Wl_xN",
        "outputId": "6b42f724-5c10-43cf-d937-34bce896b1c7"
      },
      "id": "hp9Lq36Wl_xN",
      "execution_count": 19,
      "outputs": [
        {
          "output_type": "execute_result",
          "data": {
            "text/plain": [
              "shape: (5, 8)\n",
              "┌────────────┬────────────┬────────────┬───────────┬───────────┬───────────┬───────────┬───────────┐\n",
              "│ date       ┆ wind_speed ┆ wind_direc ┆ radiation ┆ air_tempe ┆ humidity_ ┆ wind_gust ┆ wind_dire │\n",
              "│ ---        ┆ _m/s       ┆ tion_degre ┆ _global_J ┆ rature_K  ┆ percent   ┆ _max_m/s  ┆ ction_gus │\n",
              "│ datetime[μ ┆ ---        ┆ es         ┆ /m2       ┆ ---       ┆ ---       ┆ ---       ┆ t_max_deg │\n",
              "│ s, UTC]    ┆ f64        ┆ ---        ┆ ---       ┆ f64       ┆ f64       ┆ f64       ┆ rees      │\n",
              "│            ┆            ┆ f64        ┆ f64       ┆           ┆           ┆           ┆ ---       │\n",
              "│            ┆            ┆            ┆           ┆           ┆           ┆           ┆ f64       │\n",
              "╞════════════╪════════════╪════════════╪═══════════╪═══════════╪═══════════╪═══════════╪═══════════╡\n",
              "│ 2019-12-31 ┆ 2.0        ┆ 260.0      ┆ 0.0       ┆ 278.35    ┆ 81.9      ┆ 2.9       ┆ 250.0     │\n",
              "│ 22:50:00   ┆            ┆            ┆           ┆           ┆           ┆           ┆           │\n",
              "│ UTC        ┆            ┆            ┆           ┆           ┆           ┆           ┆           │\n",
              "│ 2019-12-31 ┆ 2.1        ┆ 250.0      ┆ 0.0       ┆ 278.45    ┆ 80.7      ┆ 3.3       ┆ 250.0     │\n",
              "│ 23:00:00   ┆            ┆            ┆           ┆           ┆           ┆           ┆           │\n",
              "│ UTC        ┆            ┆            ┆           ┆           ┆           ┆           ┆           │\n",
              "│ 2019-12-31 ┆ 2.9        ┆ 270.0      ┆ 0.0       ┆ 278.65    ┆ 79.2      ┆ 4.9       ┆ 270.0     │\n",
              "│ 23:10:00   ┆            ┆            ┆           ┆           ┆           ┆           ┆           │\n",
              "│ UTC        ┆            ┆            ┆           ┆           ┆           ┆           ┆           │\n",
              "│ 2019-12-31 ┆ 2.5        ┆ 260.0      ┆ 0.0       ┆ 278.45    ┆ 80.7      ┆ 3.6       ┆ 260.0     │\n",
              "│ 23:20:00   ┆            ┆            ┆           ┆           ┆           ┆           ┆           │\n",
              "│ UTC        ┆            ┆            ┆           ┆           ┆           ┆           ┆           │\n",
              "│ 2019-12-31 ┆ 2.4        ┆ 240.0      ┆ 0.0       ┆ 278.45    ┆ 80.4      ┆ 3.5       ┆ 250.0     │\n",
              "│ 23:30:00   ┆            ┆            ┆           ┆           ┆           ┆           ┆           │\n",
              "│ UTC        ┆            ┆            ┆           ┆           ┆           ┆           ┆           │\n",
              "└────────────┴────────────┴────────────┴───────────┴───────────┴───────────┴───────────┴───────────┘"
            ],
            "text/html": [
              "<div><style>\n",
              ".dataframe > thead > tr,\n",
              ".dataframe > tbody > tr {\n",
              "  text-align: right;\n",
              "  white-space: pre-wrap;\n",
              "}\n",
              "</style>\n",
              "<small>shape: (5, 8)</small><table border=\"1\" class=\"dataframe\"><thead><tr><th>date</th><th>wind_speed_m/s</th><th>wind_direction_degrees</th><th>radiation_global_J/m2</th><th>air_temperature_K</th><th>humidity_percent</th><th>wind_gust_max_m/s</th><th>wind_direction_gust_max_degrees</th></tr><tr><td>datetime[μs, UTC]</td><td>f64</td><td>f64</td><td>f64</td><td>f64</td><td>f64</td><td>f64</td><td>f64</td></tr></thead><tbody><tr><td>2019-12-31 22:50:00 UTC</td><td>2.0</td><td>260.0</td><td>0.0</td><td>278.35</td><td>81.9</td><td>2.9</td><td>250.0</td></tr><tr><td>2019-12-31 23:00:00 UTC</td><td>2.1</td><td>250.0</td><td>0.0</td><td>278.45</td><td>80.7</td><td>3.3</td><td>250.0</td></tr><tr><td>2019-12-31 23:10:00 UTC</td><td>2.9</td><td>270.0</td><td>0.0</td><td>278.65</td><td>79.2</td><td>4.9</td><td>270.0</td></tr><tr><td>2019-12-31 23:20:00 UTC</td><td>2.5</td><td>260.0</td><td>0.0</td><td>278.45</td><td>80.7</td><td>3.6</td><td>260.0</td></tr><tr><td>2019-12-31 23:30:00 UTC</td><td>2.4</td><td>240.0</td><td>0.0</td><td>278.45</td><td>80.4</td><td>3.5</td><td>250.0</td></tr></tbody></table></div>"
            ]
          },
          "metadata": {},
          "execution_count": 19
        }
      ]
    },
    {
      "cell_type": "code",
      "source": [
        "# Group the DataFrame by the rounded down timestamp at 5-minute intervals and aggregate the values with the mean function\n",
        "df_resampled = new_df['date'].dt.offset_by(\"5m\").alias(\"date_5m\")"
      ],
      "metadata": {
        "id": "62D7qrpD9PcS"
      },
      "id": "62D7qrpD9PcS",
      "execution_count": 20,
      "outputs": []
    },
    {
      "cell_type": "code",
      "source": [
        "pandas_df = new_df.to_pandas()\n",
        "pandas_df.info()\n",
        "\n",
        "# Set the datetime column as the index\n",
        "pandas_df.set_index('date', inplace=True)\n",
        "\n",
        "# Resample the DataFrame to 5-minute intervals\n",
        "df_resampled = pandas_df.resample('5T').mean()\n",
        "\n",
        "# Interpolate the missing values to fill in the gaps\n",
        "df_interpolated = df_resampled.interpolate(method='linear')\n",
        "\n",
        "# Reset the index to make the datetime column a regular column again\n",
        "df_interpolated.reset_index(inplace=True)\n",
        "\n",
        "# Print the new DataFrame\n",
        "df_interpolated"
      ],
      "metadata": {
        "id": "oM1UkQ6jpjfa",
        "outputId": "f8eafc08-3a32-42be-aede-26317b57c359",
        "colab": {
          "base_uri": "https://localhost:8080/",
          "height": 858
        }
      },
      "id": "oM1UkQ6jpjfa",
      "execution_count": 21,
      "outputs": [
        {
          "output_type": "stream",
          "name": "stdout",
          "text": [
            "<class 'pandas.core.frame.DataFrame'>\n",
            "RangeIndex: 209055 entries, 0 to 209054\n",
            "Data columns (total 8 columns):\n",
            " #   Column                           Non-Null Count   Dtype              \n",
            "---  ------                           --------------   -----              \n",
            " 0   date                             209055 non-null  datetime64[ns, UTC]\n",
            " 1   wind_speed_m/s                   209055 non-null  float64            \n",
            " 2   wind_direction_degrees           209055 non-null  float64            \n",
            " 3   radiation_global_J/m2            209055 non-null  float64            \n",
            " 4   air_temperature_K                209055 non-null  float64            \n",
            " 5   humidity_percent                 209055 non-null  float64            \n",
            " 6   wind_gust_max_m/s                209055 non-null  float64            \n",
            " 7   wind_direction_gust_max_degrees  209055 non-null  float64            \n",
            "dtypes: datetime64[ns, UTC](1), float64(7)\n",
            "memory usage: 12.8 MB\n"
          ]
        },
        {
          "output_type": "execute_result",
          "data": {
            "text/plain": [
              "                            date  wind_speed_m/s  wind_direction_degrees  \\\n",
              "0      2019-12-31 22:50:00+00:00            2.00                   260.0   \n",
              "1      2019-12-31 22:55:00+00:00            2.05                   255.0   \n",
              "2      2019-12-31 23:00:00+00:00            2.10                   250.0   \n",
              "3      2019-12-31 23:05:00+00:00            2.50                   260.0   \n",
              "4      2019-12-31 23:10:00+00:00            2.90                   270.0   \n",
              "...                          ...             ...                     ...   \n",
              "420490 2023-12-30 23:40:00+00:00            3.40                   170.0   \n",
              "420491 2023-12-30 23:45:00+00:00            3.40                   170.0   \n",
              "420492 2023-12-30 23:50:00+00:00            3.40                   170.0   \n",
              "420493 2023-12-30 23:55:00+00:00            3.40                   170.0   \n",
              "420494 2023-12-31 00:00:00+00:00            3.40                   170.0   \n",
              "\n",
              "        radiation_global_J/m2  air_temperature_K  humidity_percent  \\\n",
              "0                         0.0             278.35             81.90   \n",
              "1                         0.0             278.40             81.30   \n",
              "2                         0.0             278.45             80.70   \n",
              "3                         0.0             278.55             79.95   \n",
              "4                         0.0             278.65             79.20   \n",
              "...                       ...                ...               ...   \n",
              "420490                    0.0             279.75             95.00   \n",
              "420491                    0.0             279.75             94.90   \n",
              "420492                    0.0             279.75             94.80   \n",
              "420493                    0.0             279.70             94.85   \n",
              "420494                    0.0             279.65             94.90   \n",
              "\n",
              "        wind_gust_max_m/s  wind_direction_gust_max_degrees  \n",
              "0                    2.90                            250.0  \n",
              "1                    3.10                            250.0  \n",
              "2                    3.30                            250.0  \n",
              "3                    4.10                            260.0  \n",
              "4                    4.90                            270.0  \n",
              "...                   ...                              ...  \n",
              "420490               4.80                            160.0  \n",
              "420491               4.75                            165.0  \n",
              "420492               4.70                            170.0  \n",
              "420493               5.25                            170.0  \n",
              "420494               5.80                            170.0  \n",
              "\n",
              "[420495 rows x 8 columns]"
            ],
            "text/html": [
              "\n",
              "  <div id=\"df-c5cde3fd-3e62-4d09-8c40-c27f9a764838\" class=\"colab-df-container\">\n",
              "    <div>\n",
              "<style scoped>\n",
              "    .dataframe tbody tr th:only-of-type {\n",
              "        vertical-align: middle;\n",
              "    }\n",
              "\n",
              "    .dataframe tbody tr th {\n",
              "        vertical-align: top;\n",
              "    }\n",
              "\n",
              "    .dataframe thead th {\n",
              "        text-align: right;\n",
              "    }\n",
              "</style>\n",
              "<table border=\"1\" class=\"dataframe\">\n",
              "  <thead>\n",
              "    <tr style=\"text-align: right;\">\n",
              "      <th></th>\n",
              "      <th>date</th>\n",
              "      <th>wind_speed_m/s</th>\n",
              "      <th>wind_direction_degrees</th>\n",
              "      <th>radiation_global_J/m2</th>\n",
              "      <th>air_temperature_K</th>\n",
              "      <th>humidity_percent</th>\n",
              "      <th>wind_gust_max_m/s</th>\n",
              "      <th>wind_direction_gust_max_degrees</th>\n",
              "    </tr>\n",
              "  </thead>\n",
              "  <tbody>\n",
              "    <tr>\n",
              "      <th>0</th>\n",
              "      <td>2019-12-31 22:50:00+00:00</td>\n",
              "      <td>2.00</td>\n",
              "      <td>260.0</td>\n",
              "      <td>0.0</td>\n",
              "      <td>278.35</td>\n",
              "      <td>81.90</td>\n",
              "      <td>2.90</td>\n",
              "      <td>250.0</td>\n",
              "    </tr>\n",
              "    <tr>\n",
              "      <th>1</th>\n",
              "      <td>2019-12-31 22:55:00+00:00</td>\n",
              "      <td>2.05</td>\n",
              "      <td>255.0</td>\n",
              "      <td>0.0</td>\n",
              "      <td>278.40</td>\n",
              "      <td>81.30</td>\n",
              "      <td>3.10</td>\n",
              "      <td>250.0</td>\n",
              "    </tr>\n",
              "    <tr>\n",
              "      <th>2</th>\n",
              "      <td>2019-12-31 23:00:00+00:00</td>\n",
              "      <td>2.10</td>\n",
              "      <td>250.0</td>\n",
              "      <td>0.0</td>\n",
              "      <td>278.45</td>\n",
              "      <td>80.70</td>\n",
              "      <td>3.30</td>\n",
              "      <td>250.0</td>\n",
              "    </tr>\n",
              "    <tr>\n",
              "      <th>3</th>\n",
              "      <td>2019-12-31 23:05:00+00:00</td>\n",
              "      <td>2.50</td>\n",
              "      <td>260.0</td>\n",
              "      <td>0.0</td>\n",
              "      <td>278.55</td>\n",
              "      <td>79.95</td>\n",
              "      <td>4.10</td>\n",
              "      <td>260.0</td>\n",
              "    </tr>\n",
              "    <tr>\n",
              "      <th>4</th>\n",
              "      <td>2019-12-31 23:10:00+00:00</td>\n",
              "      <td>2.90</td>\n",
              "      <td>270.0</td>\n",
              "      <td>0.0</td>\n",
              "      <td>278.65</td>\n",
              "      <td>79.20</td>\n",
              "      <td>4.90</td>\n",
              "      <td>270.0</td>\n",
              "    </tr>\n",
              "    <tr>\n",
              "      <th>...</th>\n",
              "      <td>...</td>\n",
              "      <td>...</td>\n",
              "      <td>...</td>\n",
              "      <td>...</td>\n",
              "      <td>...</td>\n",
              "      <td>...</td>\n",
              "      <td>...</td>\n",
              "      <td>...</td>\n",
              "    </tr>\n",
              "    <tr>\n",
              "      <th>420490</th>\n",
              "      <td>2023-12-30 23:40:00+00:00</td>\n",
              "      <td>3.40</td>\n",
              "      <td>170.0</td>\n",
              "      <td>0.0</td>\n",
              "      <td>279.75</td>\n",
              "      <td>95.00</td>\n",
              "      <td>4.80</td>\n",
              "      <td>160.0</td>\n",
              "    </tr>\n",
              "    <tr>\n",
              "      <th>420491</th>\n",
              "      <td>2023-12-30 23:45:00+00:00</td>\n",
              "      <td>3.40</td>\n",
              "      <td>170.0</td>\n",
              "      <td>0.0</td>\n",
              "      <td>279.75</td>\n",
              "      <td>94.90</td>\n",
              "      <td>4.75</td>\n",
              "      <td>165.0</td>\n",
              "    </tr>\n",
              "    <tr>\n",
              "      <th>420492</th>\n",
              "      <td>2023-12-30 23:50:00+00:00</td>\n",
              "      <td>3.40</td>\n",
              "      <td>170.0</td>\n",
              "      <td>0.0</td>\n",
              "      <td>279.75</td>\n",
              "      <td>94.80</td>\n",
              "      <td>4.70</td>\n",
              "      <td>170.0</td>\n",
              "    </tr>\n",
              "    <tr>\n",
              "      <th>420493</th>\n",
              "      <td>2023-12-30 23:55:00+00:00</td>\n",
              "      <td>3.40</td>\n",
              "      <td>170.0</td>\n",
              "      <td>0.0</td>\n",
              "      <td>279.70</td>\n",
              "      <td>94.85</td>\n",
              "      <td>5.25</td>\n",
              "      <td>170.0</td>\n",
              "    </tr>\n",
              "    <tr>\n",
              "      <th>420494</th>\n",
              "      <td>2023-12-31 00:00:00+00:00</td>\n",
              "      <td>3.40</td>\n",
              "      <td>170.0</td>\n",
              "      <td>0.0</td>\n",
              "      <td>279.65</td>\n",
              "      <td>94.90</td>\n",
              "      <td>5.80</td>\n",
              "      <td>170.0</td>\n",
              "    </tr>\n",
              "  </tbody>\n",
              "</table>\n",
              "<p>420495 rows × 8 columns</p>\n",
              "</div>\n",
              "    <div class=\"colab-df-buttons\">\n",
              "\n",
              "  <div class=\"colab-df-container\">\n",
              "    <button class=\"colab-df-convert\" onclick=\"convertToInteractive('df-c5cde3fd-3e62-4d09-8c40-c27f9a764838')\"\n",
              "            title=\"Convert this dataframe to an interactive table.\"\n",
              "            style=\"display:none;\">\n",
              "\n",
              "  <svg xmlns=\"http://www.w3.org/2000/svg\" height=\"24px\" viewBox=\"0 -960 960 960\">\n",
              "    <path d=\"M120-120v-720h720v720H120Zm60-500h600v-160H180v160Zm220 220h160v-160H400v160Zm0 220h160v-160H400v160ZM180-400h160v-160H180v160Zm440 0h160v-160H620v160ZM180-180h160v-160H180v160Zm440 0h160v-160H620v160Z\"/>\n",
              "  </svg>\n",
              "    </button>\n",
              "\n",
              "  <style>\n",
              "    .colab-df-container {\n",
              "      display:flex;\n",
              "      gap: 12px;\n",
              "    }\n",
              "\n",
              "    .colab-df-convert {\n",
              "      background-color: #E8F0FE;\n",
              "      border: none;\n",
              "      border-radius: 50%;\n",
              "      cursor: pointer;\n",
              "      display: none;\n",
              "      fill: #1967D2;\n",
              "      height: 32px;\n",
              "      padding: 0 0 0 0;\n",
              "      width: 32px;\n",
              "    }\n",
              "\n",
              "    .colab-df-convert:hover {\n",
              "      background-color: #E2EBFA;\n",
              "      box-shadow: 0px 1px 2px rgba(60, 64, 67, 0.3), 0px 1px 3px 1px rgba(60, 64, 67, 0.15);\n",
              "      fill: #174EA6;\n",
              "    }\n",
              "\n",
              "    .colab-df-buttons div {\n",
              "      margin-bottom: 4px;\n",
              "    }\n",
              "\n",
              "    [theme=dark] .colab-df-convert {\n",
              "      background-color: #3B4455;\n",
              "      fill: #D2E3FC;\n",
              "    }\n",
              "\n",
              "    [theme=dark] .colab-df-convert:hover {\n",
              "      background-color: #434B5C;\n",
              "      box-shadow: 0px 1px 3px 1px rgba(0, 0, 0, 0.15);\n",
              "      filter: drop-shadow(0px 1px 2px rgba(0, 0, 0, 0.3));\n",
              "      fill: #FFFFFF;\n",
              "    }\n",
              "  </style>\n",
              "\n",
              "    <script>\n",
              "      const buttonEl =\n",
              "        document.querySelector('#df-c5cde3fd-3e62-4d09-8c40-c27f9a764838 button.colab-df-convert');\n",
              "      buttonEl.style.display =\n",
              "        google.colab.kernel.accessAllowed ? 'block' : 'none';\n",
              "\n",
              "      async function convertToInteractive(key) {\n",
              "        const element = document.querySelector('#df-c5cde3fd-3e62-4d09-8c40-c27f9a764838');\n",
              "        const dataTable =\n",
              "          await google.colab.kernel.invokeFunction('convertToInteractive',\n",
              "                                                    [key], {});\n",
              "        if (!dataTable) return;\n",
              "\n",
              "        const docLinkHtml = 'Like what you see? Visit the ' +\n",
              "          '<a target=\"_blank\" href=https://colab.research.google.com/notebooks/data_table.ipynb>data table notebook</a>'\n",
              "          + ' to learn more about interactive tables.';\n",
              "        element.innerHTML = '';\n",
              "        dataTable['output_type'] = 'display_data';\n",
              "        await google.colab.output.renderOutput(dataTable, element);\n",
              "        const docLink = document.createElement('div');\n",
              "        docLink.innerHTML = docLinkHtml;\n",
              "        element.appendChild(docLink);\n",
              "      }\n",
              "    </script>\n",
              "  </div>\n",
              "\n",
              "\n",
              "<div id=\"df-6d7ce883-32a8-4b19-9e5d-fdda0aafdc26\">\n",
              "  <button class=\"colab-df-quickchart\" onclick=\"quickchart('df-6d7ce883-32a8-4b19-9e5d-fdda0aafdc26')\"\n",
              "            title=\"Suggest charts\"\n",
              "            style=\"display:none;\">\n",
              "\n",
              "<svg xmlns=\"http://www.w3.org/2000/svg\" height=\"24px\"viewBox=\"0 0 24 24\"\n",
              "     width=\"24px\">\n",
              "    <g>\n",
              "        <path d=\"M19 3H5c-1.1 0-2 .9-2 2v14c0 1.1.9 2 2 2h14c1.1 0 2-.9 2-2V5c0-1.1-.9-2-2-2zM9 17H7v-7h2v7zm4 0h-2V7h2v10zm4 0h-2v-4h2v4z\"/>\n",
              "    </g>\n",
              "</svg>\n",
              "  </button>\n",
              "\n",
              "<style>\n",
              "  .colab-df-quickchart {\n",
              "      --bg-color: #E8F0FE;\n",
              "      --fill-color: #1967D2;\n",
              "      --hover-bg-color: #E2EBFA;\n",
              "      --hover-fill-color: #174EA6;\n",
              "      --disabled-fill-color: #AAA;\n",
              "      --disabled-bg-color: #DDD;\n",
              "  }\n",
              "\n",
              "  [theme=dark] .colab-df-quickchart {\n",
              "      --bg-color: #3B4455;\n",
              "      --fill-color: #D2E3FC;\n",
              "      --hover-bg-color: #434B5C;\n",
              "      --hover-fill-color: #FFFFFF;\n",
              "      --disabled-bg-color: #3B4455;\n",
              "      --disabled-fill-color: #666;\n",
              "  }\n",
              "\n",
              "  .colab-df-quickchart {\n",
              "    background-color: var(--bg-color);\n",
              "    border: none;\n",
              "    border-radius: 50%;\n",
              "    cursor: pointer;\n",
              "    display: none;\n",
              "    fill: var(--fill-color);\n",
              "    height: 32px;\n",
              "    padding: 0;\n",
              "    width: 32px;\n",
              "  }\n",
              "\n",
              "  .colab-df-quickchart:hover {\n",
              "    background-color: var(--hover-bg-color);\n",
              "    box-shadow: 0 1px 2px rgba(60, 64, 67, 0.3), 0 1px 3px 1px rgba(60, 64, 67, 0.15);\n",
              "    fill: var(--button-hover-fill-color);\n",
              "  }\n",
              "\n",
              "  .colab-df-quickchart-complete:disabled,\n",
              "  .colab-df-quickchart-complete:disabled:hover {\n",
              "    background-color: var(--disabled-bg-color);\n",
              "    fill: var(--disabled-fill-color);\n",
              "    box-shadow: none;\n",
              "  }\n",
              "\n",
              "  .colab-df-spinner {\n",
              "    border: 2px solid var(--fill-color);\n",
              "    border-color: transparent;\n",
              "    border-bottom-color: var(--fill-color);\n",
              "    animation:\n",
              "      spin 1s steps(1) infinite;\n",
              "  }\n",
              "\n",
              "  @keyframes spin {\n",
              "    0% {\n",
              "      border-color: transparent;\n",
              "      border-bottom-color: var(--fill-color);\n",
              "      border-left-color: var(--fill-color);\n",
              "    }\n",
              "    20% {\n",
              "      border-color: transparent;\n",
              "      border-left-color: var(--fill-color);\n",
              "      border-top-color: var(--fill-color);\n",
              "    }\n",
              "    30% {\n",
              "      border-color: transparent;\n",
              "      border-left-color: var(--fill-color);\n",
              "      border-top-color: var(--fill-color);\n",
              "      border-right-color: var(--fill-color);\n",
              "    }\n",
              "    40% {\n",
              "      border-color: transparent;\n",
              "      border-right-color: var(--fill-color);\n",
              "      border-top-color: var(--fill-color);\n",
              "    }\n",
              "    60% {\n",
              "      border-color: transparent;\n",
              "      border-right-color: var(--fill-color);\n",
              "    }\n",
              "    80% {\n",
              "      border-color: transparent;\n",
              "      border-right-color: var(--fill-color);\n",
              "      border-bottom-color: var(--fill-color);\n",
              "    }\n",
              "    90% {\n",
              "      border-color: transparent;\n",
              "      border-bottom-color: var(--fill-color);\n",
              "    }\n",
              "  }\n",
              "</style>\n",
              "\n",
              "  <script>\n",
              "    async function quickchart(key) {\n",
              "      const quickchartButtonEl =\n",
              "        document.querySelector('#' + key + ' button');\n",
              "      quickchartButtonEl.disabled = true;  // To prevent multiple clicks.\n",
              "      quickchartButtonEl.classList.add('colab-df-spinner');\n",
              "      try {\n",
              "        const charts = await google.colab.kernel.invokeFunction(\n",
              "            'suggestCharts', [key], {});\n",
              "      } catch (error) {\n",
              "        console.error('Error during call to suggestCharts:', error);\n",
              "      }\n",
              "      quickchartButtonEl.classList.remove('colab-df-spinner');\n",
              "      quickchartButtonEl.classList.add('colab-df-quickchart-complete');\n",
              "    }\n",
              "    (() => {\n",
              "      let quickchartButtonEl =\n",
              "        document.querySelector('#df-6d7ce883-32a8-4b19-9e5d-fdda0aafdc26 button');\n",
              "      quickchartButtonEl.style.display =\n",
              "        google.colab.kernel.accessAllowed ? 'block' : 'none';\n",
              "    })();\n",
              "  </script>\n",
              "</div>\n",
              "    </div>\n",
              "  </div>\n"
            ],
            "application/vnd.google.colaboratory.intrinsic+json": {
              "type": "dataframe",
              "variable_name": "df_interpolated"
            }
          },
          "metadata": {},
          "execution_count": 21
        }
      ]
    },
    {
      "cell_type": "markdown",
      "id": "3217bd8b-7dcd-417e-8d36-60c8a4b7fbf1",
      "metadata": {
        "id": "3217bd8b-7dcd-417e-8d36-60c8a4b7fbf1"
      },
      "source": [
        "**Converting UTC to UTC+1 or UTC+2**\n",
        "\n",
        "\n",
        "Standard time:\tUTC +1\tCentral European Time (CET)\n",
        "Daylight saving time:\tUTC +2\tCentral European Summertime (CEST)\n",
        "![Screenshot 2024-02-19 at 10.19.15 AM.png](attachment:828188b3-b04a-4619-8b20-7a4f1014e0d3.png)\n"
      ]
    },
    {
      "cell_type": "code",
      "source": [
        "# Assuming df_interpolated is your Pandas DataFrame\n",
        "weather_df_new = df_interpolated.copy()\n",
        "\n",
        "def add_timedelta_based_on_month(dt):\n",
        "    if dt.month in [4, 5, 6, 7, 8, 9, 10]:  # Summer months: April, May, June, July, August, September, October\n",
        "        return dt + pd.Timedelta(hours=2)\n",
        "    else:  # Winter months: November, December, January, February, March\n",
        "        return dt + pd.Timedelta(hours=1)\n",
        "\n",
        "# Apply the function to the 'date' column\n",
        "weather_df_new['date'] = weather_df_new['date'].apply(add_timedelta_based_on_month)\n",
        "\n",
        "# Remove the first row\n",
        "weather_df_new = weather_df_new.iloc[1:]\n",
        "\n",
        "# Print the head of the DataFrame\n",
        "\n",
        "weather_df_new.set_index(\"date\")"
      ],
      "metadata": {
        "id": "7X9vF4eUKHBX",
        "outputId": "c3407ec3-8205-47b2-d30b-4e77ff2274d1",
        "colab": {
          "base_uri": "https://localhost:8080/",
          "height": 455
        }
      },
      "id": "7X9vF4eUKHBX",
      "execution_count": 22,
      "outputs": [
        {
          "output_type": "execute_result",
          "data": {
            "text/plain": [
              "                           wind_speed_m/s  wind_direction_degrees  \\\n",
              "date                                                                \n",
              "2019-12-31 23:55:00+00:00            2.05                   255.0   \n",
              "2020-01-01 00:00:00+00:00            2.10                   250.0   \n",
              "2020-01-01 00:05:00+00:00            2.50                   260.0   \n",
              "2020-01-01 00:10:00+00:00            2.90                   270.0   \n",
              "2020-01-01 00:15:00+00:00            2.70                   265.0   \n",
              "...                                   ...                     ...   \n",
              "2023-12-31 00:40:00+00:00            3.40                   170.0   \n",
              "2023-12-31 00:45:00+00:00            3.40                   170.0   \n",
              "2023-12-31 00:50:00+00:00            3.40                   170.0   \n",
              "2023-12-31 00:55:00+00:00            3.40                   170.0   \n",
              "2023-12-31 01:00:00+00:00            3.40                   170.0   \n",
              "\n",
              "                           radiation_global_J/m2  air_temperature_K  \\\n",
              "date                                                                  \n",
              "2019-12-31 23:55:00+00:00                    0.0             278.40   \n",
              "2020-01-01 00:00:00+00:00                    0.0             278.45   \n",
              "2020-01-01 00:05:00+00:00                    0.0             278.55   \n",
              "2020-01-01 00:10:00+00:00                    0.0             278.65   \n",
              "2020-01-01 00:15:00+00:00                    0.0             278.55   \n",
              "...                                          ...                ...   \n",
              "2023-12-31 00:40:00+00:00                    0.0             279.75   \n",
              "2023-12-31 00:45:00+00:00                    0.0             279.75   \n",
              "2023-12-31 00:50:00+00:00                    0.0             279.75   \n",
              "2023-12-31 00:55:00+00:00                    0.0             279.70   \n",
              "2023-12-31 01:00:00+00:00                    0.0             279.65   \n",
              "\n",
              "                           humidity_percent  wind_gust_max_m/s  \\\n",
              "date                                                             \n",
              "2019-12-31 23:55:00+00:00             81.30               3.10   \n",
              "2020-01-01 00:00:00+00:00             80.70               3.30   \n",
              "2020-01-01 00:05:00+00:00             79.95               4.10   \n",
              "2020-01-01 00:10:00+00:00             79.20               4.90   \n",
              "2020-01-01 00:15:00+00:00             79.95               4.25   \n",
              "...                                     ...                ...   \n",
              "2023-12-31 00:40:00+00:00             95.00               4.80   \n",
              "2023-12-31 00:45:00+00:00             94.90               4.75   \n",
              "2023-12-31 00:50:00+00:00             94.80               4.70   \n",
              "2023-12-31 00:55:00+00:00             94.85               5.25   \n",
              "2023-12-31 01:00:00+00:00             94.90               5.80   \n",
              "\n",
              "                           wind_direction_gust_max_degrees  \n",
              "date                                                        \n",
              "2019-12-31 23:55:00+00:00                            250.0  \n",
              "2020-01-01 00:00:00+00:00                            250.0  \n",
              "2020-01-01 00:05:00+00:00                            260.0  \n",
              "2020-01-01 00:10:00+00:00                            270.0  \n",
              "2020-01-01 00:15:00+00:00                            265.0  \n",
              "...                                                    ...  \n",
              "2023-12-31 00:40:00+00:00                            160.0  \n",
              "2023-12-31 00:45:00+00:00                            165.0  \n",
              "2023-12-31 00:50:00+00:00                            170.0  \n",
              "2023-12-31 00:55:00+00:00                            170.0  \n",
              "2023-12-31 01:00:00+00:00                            170.0  \n",
              "\n",
              "[420494 rows x 7 columns]"
            ],
            "text/html": [
              "\n",
              "  <div id=\"df-5ee0d7f1-50d7-4f6a-8d22-581c7ea4c541\" class=\"colab-df-container\">\n",
              "    <div>\n",
              "<style scoped>\n",
              "    .dataframe tbody tr th:only-of-type {\n",
              "        vertical-align: middle;\n",
              "    }\n",
              "\n",
              "    .dataframe tbody tr th {\n",
              "        vertical-align: top;\n",
              "    }\n",
              "\n",
              "    .dataframe thead th {\n",
              "        text-align: right;\n",
              "    }\n",
              "</style>\n",
              "<table border=\"1\" class=\"dataframe\">\n",
              "  <thead>\n",
              "    <tr style=\"text-align: right;\">\n",
              "      <th></th>\n",
              "      <th>wind_speed_m/s</th>\n",
              "      <th>wind_direction_degrees</th>\n",
              "      <th>radiation_global_J/m2</th>\n",
              "      <th>air_temperature_K</th>\n",
              "      <th>humidity_percent</th>\n",
              "      <th>wind_gust_max_m/s</th>\n",
              "      <th>wind_direction_gust_max_degrees</th>\n",
              "    </tr>\n",
              "    <tr>\n",
              "      <th>date</th>\n",
              "      <th></th>\n",
              "      <th></th>\n",
              "      <th></th>\n",
              "      <th></th>\n",
              "      <th></th>\n",
              "      <th></th>\n",
              "      <th></th>\n",
              "    </tr>\n",
              "  </thead>\n",
              "  <tbody>\n",
              "    <tr>\n",
              "      <th>2019-12-31 23:55:00+00:00</th>\n",
              "      <td>2.05</td>\n",
              "      <td>255.0</td>\n",
              "      <td>0.0</td>\n",
              "      <td>278.40</td>\n",
              "      <td>81.30</td>\n",
              "      <td>3.10</td>\n",
              "      <td>250.0</td>\n",
              "    </tr>\n",
              "    <tr>\n",
              "      <th>2020-01-01 00:00:00+00:00</th>\n",
              "      <td>2.10</td>\n",
              "      <td>250.0</td>\n",
              "      <td>0.0</td>\n",
              "      <td>278.45</td>\n",
              "      <td>80.70</td>\n",
              "      <td>3.30</td>\n",
              "      <td>250.0</td>\n",
              "    </tr>\n",
              "    <tr>\n",
              "      <th>2020-01-01 00:05:00+00:00</th>\n",
              "      <td>2.50</td>\n",
              "      <td>260.0</td>\n",
              "      <td>0.0</td>\n",
              "      <td>278.55</td>\n",
              "      <td>79.95</td>\n",
              "      <td>4.10</td>\n",
              "      <td>260.0</td>\n",
              "    </tr>\n",
              "    <tr>\n",
              "      <th>2020-01-01 00:10:00+00:00</th>\n",
              "      <td>2.90</td>\n",
              "      <td>270.0</td>\n",
              "      <td>0.0</td>\n",
              "      <td>278.65</td>\n",
              "      <td>79.20</td>\n",
              "      <td>4.90</td>\n",
              "      <td>270.0</td>\n",
              "    </tr>\n",
              "    <tr>\n",
              "      <th>2020-01-01 00:15:00+00:00</th>\n",
              "      <td>2.70</td>\n",
              "      <td>265.0</td>\n",
              "      <td>0.0</td>\n",
              "      <td>278.55</td>\n",
              "      <td>79.95</td>\n",
              "      <td>4.25</td>\n",
              "      <td>265.0</td>\n",
              "    </tr>\n",
              "    <tr>\n",
              "      <th>...</th>\n",
              "      <td>...</td>\n",
              "      <td>...</td>\n",
              "      <td>...</td>\n",
              "      <td>...</td>\n",
              "      <td>...</td>\n",
              "      <td>...</td>\n",
              "      <td>...</td>\n",
              "    </tr>\n",
              "    <tr>\n",
              "      <th>2023-12-31 00:40:00+00:00</th>\n",
              "      <td>3.40</td>\n",
              "      <td>170.0</td>\n",
              "      <td>0.0</td>\n",
              "      <td>279.75</td>\n",
              "      <td>95.00</td>\n",
              "      <td>4.80</td>\n",
              "      <td>160.0</td>\n",
              "    </tr>\n",
              "    <tr>\n",
              "      <th>2023-12-31 00:45:00+00:00</th>\n",
              "      <td>3.40</td>\n",
              "      <td>170.0</td>\n",
              "      <td>0.0</td>\n",
              "      <td>279.75</td>\n",
              "      <td>94.90</td>\n",
              "      <td>4.75</td>\n",
              "      <td>165.0</td>\n",
              "    </tr>\n",
              "    <tr>\n",
              "      <th>2023-12-31 00:50:00+00:00</th>\n",
              "      <td>3.40</td>\n",
              "      <td>170.0</td>\n",
              "      <td>0.0</td>\n",
              "      <td>279.75</td>\n",
              "      <td>94.80</td>\n",
              "      <td>4.70</td>\n",
              "      <td>170.0</td>\n",
              "    </tr>\n",
              "    <tr>\n",
              "      <th>2023-12-31 00:55:00+00:00</th>\n",
              "      <td>3.40</td>\n",
              "      <td>170.0</td>\n",
              "      <td>0.0</td>\n",
              "      <td>279.70</td>\n",
              "      <td>94.85</td>\n",
              "      <td>5.25</td>\n",
              "      <td>170.0</td>\n",
              "    </tr>\n",
              "    <tr>\n",
              "      <th>2023-12-31 01:00:00+00:00</th>\n",
              "      <td>3.40</td>\n",
              "      <td>170.0</td>\n",
              "      <td>0.0</td>\n",
              "      <td>279.65</td>\n",
              "      <td>94.90</td>\n",
              "      <td>5.80</td>\n",
              "      <td>170.0</td>\n",
              "    </tr>\n",
              "  </tbody>\n",
              "</table>\n",
              "<p>420494 rows × 7 columns</p>\n",
              "</div>\n",
              "    <div class=\"colab-df-buttons\">\n",
              "\n",
              "  <div class=\"colab-df-container\">\n",
              "    <button class=\"colab-df-convert\" onclick=\"convertToInteractive('df-5ee0d7f1-50d7-4f6a-8d22-581c7ea4c541')\"\n",
              "            title=\"Convert this dataframe to an interactive table.\"\n",
              "            style=\"display:none;\">\n",
              "\n",
              "  <svg xmlns=\"http://www.w3.org/2000/svg\" height=\"24px\" viewBox=\"0 -960 960 960\">\n",
              "    <path d=\"M120-120v-720h720v720H120Zm60-500h600v-160H180v160Zm220 220h160v-160H400v160Zm0 220h160v-160H400v160ZM180-400h160v-160H180v160Zm440 0h160v-160H620v160ZM180-180h160v-160H180v160Zm440 0h160v-160H620v160Z\"/>\n",
              "  </svg>\n",
              "    </button>\n",
              "\n",
              "  <style>\n",
              "    .colab-df-container {\n",
              "      display:flex;\n",
              "      gap: 12px;\n",
              "    }\n",
              "\n",
              "    .colab-df-convert {\n",
              "      background-color: #E8F0FE;\n",
              "      border: none;\n",
              "      border-radius: 50%;\n",
              "      cursor: pointer;\n",
              "      display: none;\n",
              "      fill: #1967D2;\n",
              "      height: 32px;\n",
              "      padding: 0 0 0 0;\n",
              "      width: 32px;\n",
              "    }\n",
              "\n",
              "    .colab-df-convert:hover {\n",
              "      background-color: #E2EBFA;\n",
              "      box-shadow: 0px 1px 2px rgba(60, 64, 67, 0.3), 0px 1px 3px 1px rgba(60, 64, 67, 0.15);\n",
              "      fill: #174EA6;\n",
              "    }\n",
              "\n",
              "    .colab-df-buttons div {\n",
              "      margin-bottom: 4px;\n",
              "    }\n",
              "\n",
              "    [theme=dark] .colab-df-convert {\n",
              "      background-color: #3B4455;\n",
              "      fill: #D2E3FC;\n",
              "    }\n",
              "\n",
              "    [theme=dark] .colab-df-convert:hover {\n",
              "      background-color: #434B5C;\n",
              "      box-shadow: 0px 1px 3px 1px rgba(0, 0, 0, 0.15);\n",
              "      filter: drop-shadow(0px 1px 2px rgba(0, 0, 0, 0.3));\n",
              "      fill: #FFFFFF;\n",
              "    }\n",
              "  </style>\n",
              "\n",
              "    <script>\n",
              "      const buttonEl =\n",
              "        document.querySelector('#df-5ee0d7f1-50d7-4f6a-8d22-581c7ea4c541 button.colab-df-convert');\n",
              "      buttonEl.style.display =\n",
              "        google.colab.kernel.accessAllowed ? 'block' : 'none';\n",
              "\n",
              "      async function convertToInteractive(key) {\n",
              "        const element = document.querySelector('#df-5ee0d7f1-50d7-4f6a-8d22-581c7ea4c541');\n",
              "        const dataTable =\n",
              "          await google.colab.kernel.invokeFunction('convertToInteractive',\n",
              "                                                    [key], {});\n",
              "        if (!dataTable) return;\n",
              "\n",
              "        const docLinkHtml = 'Like what you see? Visit the ' +\n",
              "          '<a target=\"_blank\" href=https://colab.research.google.com/notebooks/data_table.ipynb>data table notebook</a>'\n",
              "          + ' to learn more about interactive tables.';\n",
              "        element.innerHTML = '';\n",
              "        dataTable['output_type'] = 'display_data';\n",
              "        await google.colab.output.renderOutput(dataTable, element);\n",
              "        const docLink = document.createElement('div');\n",
              "        docLink.innerHTML = docLinkHtml;\n",
              "        element.appendChild(docLink);\n",
              "      }\n",
              "    </script>\n",
              "  </div>\n",
              "\n",
              "\n",
              "<div id=\"df-d3118e09-7473-41fc-b4df-b7455847df7f\">\n",
              "  <button class=\"colab-df-quickchart\" onclick=\"quickchart('df-d3118e09-7473-41fc-b4df-b7455847df7f')\"\n",
              "            title=\"Suggest charts\"\n",
              "            style=\"display:none;\">\n",
              "\n",
              "<svg xmlns=\"http://www.w3.org/2000/svg\" height=\"24px\"viewBox=\"0 0 24 24\"\n",
              "     width=\"24px\">\n",
              "    <g>\n",
              "        <path d=\"M19 3H5c-1.1 0-2 .9-2 2v14c0 1.1.9 2 2 2h14c1.1 0 2-.9 2-2V5c0-1.1-.9-2-2-2zM9 17H7v-7h2v7zm4 0h-2V7h2v10zm4 0h-2v-4h2v4z\"/>\n",
              "    </g>\n",
              "</svg>\n",
              "  </button>\n",
              "\n",
              "<style>\n",
              "  .colab-df-quickchart {\n",
              "      --bg-color: #E8F0FE;\n",
              "      --fill-color: #1967D2;\n",
              "      --hover-bg-color: #E2EBFA;\n",
              "      --hover-fill-color: #174EA6;\n",
              "      --disabled-fill-color: #AAA;\n",
              "      --disabled-bg-color: #DDD;\n",
              "  }\n",
              "\n",
              "  [theme=dark] .colab-df-quickchart {\n",
              "      --bg-color: #3B4455;\n",
              "      --fill-color: #D2E3FC;\n",
              "      --hover-bg-color: #434B5C;\n",
              "      --hover-fill-color: #FFFFFF;\n",
              "      --disabled-bg-color: #3B4455;\n",
              "      --disabled-fill-color: #666;\n",
              "  }\n",
              "\n",
              "  .colab-df-quickchart {\n",
              "    background-color: var(--bg-color);\n",
              "    border: none;\n",
              "    border-radius: 50%;\n",
              "    cursor: pointer;\n",
              "    display: none;\n",
              "    fill: var(--fill-color);\n",
              "    height: 32px;\n",
              "    padding: 0;\n",
              "    width: 32px;\n",
              "  }\n",
              "\n",
              "  .colab-df-quickchart:hover {\n",
              "    background-color: var(--hover-bg-color);\n",
              "    box-shadow: 0 1px 2px rgba(60, 64, 67, 0.3), 0 1px 3px 1px rgba(60, 64, 67, 0.15);\n",
              "    fill: var(--button-hover-fill-color);\n",
              "  }\n",
              "\n",
              "  .colab-df-quickchart-complete:disabled,\n",
              "  .colab-df-quickchart-complete:disabled:hover {\n",
              "    background-color: var(--disabled-bg-color);\n",
              "    fill: var(--disabled-fill-color);\n",
              "    box-shadow: none;\n",
              "  }\n",
              "\n",
              "  .colab-df-spinner {\n",
              "    border: 2px solid var(--fill-color);\n",
              "    border-color: transparent;\n",
              "    border-bottom-color: var(--fill-color);\n",
              "    animation:\n",
              "      spin 1s steps(1) infinite;\n",
              "  }\n",
              "\n",
              "  @keyframes spin {\n",
              "    0% {\n",
              "      border-color: transparent;\n",
              "      border-bottom-color: var(--fill-color);\n",
              "      border-left-color: var(--fill-color);\n",
              "    }\n",
              "    20% {\n",
              "      border-color: transparent;\n",
              "      border-left-color: var(--fill-color);\n",
              "      border-top-color: var(--fill-color);\n",
              "    }\n",
              "    30% {\n",
              "      border-color: transparent;\n",
              "      border-left-color: var(--fill-color);\n",
              "      border-top-color: var(--fill-color);\n",
              "      border-right-color: var(--fill-color);\n",
              "    }\n",
              "    40% {\n",
              "      border-color: transparent;\n",
              "      border-right-color: var(--fill-color);\n",
              "      border-top-color: var(--fill-color);\n",
              "    }\n",
              "    60% {\n",
              "      border-color: transparent;\n",
              "      border-right-color: var(--fill-color);\n",
              "    }\n",
              "    80% {\n",
              "      border-color: transparent;\n",
              "      border-right-color: var(--fill-color);\n",
              "      border-bottom-color: var(--fill-color);\n",
              "    }\n",
              "    90% {\n",
              "      border-color: transparent;\n",
              "      border-bottom-color: var(--fill-color);\n",
              "    }\n",
              "  }\n",
              "</style>\n",
              "\n",
              "  <script>\n",
              "    async function quickchart(key) {\n",
              "      const quickchartButtonEl =\n",
              "        document.querySelector('#' + key + ' button');\n",
              "      quickchartButtonEl.disabled = true;  // To prevent multiple clicks.\n",
              "      quickchartButtonEl.classList.add('colab-df-spinner');\n",
              "      try {\n",
              "        const charts = await google.colab.kernel.invokeFunction(\n",
              "            'suggestCharts', [key], {});\n",
              "      } catch (error) {\n",
              "        console.error('Error during call to suggestCharts:', error);\n",
              "      }\n",
              "      quickchartButtonEl.classList.remove('colab-df-spinner');\n",
              "      quickchartButtonEl.classList.add('colab-df-quickchart-complete');\n",
              "    }\n",
              "    (() => {\n",
              "      let quickchartButtonEl =\n",
              "        document.querySelector('#df-d3118e09-7473-41fc-b4df-b7455847df7f button');\n",
              "      quickchartButtonEl.style.display =\n",
              "        google.colab.kernel.accessAllowed ? 'block' : 'none';\n",
              "    })();\n",
              "  </script>\n",
              "</div>\n",
              "    </div>\n",
              "  </div>\n"
            ],
            "application/vnd.google.colaboratory.intrinsic+json": {
              "type": "dataframe"
            }
          },
          "metadata": {},
          "execution_count": 22
        }
      ]
    },
    {
      "cell_type": "code",
      "source": [
        "weather_df_new.info()"
      ],
      "metadata": {
        "id": "na7rb8UGP-WM",
        "outputId": "90fda49a-d901-4ba8-f6bd-2735d2fdd6c3",
        "colab": {
          "base_uri": "https://localhost:8080/"
        }
      },
      "id": "na7rb8UGP-WM",
      "execution_count": 23,
      "outputs": [
        {
          "output_type": "stream",
          "name": "stdout",
          "text": [
            "<class 'pandas.core.frame.DataFrame'>\n",
            "RangeIndex: 420494 entries, 1 to 420494\n",
            "Data columns (total 8 columns):\n",
            " #   Column                           Non-Null Count   Dtype              \n",
            "---  ------                           --------------   -----              \n",
            " 0   date                             420494 non-null  datetime64[ns, UTC]\n",
            " 1   wind_speed_m/s                   420494 non-null  float64            \n",
            " 2   wind_direction_degrees           420494 non-null  float64            \n",
            " 3   radiation_global_J/m2            420494 non-null  float64            \n",
            " 4   air_temperature_K                420494 non-null  float64            \n",
            " 5   humidity_percent                 420494 non-null  float64            \n",
            " 6   wind_gust_max_m/s                420494 non-null  float64            \n",
            " 7   wind_direction_gust_max_degrees  420494 non-null  float64            \n",
            "dtypes: datetime64[ns, UTC](1), float64(7)\n",
            "memory usage: 25.7 MB\n"
          ]
        }
      ]
    },
    {
      "cell_type": "code",
      "source": [
        "weather_df_new['date'] = weather_df_new['date'].dt.tz_localize(None)  # Convert datetime with UTC timezone to naive datetime\n",
        "weather_df_new.info()"
      ],
      "metadata": {
        "id": "0ugf_CIsTjXM",
        "outputId": "0fb98553-4a6d-4d15-84f8-9a0b75d7b4d7",
        "colab": {
          "base_uri": "https://localhost:8080/"
        }
      },
      "id": "0ugf_CIsTjXM",
      "execution_count": 24,
      "outputs": [
        {
          "output_type": "stream",
          "name": "stdout",
          "text": [
            "<class 'pandas.core.frame.DataFrame'>\n",
            "RangeIndex: 420494 entries, 1 to 420494\n",
            "Data columns (total 8 columns):\n",
            " #   Column                           Non-Null Count   Dtype         \n",
            "---  ------                           --------------   -----         \n",
            " 0   date                             420494 non-null  datetime64[ns]\n",
            " 1   wind_speed_m/s                   420494 non-null  float64       \n",
            " 2   wind_direction_degrees           420494 non-null  float64       \n",
            " 3   radiation_global_J/m2            420494 non-null  float64       \n",
            " 4   air_temperature_K                420494 non-null  float64       \n",
            " 5   humidity_percent                 420494 non-null  float64       \n",
            " 6   wind_gust_max_m/s                420494 non-null  float64       \n",
            " 7   wind_direction_gust_max_degrees  420494 non-null  float64       \n",
            "dtypes: datetime64[ns](1), float64(7)\n",
            "memory usage: 25.7 MB\n"
          ]
        }
      ]
    },
    {
      "cell_type": "markdown",
      "source": [
        "**Below code is the polars version of converting df from utc to german time**"
      ],
      "metadata": {
        "id": "2Q7eD1HGL3h0"
      },
      "id": "2Q7eD1HGL3h0"
    },
    {
      "cell_type": "code",
      "execution_count": 25,
      "id": "b45de636-54f9-4a46-b90e-8a1c4fbf38a3",
      "metadata": {
        "id": "b45de636-54f9-4a46-b90e-8a1c4fbf38a3"
      },
      "outputs": [],
      "source": [
        "#def add_timedelta_based_on_month(dt):\n",
        "#    if dt.month in [4, 5, 6, 7, 8, 9, 10]:  # Summer months: April, May, June, July, August, September, October\n",
        "#        return dt + pd.Timedelta(hours=2)\n",
        "#    else:  # Winter months: November, December, January, February, March\n",
        "#        return dt + pd.Timedelta(hours=1)"
      ]
    },
    {
      "cell_type": "code",
      "execution_count": 26,
      "id": "e2eb5535-f3cd-4616-8af0-c40e6ec2e3c9",
      "metadata": {
        "id": "e2eb5535-f3cd-4616-8af0-c40e6ec2e3c9"
      },
      "outputs": [],
      "source": [
        "#weather_df = new_df.clone()\n",
        "\n",
        "#weather_df = weather_df.with_columns(\n",
        "#    pl.col(\"date\").apply(add_timedelta_based_on_month)\n",
        "#)\n",
        "\n",
        "#weather_df = weather_df.slice(1,None) #removing the first row\n",
        "#weather_df.head()"
      ]
    },
    {
      "cell_type": "markdown",
      "source": [
        "**Saving weather_df as a csv file**"
      ],
      "metadata": {
        "id": "Yu-ROLdcxOc7"
      },
      "id": "Yu-ROLdcxOc7"
    },
    {
      "cell_type": "code",
      "source": [
        "path: pathlib.Path = \"/content/drive/MyDrive/ms_wind_curtailment_prediction/weather_data.csv\"\n",
        "weather_df_new.to_csv(path, sep=\",\")"
      ],
      "metadata": {
        "id": "AdFbWbXvoKaX"
      },
      "id": "AdFbWbXvoKaX",
      "execution_count": 31,
      "outputs": []
    }
  ],
  "metadata": {
    "kernelspec": {
      "display_name": "Python 3 (ipykernel)",
      "language": "python",
      "name": "python3"
    },
    "language_info": {
      "codemirror_mode": {
        "name": "ipython",
        "version": 3
      },
      "file_extension": ".py",
      "mimetype": "text/x-python",
      "name": "python",
      "nbconvert_exporter": "python",
      "pygments_lexer": "ipython3",
      "version": "3.11.5"
    },
    "colab": {
      "provenance": []
    }
  },
  "nbformat": 4,
  "nbformat_minor": 5
}