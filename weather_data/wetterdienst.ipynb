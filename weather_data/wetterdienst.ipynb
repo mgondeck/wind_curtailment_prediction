{
  "cells": [
    {
      "cell_type": "markdown",
      "id": "cb8480ba-5ea3-4229-a62f-90c18a5a27f5",
      "metadata": {
        "id": "cb8480ba-5ea3-4229-a62f-90c18a5a27f5"
      },
      "source": [
        "Pip install the following packages\n",
        "1. polars\n",
        "2. wetterdienst\n",
        "3. shapely\n",
        "4. utm"
      ]
    },
    {
      "cell_type": "code",
      "execution_count": 1,
      "id": "d0403d7b-48d5-43e6-b61b-9d069e755d9a",
      "metadata": {
        "tags": [],
        "id": "d0403d7b-48d5-43e6-b61b-9d069e755d9a",
        "outputId": "46e32762-20c8-4a41-e45d-570fd14113d9",
        "colab": {
          "base_uri": "https://localhost:8080/"
        }
      },
      "outputs": [
        {
          "output_type": "stream",
          "name": "stderr",
          "text": [
            "WARNING:pint.util:Redefining 'percent' (<class 'pint.delegates.txt_defparser.plain.UnitDefinition'>)\n"
          ]
        }
      ],
      "source": [
        "import pandas as pd\n",
        "import datetime as dt\n",
        "import utm\n",
        "from scipy.interpolate import LinearNDInterpolator\n",
        "from shapely.geometry import Point, Polygon\n",
        "from wetterdienst import Settings, Resolution, Period, Parameter\n",
        "from wetterdienst.provider.dwd.observation import DwdObservationRequest, DwdObservationDataset, DwdObservationPeriod, DwdObservationResolution"
      ]
    },
    {
      "cell_type": "code",
      "execution_count": 2,
      "id": "ded04d7f-ad02-41af-aaa5-6910ce65a374",
      "metadata": {
        "tags": [],
        "id": "ded04d7f-ad02-41af-aaa5-6910ce65a374"
      },
      "outputs": [],
      "source": [
        "settings = Settings(\n",
        "    ts_shape=\"long\",\n",
        "    ts_humanize=True,\n",
        "    ts_si_units=True\n",
        ")"
      ]
    },
    {
      "cell_type": "markdown",
      "id": "260c91b2-bd1f-444f-a6a1-15426d45a854",
      "metadata": {
        "id": "260c91b2-bd1f-444f-a6a1-15426d45a854"
      },
      "source": [
        "All the observations we would need are as follows\n",
        "1. wind_speed\n",
        "2. wind_direction\n",
        "3. radiation_global\n",
        "4. air_temperature\n",
        "5. humidity\n",
        "6. wind_gust_max\n",
        "7. extreme_wind\n",
        "8. wind_direction_gust_max"
      ]
    },
    {
      "cell_type": "markdown",
      "id": "cf136496-c32d-40e5-8bce-9ab0a2b52a57",
      "metadata": {
        "id": "cf136496-c32d-40e5-8bce-9ab0a2b52a57"
      },
      "source": [
        "There are 298 weather stations in germany"
      ]
    },
    {
      "cell_type": "markdown",
      "id": "bfb5e103-7fe5-4971-b76e-1bbd436d1224",
      "metadata": {
        "id": "bfb5e103-7fe5-4971-b76e-1bbd436d1224"
      },
      "source": [
        "**INTERPOLATION**\n",
        "\n",
        "The function leverages the four closest stations to your specified latitude and longitude and employs the bilinear interpolation method provided by the scipy package (interp2d) to interpolate the given parameter values. Currently, this interpolation feature is exclusive to DWDObservationRequest and parameters temperature_air_mean_200, wind_speed, precipitation_height. As it is in its early stages, we welcome feedback to enhance and refine its functionality. Interpolation by nearby stations is limited to a distance of 40 km by default (20.0 km for precipitation). You can change this by setting the ts_interpolation_station_distance setting.\n"
      ]
    },
    {
      "cell_type": "code",
      "execution_count": 3,
      "id": "7adee812-e26f-4c11-ad3f-66520b2dcef9",
      "metadata": {
        "tags": [],
        "id": "7adee812-e26f-4c11-ad3f-66520b2dcef9"
      },
      "outputs": [],
      "source": [
        "langenhorn = (54.679, 8.908)"
      ]
    },
    {
      "cell_type": "markdown",
      "source": [
        "Station ID - 02907\n",
        "Latitude - 54.7903\n",
        "Longitude - 8.9514\n",
        "Name - \"Leck\"\n",
        "State - Schleswig Holstein\n",
        "Distance from langenhorn - 12.685km"
      ],
      "metadata": {
        "id": "pAbPzCrSfm4V"
      },
      "id": "pAbPzCrSfm4V"
    },
    {
      "cell_type": "code",
      "execution_count": 5,
      "id": "7a7e34e8-3053-437e-8075-ec8c8e45620c",
      "metadata": {
        "tags": [],
        "id": "7a7e34e8-3053-437e-8075-ec8c8e45620c"
      },
      "outputs": [],
      "source": [
        "def get_weather_data(param):\n",
        "    request = DwdObservationRequest(\n",
        "        parameter=[\n",
        "             param\n",
        "        ],\n",
        "        resolution=\"10_minutes\",\n",
        "        start_date=\"2020-01-01\",\n",
        "        end_date=\"2023-12-31\",\n",
        "        settings=settings\n",
        "    )\n",
        "    stations = request.filter_by_rank(latlon=langenhorn, rank=1)\n",
        "    df = stations.values.all().df.drop_nulls()\n",
        "    return df"
      ]
    },
    {
      "cell_type": "markdown",
      "id": "a7854f5f-46e0-44c9-9215-fe4f34d21b57",
      "metadata": {
        "id": "a7854f5f-46e0-44c9-9215-fe4f34d21b57"
      },
      "source": [
        "**Weather attributes**"
      ]
    },
    {
      "cell_type": "code",
      "execution_count": 6,
      "id": "0c864a88-2524-4d4a-8ba9-d13a474564a1",
      "metadata": {
        "tags": [],
        "id": "0c864a88-2524-4d4a-8ba9-d13a474564a1"
      },
      "outputs": [],
      "source": [
        "df_wind_speed = get_weather_data(\"wind_speed\") # mean of wind speed during the last 10 minutes in m/s\n",
        "df_wind_speed = df_wind_speed.drop([\"dataset\", \"parameter\", \"quality\"])\n",
        "df_wind_speed = df_wind_speed.rename({\"value\": \"ws_value\"})"
      ]
    },
    {
      "cell_type": "code",
      "execution_count": 7,
      "id": "632e46be-f417-4100-93b9-3c6ba24b42c1",
      "metadata": {
        "tags": [],
        "id": "632e46be-f417-4100-93b9-3c6ba24b42c1"
      },
      "outputs": [],
      "source": [
        "df_wind_direction = get_weather_data(\"wind_direction\") # mean of wind direction during the last 10 minutes in degrees\n",
        "df_wind_direction = df_wind_direction.drop([\"dataset\", \"parameter\", \"quality\"])\n",
        "df_wind_direction = df_wind_direction.rename({\"value\": \"wd_value\"})"
      ]
    },
    {
      "cell_type": "code",
      "execution_count": 8,
      "id": "946264bb-c7f4-4450-800f-7021ced370f3",
      "metadata": {
        "tags": [],
        "id": "946264bb-c7f4-4450-800f-7021ced370f3"
      },
      "outputs": [],
      "source": [
        "df_radiation_global = get_weather_data(\"radiation_global\") # 10min-sum of solar incoming radiation in J/m2\n",
        "df_radiation_global = df_radiation_global.drop([\"dataset\", \"parameter\", \"quality\"])\n",
        "df_radiation_global = df_radiation_global.rename({\"value\": \"rg_value\"})"
      ]
    },
    {
      "cell_type": "code",
      "execution_count": 9,
      "id": "1c3550d1-135a-451b-98d6-c488d2b4f9a8",
      "metadata": {
        "tags": [],
        "id": "1c3550d1-135a-451b-98d6-c488d2b4f9a8"
      },
      "outputs": [],
      "source": [
        "df_air_temperature = get_weather_data(\"air_temperature\") # # Historical 10-minute station observations of pressure, air temperature (at 5cm and 2m height), humidity and dew point for Germany\n",
        "df_air_temperature = df_air_temperature.drop([\"dataset\", \"parameter\", \"quality\"])\n",
        "df_air_temperature = df_air_temperature.rename({\"value\": \"at_value\"})"
      ]
    },
    {
      "cell_type": "code",
      "execution_count": 10,
      "id": "d9b1ad8a-2b01-471b-89e2-668bbb534f63",
      "metadata": {
        "tags": [],
        "id": "d9b1ad8a-2b01-471b-89e2-668bbb534f63"
      },
      "outputs": [],
      "source": [
        "df_humidity = get_weather_data(\"humidity\") # relative humidity at 2m height in %\n",
        "df_humidity = df_humidity.drop([\"dataset\", \"parameter\", \"quality\"])\n",
        "df_humidity = df_humidity.rename({\"value\": \"h_value\"})"
      ]
    },
    {
      "cell_type": "code",
      "execution_count": 11,
      "id": "e2cca63d-7c5c-456b-be34-b881feabb7b0",
      "metadata": {
        "tags": [],
        "id": "e2cca63d-7c5c-456b-be34-b881feabb7b0"
      },
      "outputs": [],
      "source": [
        "df_wind_gust_max = get_weather_data(\"wind_gust_max\")# # maximum wind gust of the last 10 minutes, the instrument samples the instantaneous wind velocity every 0.25 seconds, and writes out the max value of a 3 second period, the highest occuring within the 10min interval is given here as the maximum wind gust.\n",
        "df_wind_gust_max = df_wind_gust_max.drop([\"dataset\", \"parameter\", \"quality\"])\n",
        "df_wind_gust_max = df_wind_gust_max.rename({\"value\": \"wgm_value\"})"
      ]
    },
    {
      "cell_type": "code",
      "execution_count": 28,
      "id": "b4504e04-b85f-4bb3-98f3-5b4ebff16c16",
      "metadata": {
        "tags": [],
        "id": "b4504e04-b85f-4bb3-98f3-5b4ebff16c16",
        "outputId": "88377105-a4f7-43c7-b1cb-a7001a82a56b",
        "colab": {
          "base_uri": "https://localhost:8080/",
          "height": 255
        }
      },
      "outputs": [
        {
          "output_type": "execute_result",
          "data": {
            "text/plain": [
              "shape: (5, 3)\n",
              "┌────────────┬─────────────────────────┬──────────┐\n",
              "│ station_id ┆ date                    ┆ ew_value │\n",
              "│ ---        ┆ ---                     ┆ ---      │\n",
              "│ str        ┆ datetime[μs, UTC]       ┆ f64      │\n",
              "╞════════════╪═════════════════════════╪══════════╡\n",
              "│ 02907      ┆ 2020-01-01 00:00:00 UTC ┆ 260.0    │\n",
              "│ 02907      ┆ 2020-01-01 00:10:00 UTC ┆ 250.0    │\n",
              "│ 02907      ┆ 2020-01-01 00:20:00 UTC ┆ 250.0    │\n",
              "│ 02907      ┆ 2020-01-01 00:30:00 UTC ┆ 260.0    │\n",
              "│ 02907      ┆ 2020-01-01 00:40:00 UTC ┆ 260.0    │\n",
              "└────────────┴─────────────────────────┴──────────┘"
            ],
            "text/html": [
              "<div><style>\n",
              ".dataframe > thead > tr,\n",
              ".dataframe > tbody > tr {\n",
              "  text-align: right;\n",
              "  white-space: pre-wrap;\n",
              "}\n",
              "</style>\n",
              "<small>shape: (5, 3)</small><table border=\"1\" class=\"dataframe\"><thead><tr><th>station_id</th><th>date</th><th>ew_value</th></tr><tr><td>str</td><td>datetime[μs, UTC]</td><td>f64</td></tr></thead><tbody><tr><td>&quot;02907&quot;</td><td>2020-01-01 00:00:00 UTC</td><td>260.0</td></tr><tr><td>&quot;02907&quot;</td><td>2020-01-01 00:10:00 UTC</td><td>250.0</td></tr><tr><td>&quot;02907&quot;</td><td>2020-01-01 00:20:00 UTC</td><td>250.0</td></tr><tr><td>&quot;02907&quot;</td><td>2020-01-01 00:30:00 UTC</td><td>260.0</td></tr><tr><td>&quot;02907&quot;</td><td>2020-01-01 00:40:00 UTC</td><td>260.0</td></tr></tbody></table></div>"
            ]
          },
          "metadata": {},
          "execution_count": 28
        }
      ],
      "source": [
        "df_extreme_wind = get_weather_data(\"extreme_wind\") # Historical 10-minute station observations of max/min - mean wind speed and wind gust for Germany\n",
        "df_extreme_wind = df_extreme_wind.drop([\"dataset\", \"parameter\", \"quality\"])\n",
        "df_extreme_wind = df_extreme_wind.rename({\"value\": \"ew_value\"})\n",
        "df_extreme_wind.head()"
      ]
    },
    {
      "cell_type": "code",
      "execution_count": 13,
      "id": "44e96739-c97e-4a57-8fcc-aa4ccb528ccf",
      "metadata": {
        "tags": [],
        "id": "44e96739-c97e-4a57-8fcc-aa4ccb528ccf"
      },
      "outputs": [],
      "source": [
        "df_wind_direction_gust_max = get_weather_data(\"wind_direction_gust_max\") # wind direction of highest wind gust\n",
        "df_wind_direction_gust_max = df_wind_direction_gust_max.drop([\"dataset\", \"parameter\", \"quality\"])\n",
        "df_wind_direction_gust_max = df_wind_direction_gust_max.rename({\"value\": \"wdgm_value\"})"
      ]
    },
    {
      "cell_type": "markdown",
      "id": "7100afc6-3ecc-45de-b313-d91ac7ab426c",
      "metadata": {
        "id": "7100afc6-3ecc-45de-b313-d91ac7ab426c"
      },
      "source": [
        "**Joining all dataframes into one master df**"
      ]
    },
    {
      "cell_type": "code",
      "execution_count": 22,
      "id": "959b8a47-e6c2-49cc-81e5-89608a53fb4c",
      "metadata": {
        "tags": [],
        "id": "959b8a47-e6c2-49cc-81e5-89608a53fb4c",
        "outputId": "a5b8259a-e583-4d0e-cfbd-7e673c4d481e",
        "colab": {
          "base_uri": "https://localhost:8080/",
          "height": 255
        }
      },
      "outputs": [
        {
          "output_type": "execute_result",
          "data": {
            "text/plain": [
              "shape: (5, 4)\n",
              "┌────────────┬─────────────────────────┬──────────┬──────────┐\n",
              "│ station_id ┆ date                    ┆ ws_value ┆ wd_value │\n",
              "│ ---        ┆ ---                     ┆ ---      ┆ ---      │\n",
              "│ str        ┆ datetime[μs, UTC]       ┆ f64      ┆ f64      │\n",
              "╞════════════╪═════════════════════════╪══════════╪══════════╡\n",
              "│ 02907      ┆ 2020-01-01 00:00:00 UTC ┆ 2.7      ┆ 260.0    │\n",
              "│ 02907      ┆ 2020-01-01 00:10:00 UTC ┆ 3.1      ┆ 260.0    │\n",
              "│ 02907      ┆ 2020-01-01 00:20:00 UTC ┆ 2.7      ┆ 260.0    │\n",
              "│ 02907      ┆ 2020-01-01 00:30:00 UTC ┆ 3.2      ┆ 250.0    │\n",
              "│ 02907      ┆ 2020-01-01 00:40:00 UTC ┆ 3.6      ┆ 260.0    │\n",
              "└────────────┴─────────────────────────┴──────────┴──────────┘"
            ],
            "text/html": [
              "<div><style>\n",
              ".dataframe > thead > tr,\n",
              ".dataframe > tbody > tr {\n",
              "  text-align: right;\n",
              "  white-space: pre-wrap;\n",
              "}\n",
              "</style>\n",
              "<small>shape: (5, 4)</small><table border=\"1\" class=\"dataframe\"><thead><tr><th>station_id</th><th>date</th><th>ws_value</th><th>wd_value</th></tr><tr><td>str</td><td>datetime[μs, UTC]</td><td>f64</td><td>f64</td></tr></thead><tbody><tr><td>&quot;02907&quot;</td><td>2020-01-01 00:00:00 UTC</td><td>2.7</td><td>260.0</td></tr><tr><td>&quot;02907&quot;</td><td>2020-01-01 00:10:00 UTC</td><td>3.1</td><td>260.0</td></tr><tr><td>&quot;02907&quot;</td><td>2020-01-01 00:20:00 UTC</td><td>2.7</td><td>260.0</td></tr><tr><td>&quot;02907&quot;</td><td>2020-01-01 00:30:00 UTC</td><td>3.2</td><td>250.0</td></tr><tr><td>&quot;02907&quot;</td><td>2020-01-01 00:40:00 UTC</td><td>3.6</td><td>260.0</td></tr></tbody></table></div>"
            ]
          },
          "metadata": {},
          "execution_count": 22
        }
      ],
      "source": [
        "new_df = df_wind_speed.join(df_wind_direction, on=[\"station_id\",\"date\"], how = \"inner\")\n",
        "new_df.head()"
      ]
    },
    {
      "cell_type": "code",
      "execution_count": 23,
      "id": "1e6e55d6-39c1-49b6-997e-b8391900865c",
      "metadata": {
        "tags": [],
        "id": "1e6e55d6-39c1-49b6-997e-b8391900865c",
        "outputId": "9350fae2-010a-41cc-90b2-dc3baff7110f",
        "colab": {
          "base_uri": "https://localhost:8080/",
          "height": 255
        }
      },
      "outputs": [
        {
          "output_type": "execute_result",
          "data": {
            "text/plain": [
              "shape: (5, 5)\n",
              "┌────────────┬─────────────────────────┬──────────┬──────────┬──────────┐\n",
              "│ station_id ┆ date                    ┆ ws_value ┆ wd_value ┆ rg_value │\n",
              "│ ---        ┆ ---                     ┆ ---      ┆ ---      ┆ ---      │\n",
              "│ str        ┆ datetime[μs, UTC]       ┆ f64      ┆ f64      ┆ f64      │\n",
              "╞════════════╪═════════════════════════╪══════════╪══════════╪══════════╡\n",
              "│ 02907      ┆ 2020-01-01 00:00:00 UTC ┆ 2.7      ┆ 260.0    ┆ 0.0      │\n",
              "│ 02907      ┆ 2020-01-01 00:10:00 UTC ┆ 3.1      ┆ 260.0    ┆ 0.0      │\n",
              "│ 02907      ┆ 2020-01-01 00:20:00 UTC ┆ 2.7      ┆ 260.0    ┆ 0.0      │\n",
              "│ 02907      ┆ 2020-01-01 00:30:00 UTC ┆ 3.2      ┆ 250.0    ┆ 0.0      │\n",
              "│ 02907      ┆ 2020-01-01 00:40:00 UTC ┆ 3.6      ┆ 260.0    ┆ 0.0      │\n",
              "└────────────┴─────────────────────────┴──────────┴──────────┴──────────┘"
            ],
            "text/html": [
              "<div><style>\n",
              ".dataframe > thead > tr,\n",
              ".dataframe > tbody > tr {\n",
              "  text-align: right;\n",
              "  white-space: pre-wrap;\n",
              "}\n",
              "</style>\n",
              "<small>shape: (5, 5)</small><table border=\"1\" class=\"dataframe\"><thead><tr><th>station_id</th><th>date</th><th>ws_value</th><th>wd_value</th><th>rg_value</th></tr><tr><td>str</td><td>datetime[μs, UTC]</td><td>f64</td><td>f64</td><td>f64</td></tr></thead><tbody><tr><td>&quot;02907&quot;</td><td>2020-01-01 00:00:00 UTC</td><td>2.7</td><td>260.0</td><td>0.0</td></tr><tr><td>&quot;02907&quot;</td><td>2020-01-01 00:10:00 UTC</td><td>3.1</td><td>260.0</td><td>0.0</td></tr><tr><td>&quot;02907&quot;</td><td>2020-01-01 00:20:00 UTC</td><td>2.7</td><td>260.0</td><td>0.0</td></tr><tr><td>&quot;02907&quot;</td><td>2020-01-01 00:30:00 UTC</td><td>3.2</td><td>250.0</td><td>0.0</td></tr><tr><td>&quot;02907&quot;</td><td>2020-01-01 00:40:00 UTC</td><td>3.6</td><td>260.0</td><td>0.0</td></tr></tbody></table></div>"
            ]
          },
          "metadata": {},
          "execution_count": 23
        }
      ],
      "source": [
        "new_df = new_df.join(df_radiation_global, on=[\"station_id\",\"date\"], how = \"inner\")\n",
        "new_df.head()"
      ]
    },
    {
      "cell_type": "code",
      "execution_count": 24,
      "id": "b510cd29-038c-47f2-ba16-cb48b2292e41",
      "metadata": {
        "tags": [],
        "id": "b510cd29-038c-47f2-ba16-cb48b2292e41",
        "outputId": "1f654eab-c319-4cec-9226-c165a8ac9d62",
        "colab": {
          "base_uri": "https://localhost:8080/",
          "height": 255
        }
      },
      "outputs": [
        {
          "output_type": "execute_result",
          "data": {
            "text/plain": [
              "shape: (5, 6)\n",
              "┌────────────┬─────────────────────────┬──────────┬──────────┬──────────┬──────────┐\n",
              "│ station_id ┆ date                    ┆ ws_value ┆ wd_value ┆ rg_value ┆ at_value │\n",
              "│ ---        ┆ ---                     ┆ ---      ┆ ---      ┆ ---      ┆ ---      │\n",
              "│ str        ┆ datetime[μs, UTC]       ┆ f64      ┆ f64      ┆ f64      ┆ f64      │\n",
              "╞════════════╪═════════════════════════╪══════════╪══════════╪══════════╪══════════╡\n",
              "│ 02907      ┆ 2020-01-01 00:00:00 UTC ┆ 2.7      ┆ 260.0    ┆ 0.0      ┆ 80.5     │\n",
              "│ 02907      ┆ 2020-01-01 00:10:00 UTC ┆ 3.1      ┆ 260.0    ┆ 0.0      ┆ 78.5     │\n",
              "│ 02907      ┆ 2020-01-01 00:20:00 UTC ┆ 2.7      ┆ 260.0    ┆ 0.0      ┆ 78.3     │\n",
              "│ 02907      ┆ 2020-01-01 00:30:00 UTC ┆ 3.2      ┆ 250.0    ┆ 0.0      ┆ 78.8     │\n",
              "│ 02907      ┆ 2020-01-01 00:40:00 UTC ┆ 3.6      ┆ 260.0    ┆ 0.0      ┆ 79.3     │\n",
              "└────────────┴─────────────────────────┴──────────┴──────────┴──────────┴──────────┘"
            ],
            "text/html": [
              "<div><style>\n",
              ".dataframe > thead > tr,\n",
              ".dataframe > tbody > tr {\n",
              "  text-align: right;\n",
              "  white-space: pre-wrap;\n",
              "}\n",
              "</style>\n",
              "<small>shape: (5, 6)</small><table border=\"1\" class=\"dataframe\"><thead><tr><th>station_id</th><th>date</th><th>ws_value</th><th>wd_value</th><th>rg_value</th><th>at_value</th></tr><tr><td>str</td><td>datetime[μs, UTC]</td><td>f64</td><td>f64</td><td>f64</td><td>f64</td></tr></thead><tbody><tr><td>&quot;02907&quot;</td><td>2020-01-01 00:00:00 UTC</td><td>2.7</td><td>260.0</td><td>0.0</td><td>80.5</td></tr><tr><td>&quot;02907&quot;</td><td>2020-01-01 00:10:00 UTC</td><td>3.1</td><td>260.0</td><td>0.0</td><td>78.5</td></tr><tr><td>&quot;02907&quot;</td><td>2020-01-01 00:20:00 UTC</td><td>2.7</td><td>260.0</td><td>0.0</td><td>78.3</td></tr><tr><td>&quot;02907&quot;</td><td>2020-01-01 00:30:00 UTC</td><td>3.2</td><td>250.0</td><td>0.0</td><td>78.8</td></tr><tr><td>&quot;02907&quot;</td><td>2020-01-01 00:40:00 UTC</td><td>3.6</td><td>260.0</td><td>0.0</td><td>79.3</td></tr></tbody></table></div>"
            ]
          },
          "metadata": {},
          "execution_count": 24
        }
      ],
      "source": [
        "new_df = new_df.join(df_air_temperature, on=[\"station_id\",\"date\"], how = \"inner\")\n",
        "new_df.head()"
      ]
    },
    {
      "cell_type": "code",
      "execution_count": 25,
      "id": "769d6646-ac29-4cf8-ba00-866024a4461c",
      "metadata": {
        "tags": [],
        "id": "769d6646-ac29-4cf8-ba00-866024a4461c",
        "outputId": "15081f4f-0fc5-4857-df81-c576676ec923",
        "colab": {
          "base_uri": "https://localhost:8080/",
          "height": 255
        }
      },
      "outputs": [
        {
          "output_type": "execute_result",
          "data": {
            "text/plain": [
              "shape: (5, 7)\n",
              "┌────────────┬─────────────────────────┬──────────┬──────────┬──────────┬──────────┬─────────┐\n",
              "│ station_id ┆ date                    ┆ ws_value ┆ wd_value ┆ rg_value ┆ at_value ┆ h_value │\n",
              "│ ---        ┆ ---                     ┆ ---      ┆ ---      ┆ ---      ┆ ---      ┆ ---     │\n",
              "│ str        ┆ datetime[μs, UTC]       ┆ f64      ┆ f64      ┆ f64      ┆ f64      ┆ f64     │\n",
              "╞════════════╪═════════════════════════╪══════════╪══════════╪══════════╪══════════╪═════════╡\n",
              "│ 02907      ┆ 2020-01-01 00:00:00 UTC ┆ 2.7      ┆ 260.0    ┆ 0.0      ┆ 80.5     ┆ 80.5    │\n",
              "│ 02907      ┆ 2020-01-01 00:10:00 UTC ┆ 3.1      ┆ 260.0    ┆ 0.0      ┆ 78.5     ┆ 78.5    │\n",
              "│ 02907      ┆ 2020-01-01 00:20:00 UTC ┆ 2.7      ┆ 260.0    ┆ 0.0      ┆ 78.3     ┆ 78.3    │\n",
              "│ 02907      ┆ 2020-01-01 00:30:00 UTC ┆ 3.2      ┆ 250.0    ┆ 0.0      ┆ 78.8     ┆ 78.8    │\n",
              "│ 02907      ┆ 2020-01-01 00:40:00 UTC ┆ 3.6      ┆ 260.0    ┆ 0.0      ┆ 79.3     ┆ 79.3    │\n",
              "└────────────┴─────────────────────────┴──────────┴──────────┴──────────┴──────────┴─────────┘"
            ],
            "text/html": [
              "<div><style>\n",
              ".dataframe > thead > tr,\n",
              ".dataframe > tbody > tr {\n",
              "  text-align: right;\n",
              "  white-space: pre-wrap;\n",
              "}\n",
              "</style>\n",
              "<small>shape: (5, 7)</small><table border=\"1\" class=\"dataframe\"><thead><tr><th>station_id</th><th>date</th><th>ws_value</th><th>wd_value</th><th>rg_value</th><th>at_value</th><th>h_value</th></tr><tr><td>str</td><td>datetime[μs, UTC]</td><td>f64</td><td>f64</td><td>f64</td><td>f64</td><td>f64</td></tr></thead><tbody><tr><td>&quot;02907&quot;</td><td>2020-01-01 00:00:00 UTC</td><td>2.7</td><td>260.0</td><td>0.0</td><td>80.5</td><td>80.5</td></tr><tr><td>&quot;02907&quot;</td><td>2020-01-01 00:10:00 UTC</td><td>3.1</td><td>260.0</td><td>0.0</td><td>78.5</td><td>78.5</td></tr><tr><td>&quot;02907&quot;</td><td>2020-01-01 00:20:00 UTC</td><td>2.7</td><td>260.0</td><td>0.0</td><td>78.3</td><td>78.3</td></tr><tr><td>&quot;02907&quot;</td><td>2020-01-01 00:30:00 UTC</td><td>3.2</td><td>250.0</td><td>0.0</td><td>78.8</td><td>78.8</td></tr><tr><td>&quot;02907&quot;</td><td>2020-01-01 00:40:00 UTC</td><td>3.6</td><td>260.0</td><td>0.0</td><td>79.3</td><td>79.3</td></tr></tbody></table></div>"
            ]
          },
          "metadata": {},
          "execution_count": 25
        }
      ],
      "source": [
        "new_df = new_df.join(df_humidity, on=[\"station_id\",\"date\"], how = \"inner\")\n",
        "new_df.head()"
      ]
    },
    {
      "cell_type": "code",
      "execution_count": 26,
      "id": "6b18f94f-b3db-4bd7-9a42-3a375b3b1478",
      "metadata": {
        "tags": [],
        "id": "6b18f94f-b3db-4bd7-9a42-3a375b3b1478",
        "outputId": "03963066-b425-4648-9e94-2aad4678e4bd",
        "colab": {
          "base_uri": "https://localhost:8080/",
          "height": 255
        }
      },
      "outputs": [
        {
          "output_type": "execute_result",
          "data": {
            "text/plain": [
              "shape: (5, 8)\n",
              "┌────────────┬───────────────────┬──────────┬──────────┬──────────┬──────────┬─────────┬───────────┐\n",
              "│ station_id ┆ date              ┆ ws_value ┆ wd_value ┆ rg_value ┆ at_value ┆ h_value ┆ wgm_value │\n",
              "│ ---        ┆ ---               ┆ ---      ┆ ---      ┆ ---      ┆ ---      ┆ ---     ┆ ---       │\n",
              "│ str        ┆ datetime[μs, UTC] ┆ f64      ┆ f64      ┆ f64      ┆ f64      ┆ f64     ┆ f64       │\n",
              "╞════════════╪═══════════════════╪══════════╪══════════╪══════════╪══════════╪═════════╪═══════════╡\n",
              "│ 02907      ┆ 2020-01-01        ┆ 2.7      ┆ 260.0    ┆ 0.0      ┆ 80.5     ┆ 80.5    ┆ 3.9       │\n",
              "│            ┆ 00:00:00 UTC      ┆          ┆          ┆          ┆          ┆         ┆           │\n",
              "│ 02907      ┆ 2020-01-01        ┆ 3.1      ┆ 260.0    ┆ 0.0      ┆ 78.5     ┆ 78.5    ┆ 5.5       │\n",
              "│            ┆ 00:10:00 UTC      ┆          ┆          ┆          ┆          ┆         ┆           │\n",
              "│ 02907      ┆ 2020-01-01        ┆ 2.7      ┆ 260.0    ┆ 0.0      ┆ 78.3     ┆ 78.3    ┆ 4.2       │\n",
              "│            ┆ 00:20:00 UTC      ┆          ┆          ┆          ┆          ┆         ┆           │\n",
              "│ 02907      ┆ 2020-01-01        ┆ 3.2      ┆ 250.0    ┆ 0.0      ┆ 78.8     ┆ 78.8    ┆ 5.1       │\n",
              "│            ┆ 00:30:00 UTC      ┆          ┆          ┆          ┆          ┆         ┆           │\n",
              "│ 02907      ┆ 2020-01-01        ┆ 3.6      ┆ 260.0    ┆ 0.0      ┆ 79.3     ┆ 79.3    ┆ 5.5       │\n",
              "│            ┆ 00:40:00 UTC      ┆          ┆          ┆          ┆          ┆         ┆           │\n",
              "└────────────┴───────────────────┴──────────┴──────────┴──────────┴──────────┴─────────┴───────────┘"
            ],
            "text/html": [
              "<div><style>\n",
              ".dataframe > thead > tr,\n",
              ".dataframe > tbody > tr {\n",
              "  text-align: right;\n",
              "  white-space: pre-wrap;\n",
              "}\n",
              "</style>\n",
              "<small>shape: (5, 8)</small><table border=\"1\" class=\"dataframe\"><thead><tr><th>station_id</th><th>date</th><th>ws_value</th><th>wd_value</th><th>rg_value</th><th>at_value</th><th>h_value</th><th>wgm_value</th></tr><tr><td>str</td><td>datetime[μs, UTC]</td><td>f64</td><td>f64</td><td>f64</td><td>f64</td><td>f64</td><td>f64</td></tr></thead><tbody><tr><td>&quot;02907&quot;</td><td>2020-01-01 00:00:00 UTC</td><td>2.7</td><td>260.0</td><td>0.0</td><td>80.5</td><td>80.5</td><td>3.9</td></tr><tr><td>&quot;02907&quot;</td><td>2020-01-01 00:10:00 UTC</td><td>3.1</td><td>260.0</td><td>0.0</td><td>78.5</td><td>78.5</td><td>5.5</td></tr><tr><td>&quot;02907&quot;</td><td>2020-01-01 00:20:00 UTC</td><td>2.7</td><td>260.0</td><td>0.0</td><td>78.3</td><td>78.3</td><td>4.2</td></tr><tr><td>&quot;02907&quot;</td><td>2020-01-01 00:30:00 UTC</td><td>3.2</td><td>250.0</td><td>0.0</td><td>78.8</td><td>78.8</td><td>5.1</td></tr><tr><td>&quot;02907&quot;</td><td>2020-01-01 00:40:00 UTC</td><td>3.6</td><td>260.0</td><td>0.0</td><td>79.3</td><td>79.3</td><td>5.5</td></tr></tbody></table></div>"
            ]
          },
          "metadata": {},
          "execution_count": 26
        }
      ],
      "source": [
        "new_df = new_df.join(df_wind_gust_max, on=[\"station_id\",\"date\"], how = \"inner\")\n",
        "new_df.head()"
      ]
    },
    {
      "cell_type": "code",
      "execution_count": 27,
      "id": "533577e2-b86b-4bdd-b2a2-c5f1d0c4232d",
      "metadata": {
        "tags": [],
        "id": "533577e2-b86b-4bdd-b2a2-c5f1d0c4232d",
        "outputId": "85b53ab0-3f65-42d4-ec95-a6f43804c381",
        "colab": {
          "base_uri": "https://localhost:8080/",
          "height": 255
        }
      },
      "outputs": [
        {
          "output_type": "execute_result",
          "data": {
            "text/plain": [
              "shape: (5, 9)\n",
              "┌────────────┬───────────────┬──────────┬──────────┬───┬──────────┬─────────┬───────────┬──────────┐\n",
              "│ station_id ┆ date          ┆ ws_value ┆ wd_value ┆ … ┆ at_value ┆ h_value ┆ wgm_value ┆ ew_value │\n",
              "│ ---        ┆ ---           ┆ ---      ┆ ---      ┆   ┆ ---      ┆ ---     ┆ ---       ┆ ---      │\n",
              "│ str        ┆ datetime[μs,  ┆ f64      ┆ f64      ┆   ┆ f64      ┆ f64     ┆ f64       ┆ f64      │\n",
              "│            ┆ UTC]          ┆          ┆          ┆   ┆          ┆         ┆           ┆          │\n",
              "╞════════════╪═══════════════╪══════════╪══════════╪═══╪══════════╪═════════╪═══════════╪══════════╡\n",
              "│ 02907      ┆ 2020-01-01    ┆ 2.7      ┆ 260.0    ┆ … ┆ 80.5     ┆ 80.5    ┆ 3.9       ┆ 260.0    │\n",
              "│            ┆ 00:00:00 UTC  ┆          ┆          ┆   ┆          ┆         ┆           ┆          │\n",
              "│ 02907      ┆ 2020-01-01    ┆ 2.7      ┆ 260.0    ┆ … ┆ 80.5     ┆ 80.5    ┆ 3.9       ┆ 3.9      │\n",
              "│            ┆ 00:00:00 UTC  ┆          ┆          ┆   ┆          ┆         ┆           ┆          │\n",
              "│ 02907      ┆ 2020-01-01    ┆ 2.7      ┆ 260.0    ┆ … ┆ 80.5     ┆ 80.5    ┆ 3.9       ┆ 1.8      │\n",
              "│            ┆ 00:00:00 UTC  ┆          ┆          ┆   ┆          ┆         ┆           ┆          │\n",
              "│ 02907      ┆ 2020-01-01    ┆ 2.7      ┆ 260.0    ┆ … ┆ 80.5     ┆ 80.5    ┆ 3.9       ┆ 3.0      │\n",
              "│            ┆ 00:00:00 UTC  ┆          ┆          ┆   ┆          ┆         ┆           ┆          │\n",
              "│ 02907      ┆ 2020-01-01    ┆ 3.1      ┆ 260.0    ┆ … ┆ 78.5     ┆ 78.5    ┆ 5.5       ┆ 250.0    │\n",
              "│            ┆ 00:10:00 UTC  ┆          ┆          ┆   ┆          ┆         ┆           ┆          │\n",
              "└────────────┴───────────────┴──────────┴──────────┴───┴──────────┴─────────┴───────────┴──────────┘"
            ],
            "text/html": [
              "<div><style>\n",
              ".dataframe > thead > tr,\n",
              ".dataframe > tbody > tr {\n",
              "  text-align: right;\n",
              "  white-space: pre-wrap;\n",
              "}\n",
              "</style>\n",
              "<small>shape: (5, 9)</small><table border=\"1\" class=\"dataframe\"><thead><tr><th>station_id</th><th>date</th><th>ws_value</th><th>wd_value</th><th>rg_value</th><th>at_value</th><th>h_value</th><th>wgm_value</th><th>ew_value</th></tr><tr><td>str</td><td>datetime[μs, UTC]</td><td>f64</td><td>f64</td><td>f64</td><td>f64</td><td>f64</td><td>f64</td><td>f64</td></tr></thead><tbody><tr><td>&quot;02907&quot;</td><td>2020-01-01 00:00:00 UTC</td><td>2.7</td><td>260.0</td><td>0.0</td><td>80.5</td><td>80.5</td><td>3.9</td><td>260.0</td></tr><tr><td>&quot;02907&quot;</td><td>2020-01-01 00:00:00 UTC</td><td>2.7</td><td>260.0</td><td>0.0</td><td>80.5</td><td>80.5</td><td>3.9</td><td>3.9</td></tr><tr><td>&quot;02907&quot;</td><td>2020-01-01 00:00:00 UTC</td><td>2.7</td><td>260.0</td><td>0.0</td><td>80.5</td><td>80.5</td><td>3.9</td><td>1.8</td></tr><tr><td>&quot;02907&quot;</td><td>2020-01-01 00:00:00 UTC</td><td>2.7</td><td>260.0</td><td>0.0</td><td>80.5</td><td>80.5</td><td>3.9</td><td>3.0</td></tr><tr><td>&quot;02907&quot;</td><td>2020-01-01 00:10:00 UTC</td><td>3.1</td><td>260.0</td><td>0.0</td><td>78.5</td><td>78.5</td><td>5.5</td><td>250.0</td></tr></tbody></table></div>"
            ]
          },
          "metadata": {},
          "execution_count": 27
        }
      ],
      "source": [
        "new_df = new_df.join(df_extreme_wind, on=[\"station_id\",\"date\"], how = \"inner\")\n",
        "new_df.head()"
      ]
    },
    {
      "cell_type": "code",
      "execution_count": 20,
      "id": "07c0d63d-f049-4ef5-aaae-bec40781cf2a",
      "metadata": {
        "tags": [],
        "id": "07c0d63d-f049-4ef5-aaae-bec40781cf2a",
        "outputId": "4973ec0d-a9c7-4fe0-8106-2c97363c113e",
        "colab": {
          "base_uri": "https://localhost:8080/",
          "height": 255
        }
      },
      "outputs": [
        {
          "output_type": "execute_result",
          "data": {
            "text/plain": [
              "shape: (5, 10)\n",
              "┌────────────┬─────────────┬──────────┬──────────┬───┬─────────┬───────────┬──────────┬────────────┐\n",
              "│ station_id ┆ date        ┆ ws_value ┆ wd_value ┆ … ┆ h_value ┆ wgm_value ┆ ew_value ┆ wdgm_value │\n",
              "│ ---        ┆ ---         ┆ ---      ┆ ---      ┆   ┆ ---     ┆ ---       ┆ ---      ┆ ---        │\n",
              "│ str        ┆ datetime[μs ┆ f64      ┆ f64      ┆   ┆ f64     ┆ f64       ┆ f64      ┆ f64        │\n",
              "│            ┆ , UTC]      ┆          ┆          ┆   ┆         ┆           ┆          ┆            │\n",
              "╞════════════╪═════════════╪══════════╪══════════╪═══╪═════════╪═══════════╪══════════╪════════════╡\n",
              "│ 02907      ┆ 2020-01-01  ┆ 2.7      ┆ 260.0    ┆ … ┆ 80.5    ┆ 3.9       ┆ 260.0    ┆ 260.0      │\n",
              "│            ┆ 00:00:00    ┆          ┆          ┆   ┆         ┆           ┆          ┆            │\n",
              "│            ┆ UTC         ┆          ┆          ┆   ┆         ┆           ┆          ┆            │\n",
              "│ 02907      ┆ 2020-01-01  ┆ 2.7      ┆ 260.0    ┆ … ┆ 80.5    ┆ 3.9       ┆ 3.9      ┆ 260.0      │\n",
              "│            ┆ 00:00:00    ┆          ┆          ┆   ┆         ┆           ┆          ┆            │\n",
              "│            ┆ UTC         ┆          ┆          ┆   ┆         ┆           ┆          ┆            │\n",
              "│ 02907      ┆ 2020-01-01  ┆ 2.7      ┆ 260.0    ┆ … ┆ 80.5    ┆ 3.9       ┆ 1.8      ┆ 260.0      │\n",
              "│            ┆ 00:00:00    ┆          ┆          ┆   ┆         ┆           ┆          ┆            │\n",
              "│            ┆ UTC         ┆          ┆          ┆   ┆         ┆           ┆          ┆            │\n",
              "│ 02907      ┆ 2020-01-01  ┆ 2.7      ┆ 260.0    ┆ … ┆ 80.5    ┆ 3.9       ┆ 3.0      ┆ 260.0      │\n",
              "│            ┆ 00:00:00    ┆          ┆          ┆   ┆         ┆           ┆          ┆            │\n",
              "│            ┆ UTC         ┆          ┆          ┆   ┆         ┆           ┆          ┆            │\n",
              "│ 02907      ┆ 2020-01-01  ┆ 3.1      ┆ 260.0    ┆ … ┆ 78.5    ┆ 5.5       ┆ 250.0    ┆ 250.0      │\n",
              "│            ┆ 00:10:00    ┆          ┆          ┆   ┆         ┆           ┆          ┆            │\n",
              "│            ┆ UTC         ┆          ┆          ┆   ┆         ┆           ┆          ┆            │\n",
              "└────────────┴─────────────┴──────────┴──────────┴───┴─────────┴───────────┴──────────┴────────────┘"
            ],
            "text/html": [
              "<div><style>\n",
              ".dataframe > thead > tr,\n",
              ".dataframe > tbody > tr {\n",
              "  text-align: right;\n",
              "  white-space: pre-wrap;\n",
              "}\n",
              "</style>\n",
              "<small>shape: (5, 10)</small><table border=\"1\" class=\"dataframe\"><thead><tr><th>station_id</th><th>date</th><th>ws_value</th><th>wd_value</th><th>rg_value</th><th>at_value</th><th>h_value</th><th>wgm_value</th><th>ew_value</th><th>wdgm_value</th></tr><tr><td>str</td><td>datetime[μs, UTC]</td><td>f64</td><td>f64</td><td>f64</td><td>f64</td><td>f64</td><td>f64</td><td>f64</td><td>f64</td></tr></thead><tbody><tr><td>&quot;02907&quot;</td><td>2020-01-01 00:00:00 UTC</td><td>2.7</td><td>260.0</td><td>0.0</td><td>80.5</td><td>80.5</td><td>3.9</td><td>260.0</td><td>260.0</td></tr><tr><td>&quot;02907&quot;</td><td>2020-01-01 00:00:00 UTC</td><td>2.7</td><td>260.0</td><td>0.0</td><td>80.5</td><td>80.5</td><td>3.9</td><td>3.9</td><td>260.0</td></tr><tr><td>&quot;02907&quot;</td><td>2020-01-01 00:00:00 UTC</td><td>2.7</td><td>260.0</td><td>0.0</td><td>80.5</td><td>80.5</td><td>3.9</td><td>1.8</td><td>260.0</td></tr><tr><td>&quot;02907&quot;</td><td>2020-01-01 00:00:00 UTC</td><td>2.7</td><td>260.0</td><td>0.0</td><td>80.5</td><td>80.5</td><td>3.9</td><td>3.0</td><td>260.0</td></tr><tr><td>&quot;02907&quot;</td><td>2020-01-01 00:10:00 UTC</td><td>3.1</td><td>260.0</td><td>0.0</td><td>78.5</td><td>78.5</td><td>5.5</td><td>250.0</td><td>250.0</td></tr></tbody></table></div>"
            ]
          },
          "metadata": {},
          "execution_count": 20
        }
      ],
      "source": [
        "new_df = new_df.join(df_wind_direction_gust_max, on=[\"station_id\",\"date\"], how = \"inner\")\n",
        "\n",
        "new_df.head()"
      ]
    },
    {
      "cell_type": "code",
      "source": [
        "new_df[\"station_id\"].unique()"
      ],
      "metadata": {
        "id": "f5Jff1sed9Ol",
        "outputId": "d8c6e419-0aca-4e16-d013-4df0626bed63",
        "colab": {
          "base_uri": "https://localhost:8080/",
          "height": 129
        }
      },
      "id": "f5Jff1sed9Ol",
      "execution_count": 21,
      "outputs": [
        {
          "output_type": "execute_result",
          "data": {
            "text/plain": [
              "shape: (1,)\n",
              "Series: 'station_id' [str]\n",
              "[\n",
              "\t\"02907\"\n",
              "]"
            ],
            "text/html": [
              "<div><style>\n",
              ".dataframe > thead > tr,\n",
              ".dataframe > tbody > tr {\n",
              "  text-align: right;\n",
              "  white-space: pre-wrap;\n",
              "}\n",
              "</style>\n",
              "<small>shape: (1,)</small><table border=\"1\" class=\"dataframe\"><thead><tr><th>station_id</th></tr><tr><td>str</td></tr></thead><tbody><tr><td>&quot;02907&quot;</td></tr></tbody></table></div>"
            ]
          },
          "metadata": {},
          "execution_count": 21
        }
      ]
    },
    {
      "cell_type": "markdown",
      "id": "3217bd8b-7dcd-417e-8d36-60c8a4b7fbf1",
      "metadata": {
        "id": "3217bd8b-7dcd-417e-8d36-60c8a4b7fbf1"
      },
      "source": [
        "**Converting UTC to UTC+1 or UTC+2**\n",
        "\n",
        "\n",
        "Standard time:\tUTC +1\tCentral European Time (CET)\n",
        "Daylight saving time:\tUTC +2\tCentral European Summertime (CEST)\n",
        "![Screenshot 2024-02-19 at 10.19.15 AM.png](attachment:828188b3-b04a-4619-8b20-7a4f1014e0d3.png)\n"
      ]
    },
    {
      "cell_type": "code",
      "execution_count": null,
      "id": "b45de636-54f9-4a46-b90e-8a1c4fbf38a3",
      "metadata": {
        "id": "b45de636-54f9-4a46-b90e-8a1c4fbf38a3"
      },
      "outputs": [],
      "source": [
        "def add_timedelta_based_on_month(dt):\n",
        "    if dt.month in [4, 5, 6, 7, 8, 9, 10]:  # Summer months: April, May, June, July, August, September, October\n",
        "        return dt + pd.Timedelta(hours=2)\n",
        "    else:  # Winter months: November, December, January, February, March\n",
        "        return dt + pd.Timedelta(hours=1)"
      ]
    },
    {
      "cell_type": "code",
      "execution_count": null,
      "id": "e2eb5535-f3cd-4616-8af0-c40e6ec2e3c9",
      "metadata": {
        "id": "e2eb5535-f3cd-4616-8af0-c40e6ec2e3c9"
      },
      "outputs": [],
      "source": [
        "new_df['date'] = new_df['date'].apply(add_timedelta_based_on_month)\n",
        "new_df.head()"
      ]
    }
  ],
  "metadata": {
    "kernelspec": {
      "display_name": "Python 3 (ipykernel)",
      "language": "python",
      "name": "python3"
    },
    "language_info": {
      "codemirror_mode": {
        "name": "ipython",
        "version": 3
      },
      "file_extension": ".py",
      "mimetype": "text/x-python",
      "name": "python",
      "nbconvert_exporter": "python",
      "pygments_lexer": "ipython3",
      "version": "3.11.5"
    },
    "colab": {
      "provenance": []
    }
  },
  "nbformat": 4,
  "nbformat_minor": 5
}