{
  "cells": [
    {
      "cell_type": "markdown",
      "id": "cb8480ba-5ea3-4229-a62f-90c18a5a27f5",
      "metadata": {
        "id": "cb8480ba-5ea3-4229-a62f-90c18a5a27f5"
      },
      "source": [
        "Pip install the following packages\n",
        "1. wetterdienst\n",
        "2. shapely\n",
        "3. utm"
      ]
    },
    {
      "cell_type": "code",
      "execution_count": 119,
      "id": "d0403d7b-48d5-43e6-b61b-9d069e755d9a",
      "metadata": {
        "tags": [],
        "id": "d0403d7b-48d5-43e6-b61b-9d069e755d9a"
      },
      "outputs": [],
      "source": [
        "import os\n",
        "import pandas as pd\n",
        "import polars as pl\n",
        "import pathlib\n",
        "import datetime as dt\n",
        "import utm\n",
        "from scipy.interpolate import LinearNDInterpolator\n",
        "from shapely.geometry import Point, Polygon\n",
        "from wetterdienst import Settings, Resolution, Period, Parameter\n",
        "from wetterdienst.provider.dwd.observation import DwdObservationRequest, DwdObservationDataset, DwdObservationPeriod, DwdObservationResolution"
      ]
    },
    {
      "cell_type": "code",
      "source": [
        "from google.colab import drive\n",
        "drive.mount('/content/drive')"
      ],
      "metadata": {
        "colab": {
          "base_uri": "https://localhost:8080/"
        },
        "id": "u9L8YDA2yEKr",
        "outputId": "cebf69ba-1bf9-48a2-f773-e48d59da079c"
      },
      "id": "u9L8YDA2yEKr",
      "execution_count": 120,
      "outputs": [
        {
          "output_type": "stream",
          "name": "stdout",
          "text": [
            "Drive already mounted at /content/drive; to attempt to forcibly remount, call drive.mount(\"/content/drive\", force_remount=True).\n"
          ]
        }
      ]
    },
    {
      "cell_type": "code",
      "execution_count": 2,
      "id": "ded04d7f-ad02-41af-aaa5-6910ce65a374",
      "metadata": {
        "tags": [],
        "id": "ded04d7f-ad02-41af-aaa5-6910ce65a374"
      },
      "outputs": [],
      "source": [
        "settings = Settings(\n",
        "    ts_shape=\"long\",\n",
        "    ts_humanize=True,\n",
        "    ts_si_units=True\n",
        ")"
      ]
    },
    {
      "cell_type": "markdown",
      "id": "260c91b2-bd1f-444f-a6a1-15426d45a854",
      "metadata": {
        "id": "260c91b2-bd1f-444f-a6a1-15426d45a854"
      },
      "source": [
        "All the observations we would need are as follows\n",
        "1. wind_speed\n",
        "2. wind_direction\n",
        "3. radiation_global\n",
        "4. air_temperature\n",
        "5. humidity\n",
        "6. wind_gust_max\n",
        "7. extreme_wind\n",
        "8. wind_direction_gust_max"
      ]
    },
    {
      "cell_type": "markdown",
      "id": "cf136496-c32d-40e5-8bce-9ab0a2b52a57",
      "metadata": {
        "id": "cf136496-c32d-40e5-8bce-9ab0a2b52a57"
      },
      "source": [
        "There are 298 weather stations in germany"
      ]
    },
    {
      "cell_type": "markdown",
      "id": "bfb5e103-7fe5-4971-b76e-1bbd436d1224",
      "metadata": {
        "id": "bfb5e103-7fe5-4971-b76e-1bbd436d1224"
      },
      "source": [
        "**INTERPOLATION**\n",
        "\n",
        "The function leverages the four closest stations to your specified latitude and longitude and employs the bilinear interpolation method provided by the scipy package (interp2d) to interpolate the given parameter values. Currently, this interpolation feature is exclusive to DWDObservationRequest and parameters temperature_air_mean_200, wind_speed, precipitation_height. As it is in its early stages, we welcome feedback to enhance and refine its functionality. Interpolation by nearby stations is limited to a distance of 40 km by default (20.0 km for precipitation). You can change this by setting the ts_interpolation_station_distance setting.\n"
      ]
    },
    {
      "cell_type": "code",
      "execution_count": 3,
      "id": "7adee812-e26f-4c11-ad3f-66520b2dcef9",
      "metadata": {
        "tags": [],
        "id": "7adee812-e26f-4c11-ad3f-66520b2dcef9"
      },
      "outputs": [],
      "source": [
        "langenhorn = (54.679, 8.908)"
      ]
    },
    {
      "cell_type": "markdown",
      "source": [
        "Station ID - 02907\n",
        "Latitude - 54.7903\n",
        "Longitude - 8.9514\n",
        "Name - \"Leck\"\n",
        "State - Schleswig Holstein\n",
        "Distance from langenhorn - 12.685km"
      ],
      "metadata": {
        "id": "pAbPzCrSfm4V"
      },
      "id": "pAbPzCrSfm4V"
    },
    {
      "cell_type": "code",
      "execution_count": 107,
      "id": "7a7e34e8-3053-437e-8075-ec8c8e45620c",
      "metadata": {
        "tags": [],
        "id": "7a7e34e8-3053-437e-8075-ec8c8e45620c"
      },
      "outputs": [],
      "source": [
        "def get_weather_data(param):\n",
        "    request = DwdObservationRequest(\n",
        "        parameter=[\n",
        "             param\n",
        "        ],\n",
        "        resolution=\"10_minutes\",\n",
        "        start_date=\"2019-12-31 22:50:00\",\n",
        "        end_date=\"2023-12-31 00:00:00\",\n",
        "        settings=settings\n",
        "    )\n",
        "    stations = request.filter_by_rank(latlon=langenhorn, rank=1)\n",
        "    df = stations.values.all().df.drop_nulls()\n",
        "    return df"
      ]
    },
    {
      "cell_type": "markdown",
      "id": "a7854f5f-46e0-44c9-9215-fe4f34d21b57",
      "metadata": {
        "id": "a7854f5f-46e0-44c9-9215-fe4f34d21b57"
      },
      "source": [
        "**Weather attributes**"
      ]
    },
    {
      "cell_type": "code",
      "execution_count": 108,
      "id": "0c864a88-2524-4d4a-8ba9-d13a474564a1",
      "metadata": {
        "tags": [],
        "id": "0c864a88-2524-4d4a-8ba9-d13a474564a1",
        "colab": {
          "base_uri": "https://localhost:8080/",
          "height": 412
        },
        "outputId": "9f46d9fd-4078-4e56-8b8b-f9285b7e164c"
      },
      "outputs": [
        {
          "output_type": "execute_result",
          "data": {
            "text/plain": [
              "shape: (10, 3)\n",
              "┌────────────┬─────────────────────────┬────────────┐\n",
              "│ station_id ┆ date                    ┆ wind_speed │\n",
              "│ ---        ┆ ---                     ┆ ---        │\n",
              "│ str        ┆ datetime[μs, UTC]       ┆ f64        │\n",
              "╞════════════╪═════════════════════════╪════════════╡\n",
              "│ 02907      ┆ 2019-12-31 22:50:00 UTC ┆ 2.0        │\n",
              "│ 02907      ┆ 2019-12-31 23:00:00 UTC ┆ 2.1        │\n",
              "│ 02907      ┆ 2019-12-31 23:10:00 UTC ┆ 2.9        │\n",
              "│ 02907      ┆ 2019-12-31 23:20:00 UTC ┆ 2.5        │\n",
              "│ 02907      ┆ 2019-12-31 23:30:00 UTC ┆ 2.4        │\n",
              "│ 02907      ┆ 2019-12-31 23:40:00 UTC ┆ 2.6        │\n",
              "│ 02907      ┆ 2019-12-31 23:50:00 UTC ┆ 2.8        │\n",
              "│ 02907      ┆ 2020-01-01 00:00:00 UTC ┆ 2.7        │\n",
              "│ 02907      ┆ 2020-01-01 00:10:00 UTC ┆ 3.1        │\n",
              "│ 02907      ┆ 2020-01-01 00:20:00 UTC ┆ 2.7        │\n",
              "└────────────┴─────────────────────────┴────────────┘"
            ],
            "text/html": [
              "<div><style>\n",
              ".dataframe > thead > tr,\n",
              ".dataframe > tbody > tr {\n",
              "  text-align: right;\n",
              "  white-space: pre-wrap;\n",
              "}\n",
              "</style>\n",
              "<small>shape: (10, 3)</small><table border=\"1\" class=\"dataframe\"><thead><tr><th>station_id</th><th>date</th><th>wind_speed</th></tr><tr><td>str</td><td>datetime[μs, UTC]</td><td>f64</td></tr></thead><tbody><tr><td>&quot;02907&quot;</td><td>2019-12-31 22:50:00 UTC</td><td>2.0</td></tr><tr><td>&quot;02907&quot;</td><td>2019-12-31 23:00:00 UTC</td><td>2.1</td></tr><tr><td>&quot;02907&quot;</td><td>2019-12-31 23:10:00 UTC</td><td>2.9</td></tr><tr><td>&quot;02907&quot;</td><td>2019-12-31 23:20:00 UTC</td><td>2.5</td></tr><tr><td>&quot;02907&quot;</td><td>2019-12-31 23:30:00 UTC</td><td>2.4</td></tr><tr><td>&quot;02907&quot;</td><td>2019-12-31 23:40:00 UTC</td><td>2.6</td></tr><tr><td>&quot;02907&quot;</td><td>2019-12-31 23:50:00 UTC</td><td>2.8</td></tr><tr><td>&quot;02907&quot;</td><td>2020-01-01 00:00:00 UTC</td><td>2.7</td></tr><tr><td>&quot;02907&quot;</td><td>2020-01-01 00:10:00 UTC</td><td>3.1</td></tr><tr><td>&quot;02907&quot;</td><td>2020-01-01 00:20:00 UTC</td><td>2.7</td></tr></tbody></table></div>"
            ]
          },
          "metadata": {},
          "execution_count": 108
        }
      ],
      "source": [
        "df_wind_speed = get_weather_data(\"wind_speed\") # mean of wind speed during the last 10 minutes in m/s\n",
        "df_wind_speed = df_wind_speed.drop([\"dataset\", \"parameter\", \"quality\"])\n",
        "df_wind_speed = df_wind_speed.rename({\"value\": \"wind_speed\"})\n",
        "\n",
        "df_wind_speed.head(10)"
      ]
    },
    {
      "cell_type": "code",
      "execution_count": 89,
      "id": "632e46be-f417-4100-93b9-3c6ba24b42c1",
      "metadata": {
        "tags": [],
        "id": "632e46be-f417-4100-93b9-3c6ba24b42c1"
      },
      "outputs": [],
      "source": [
        "df_wind_direction = get_weather_data(\"wind_direction\") # mean of wind direction during the last 10 minutes in degrees\n",
        "df_wind_direction = df_wind_direction.drop([\"dataset\", \"parameter\", \"quality\"])\n",
        "df_wind_direction = df_wind_direction.rename({\"value\": \"wind_direction\"})"
      ]
    },
    {
      "cell_type": "code",
      "execution_count": 90,
      "id": "946264bb-c7f4-4450-800f-7021ced370f3",
      "metadata": {
        "tags": [],
        "id": "946264bb-c7f4-4450-800f-7021ced370f3"
      },
      "outputs": [],
      "source": [
        "df_radiation_global = get_weather_data(\"radiation_global\") # 10min-sum of solar incoming radiation in J/m2\n",
        "df_radiation_global = df_radiation_global.drop([\"dataset\", \"parameter\", \"quality\"])\n",
        "df_radiation_global = df_radiation_global.rename({\"value\": \"radiation_global\"})"
      ]
    },
    {
      "cell_type": "code",
      "execution_count": 91,
      "id": "1c3550d1-135a-451b-98d6-c488d2b4f9a8",
      "metadata": {
        "tags": [],
        "id": "1c3550d1-135a-451b-98d6-c488d2b4f9a8"
      },
      "outputs": [],
      "source": [
        "df_air_temperature = get_weather_data(\"air_temperature\") # # Historical 10-minute station observations of pressure, air temperature (at 5cm and 2m height), humidity and dew point for Germany\n",
        "df_air_temperature = df_air_temperature.drop([\"dataset\", \"parameter\", \"quality\"])\n",
        "df_air_temperature = df_air_temperature.rename({\"value\": \"air_temperature\"})"
      ]
    },
    {
      "cell_type": "code",
      "execution_count": 92,
      "id": "d9b1ad8a-2b01-471b-89e2-668bbb534f63",
      "metadata": {
        "tags": [],
        "id": "d9b1ad8a-2b01-471b-89e2-668bbb534f63"
      },
      "outputs": [],
      "source": [
        "df_humidity = get_weather_data(\"humidity\") # relative humidity at 2m height in %\n",
        "df_humidity = df_humidity.drop([\"dataset\", \"parameter\", \"quality\"])\n",
        "df_humidity = df_humidity.rename({\"value\": \"humidity\"})"
      ]
    },
    {
      "cell_type": "code",
      "execution_count": 93,
      "id": "e2cca63d-7c5c-456b-be34-b881feabb7b0",
      "metadata": {
        "tags": [],
        "id": "e2cca63d-7c5c-456b-be34-b881feabb7b0"
      },
      "outputs": [],
      "source": [
        "df_wind_gust_max = get_weather_data(\"wind_gust_max\")# # maximum wind gust of the last 10 minutes, the instrument samples the instantaneous wind velocity every 0.25 seconds, and writes out the max value of a 3 second period, the highest occuring within the 10min interval is given here as the maximum wind gust.\n",
        "df_wind_gust_max = df_wind_gust_max.drop([\"dataset\", \"parameter\", \"quality\"])\n",
        "df_wind_gust_max = df_wind_gust_max.rename({\"value\": \"wind_gust_max\"})"
      ]
    },
    {
      "cell_type": "code",
      "execution_count": 94,
      "id": "44e96739-c97e-4a57-8fcc-aa4ccb528ccf",
      "metadata": {
        "tags": [],
        "id": "44e96739-c97e-4a57-8fcc-aa4ccb528ccf"
      },
      "outputs": [],
      "source": [
        "df_wind_direction_gust_max = get_weather_data(\"wind_direction_gust_max\") # wind direction of highest wind gust\n",
        "df_wind_direction_gust_max = df_wind_direction_gust_max.drop([\"dataset\", \"parameter\", \"quality\"])\n",
        "df_wind_direction_gust_max = df_wind_direction_gust_max.rename({\"value\": \"wind_direction_gust_max\"})"
      ]
    },
    {
      "cell_type": "markdown",
      "id": "7100afc6-3ecc-45de-b313-d91ac7ab426c",
      "metadata": {
        "id": "7100afc6-3ecc-45de-b313-d91ac7ab426c"
      },
      "source": [
        "**Joining all dataframes into one master df**"
      ]
    },
    {
      "cell_type": "code",
      "execution_count": 95,
      "id": "959b8a47-e6c2-49cc-81e5-89608a53fb4c",
      "metadata": {
        "tags": [],
        "id": "959b8a47-e6c2-49cc-81e5-89608a53fb4c"
      },
      "outputs": [],
      "source": [
        "new_df = df_wind_speed.join(df_wind_direction, on=[\"station_id\",\"date\"], how = \"inner\")"
      ]
    },
    {
      "cell_type": "code",
      "execution_count": 96,
      "id": "1e6e55d6-39c1-49b6-997e-b8391900865c",
      "metadata": {
        "tags": [],
        "id": "1e6e55d6-39c1-49b6-997e-b8391900865c"
      },
      "outputs": [],
      "source": [
        "new_df = new_df.join(df_radiation_global, on=[\"station_id\",\"date\"], how = \"inner\")"
      ]
    },
    {
      "cell_type": "code",
      "execution_count": 97,
      "id": "b510cd29-038c-47f2-ba16-cb48b2292e41",
      "metadata": {
        "tags": [],
        "id": "b510cd29-038c-47f2-ba16-cb48b2292e41"
      },
      "outputs": [],
      "source": [
        "new_df = new_df.join(df_air_temperature, on=[\"station_id\",\"date\"], how = \"inner\")"
      ]
    },
    {
      "cell_type": "code",
      "execution_count": 98,
      "id": "769d6646-ac29-4cf8-ba00-866024a4461c",
      "metadata": {
        "tags": [],
        "id": "769d6646-ac29-4cf8-ba00-866024a4461c"
      },
      "outputs": [],
      "source": [
        "new_df = new_df.join(df_humidity, on=[\"station_id\",\"date\"], how = \"inner\")"
      ]
    },
    {
      "cell_type": "code",
      "execution_count": 99,
      "id": "6b18f94f-b3db-4bd7-9a42-3a375b3b1478",
      "metadata": {
        "tags": [],
        "id": "6b18f94f-b3db-4bd7-9a42-3a375b3b1478"
      },
      "outputs": [],
      "source": [
        "new_df = new_df.join(df_wind_gust_max, on=[\"station_id\",\"date\"], how = \"inner\")"
      ]
    },
    {
      "cell_type": "code",
      "execution_count": 100,
      "id": "07c0d63d-f049-4ef5-aaae-bec40781cf2a",
      "metadata": {
        "tags": [],
        "id": "07c0d63d-f049-4ef5-aaae-bec40781cf2a",
        "outputId": "e6a4787d-3bd7-40bc-e7c8-bda7a00d5225",
        "colab": {
          "base_uri": "https://localhost:8080/",
          "height": 255
        }
      },
      "outputs": [
        {
          "output_type": "execute_result",
          "data": {
            "text/plain": [
              "shape: (5, 9)\n",
              "┌───────────┬───────────┬───────────┬───────────┬───┬───────────┬──────────┬───────────┬───────────┐\n",
              "│ station_i ┆ date      ┆ wind_spee ┆ wind_dire ┆ … ┆ air_tempe ┆ humidity ┆ wind_gust ┆ wind_dire │\n",
              "│ d         ┆ ---       ┆ d         ┆ ction     ┆   ┆ rature    ┆ ---      ┆ _max      ┆ ction_gus │\n",
              "│ ---       ┆ datetime[ ┆ ---       ┆ ---       ┆   ┆ ---       ┆ f64      ┆ ---       ┆ t_max     │\n",
              "│ str       ┆ μs, UTC]  ┆ f64       ┆ f64       ┆   ┆ f64       ┆          ┆ f64       ┆ ---       │\n",
              "│           ┆           ┆           ┆           ┆   ┆           ┆          ┆           ┆ f64       │\n",
              "╞═══════════╪═══════════╪═══════════╪═══════════╪═══╪═══════════╪══════════╪═══════════╪═══════════╡\n",
              "│ 02907     ┆ 2019-12-3 ┆ 2.0       ┆ 260.0     ┆ … ┆ 81.9      ┆ 81.9     ┆ 2.9       ┆ 250.0     │\n",
              "│           ┆ 1         ┆           ┆           ┆   ┆           ┆          ┆           ┆           │\n",
              "│           ┆ 22:50:00  ┆           ┆           ┆   ┆           ┆          ┆           ┆           │\n",
              "│           ┆ UTC       ┆           ┆           ┆   ┆           ┆          ┆           ┆           │\n",
              "│ 02907     ┆ 2019-12-3 ┆ 2.1       ┆ 250.0     ┆ … ┆ 80.7      ┆ 80.7     ┆ 3.3       ┆ 250.0     │\n",
              "│           ┆ 1         ┆           ┆           ┆   ┆           ┆          ┆           ┆           │\n",
              "│           ┆ 23:00:00  ┆           ┆           ┆   ┆           ┆          ┆           ┆           │\n",
              "│           ┆ UTC       ┆           ┆           ┆   ┆           ┆          ┆           ┆           │\n",
              "│ 02907     ┆ 2019-12-3 ┆ 2.9       ┆ 270.0     ┆ … ┆ 79.2      ┆ 79.2     ┆ 4.9       ┆ 270.0     │\n",
              "│           ┆ 1         ┆           ┆           ┆   ┆           ┆          ┆           ┆           │\n",
              "│           ┆ 23:10:00  ┆           ┆           ┆   ┆           ┆          ┆           ┆           │\n",
              "│           ┆ UTC       ┆           ┆           ┆   ┆           ┆          ┆           ┆           │\n",
              "│ 02907     ┆ 2019-12-3 ┆ 2.5       ┆ 260.0     ┆ … ┆ 80.7      ┆ 80.7     ┆ 3.6       ┆ 260.0     │\n",
              "│           ┆ 1         ┆           ┆           ┆   ┆           ┆          ┆           ┆           │\n",
              "│           ┆ 23:20:00  ┆           ┆           ┆   ┆           ┆          ┆           ┆           │\n",
              "│           ┆ UTC       ┆           ┆           ┆   ┆           ┆          ┆           ┆           │\n",
              "│ 02907     ┆ 2019-12-3 ┆ 2.4       ┆ 240.0     ┆ … ┆ 80.4      ┆ 80.4     ┆ 3.5       ┆ 250.0     │\n",
              "│           ┆ 1         ┆           ┆           ┆   ┆           ┆          ┆           ┆           │\n",
              "│           ┆ 23:30:00  ┆           ┆           ┆   ┆           ┆          ┆           ┆           │\n",
              "│           ┆ UTC       ┆           ┆           ┆   ┆           ┆          ┆           ┆           │\n",
              "└───────────┴───────────┴───────────┴───────────┴───┴───────────┴──────────┴───────────┴───────────┘"
            ],
            "text/html": [
              "<div><style>\n",
              ".dataframe > thead > tr,\n",
              ".dataframe > tbody > tr {\n",
              "  text-align: right;\n",
              "  white-space: pre-wrap;\n",
              "}\n",
              "</style>\n",
              "<small>shape: (5, 9)</small><table border=\"1\" class=\"dataframe\"><thead><tr><th>station_id</th><th>date</th><th>wind_speed</th><th>wind_direction</th><th>radiation_global</th><th>air_temperature</th><th>humidity</th><th>wind_gust_max</th><th>wind_direction_gust_max</th></tr><tr><td>str</td><td>datetime[μs, UTC]</td><td>f64</td><td>f64</td><td>f64</td><td>f64</td><td>f64</td><td>f64</td><td>f64</td></tr></thead><tbody><tr><td>&quot;02907&quot;</td><td>2019-12-31 22:50:00 UTC</td><td>2.0</td><td>260.0</td><td>0.0</td><td>81.9</td><td>81.9</td><td>2.9</td><td>250.0</td></tr><tr><td>&quot;02907&quot;</td><td>2019-12-31 23:00:00 UTC</td><td>2.1</td><td>250.0</td><td>0.0</td><td>80.7</td><td>80.7</td><td>3.3</td><td>250.0</td></tr><tr><td>&quot;02907&quot;</td><td>2019-12-31 23:10:00 UTC</td><td>2.9</td><td>270.0</td><td>0.0</td><td>79.2</td><td>79.2</td><td>4.9</td><td>270.0</td></tr><tr><td>&quot;02907&quot;</td><td>2019-12-31 23:20:00 UTC</td><td>2.5</td><td>260.0</td><td>0.0</td><td>80.7</td><td>80.7</td><td>3.6</td><td>260.0</td></tr><tr><td>&quot;02907&quot;</td><td>2019-12-31 23:30:00 UTC</td><td>2.4</td><td>240.0</td><td>0.0</td><td>80.4</td><td>80.4</td><td>3.5</td><td>250.0</td></tr></tbody></table></div>"
            ]
          },
          "metadata": {},
          "execution_count": 100
        }
      ],
      "source": [
        "new_df = new_df.join(df_wind_direction_gust_max, on=[\"station_id\",\"date\"], how = \"inner\")\n",
        "\n",
        "new_df.head()"
      ]
    },
    {
      "cell_type": "code",
      "source": [
        "new_df[\"station_id\"].unique()"
      ],
      "metadata": {
        "id": "f5Jff1sed9Ol",
        "outputId": "64dcb576-1851-4759-b3a5-9ed6de0d3665",
        "colab": {
          "base_uri": "https://localhost:8080/",
          "height": 129
        }
      },
      "id": "f5Jff1sed9Ol",
      "execution_count": 101,
      "outputs": [
        {
          "output_type": "execute_result",
          "data": {
            "text/plain": [
              "shape: (1,)\n",
              "Series: 'station_id' [str]\n",
              "[\n",
              "\t\"02907\"\n",
              "]"
            ],
            "text/html": [
              "<div><style>\n",
              ".dataframe > thead > tr,\n",
              ".dataframe > tbody > tr {\n",
              "  text-align: right;\n",
              "  white-space: pre-wrap;\n",
              "}\n",
              "</style>\n",
              "<small>shape: (1,)</small><table border=\"1\" class=\"dataframe\"><thead><tr><th>station_id</th></tr><tr><td>str</td></tr></thead><tbody><tr><td>&quot;02907&quot;</td></tr></tbody></table></div>"
            ]
          },
          "metadata": {},
          "execution_count": 101
        }
      ]
    },
    {
      "cell_type": "markdown",
      "source": [
        "**Removing Station_id column since all the stations are the same - 02907**"
      ],
      "metadata": {
        "id": "IlPd2I8Ul1sO"
      },
      "id": "IlPd2I8Ul1sO"
    },
    {
      "cell_type": "code",
      "source": [
        "new_df = new_df.drop([\"station_id\"])\n",
        "new_df.head()"
      ],
      "metadata": {
        "colab": {
          "base_uri": "https://localhost:8080/",
          "height": 255
        },
        "id": "hp9Lq36Wl_xN",
        "outputId": "35c1ca5f-245d-48df-be57-05691d74acfc"
      },
      "id": "hp9Lq36Wl_xN",
      "execution_count": 102,
      "outputs": [
        {
          "output_type": "execute_result",
          "data": {
            "text/plain": [
              "shape: (5, 8)\n",
              "┌────────────┬────────────┬────────────┬────────────┬───────────┬──────────┬───────────┬───────────┐\n",
              "│ date       ┆ wind_speed ┆ wind_direc ┆ radiation_ ┆ air_tempe ┆ humidity ┆ wind_gust ┆ wind_dire │\n",
              "│ ---        ┆ ---        ┆ tion       ┆ global     ┆ rature    ┆ ---      ┆ _max      ┆ ction_gus │\n",
              "│ datetime[μ ┆ f64        ┆ ---        ┆ ---        ┆ ---       ┆ f64      ┆ ---       ┆ t_max     │\n",
              "│ s, UTC]    ┆            ┆ f64        ┆ f64        ┆ f64       ┆          ┆ f64       ┆ ---       │\n",
              "│            ┆            ┆            ┆            ┆           ┆          ┆           ┆ f64       │\n",
              "╞════════════╪════════════╪════════════╪════════════╪═══════════╪══════════╪═══════════╪═══════════╡\n",
              "│ 2019-12-31 ┆ 2.0        ┆ 260.0      ┆ 0.0        ┆ 81.9      ┆ 81.9     ┆ 2.9       ┆ 250.0     │\n",
              "│ 22:50:00   ┆            ┆            ┆            ┆           ┆          ┆           ┆           │\n",
              "│ UTC        ┆            ┆            ┆            ┆           ┆          ┆           ┆           │\n",
              "│ 2019-12-31 ┆ 2.1        ┆ 250.0      ┆ 0.0        ┆ 80.7      ┆ 80.7     ┆ 3.3       ┆ 250.0     │\n",
              "│ 23:00:00   ┆            ┆            ┆            ┆           ┆          ┆           ┆           │\n",
              "│ UTC        ┆            ┆            ┆            ┆           ┆          ┆           ┆           │\n",
              "│ 2019-12-31 ┆ 2.9        ┆ 270.0      ┆ 0.0        ┆ 79.2      ┆ 79.2     ┆ 4.9       ┆ 270.0     │\n",
              "│ 23:10:00   ┆            ┆            ┆            ┆           ┆          ┆           ┆           │\n",
              "│ UTC        ┆            ┆            ┆            ┆           ┆          ┆           ┆           │\n",
              "│ 2019-12-31 ┆ 2.5        ┆ 260.0      ┆ 0.0        ┆ 80.7      ┆ 80.7     ┆ 3.6       ┆ 260.0     │\n",
              "│ 23:20:00   ┆            ┆            ┆            ┆           ┆          ┆           ┆           │\n",
              "│ UTC        ┆            ┆            ┆            ┆           ┆          ┆           ┆           │\n",
              "│ 2019-12-31 ┆ 2.4        ┆ 240.0      ┆ 0.0        ┆ 80.4      ┆ 80.4     ┆ 3.5       ┆ 250.0     │\n",
              "│ 23:30:00   ┆            ┆            ┆            ┆           ┆          ┆           ┆           │\n",
              "│ UTC        ┆            ┆            ┆            ┆           ┆          ┆           ┆           │\n",
              "└────────────┴────────────┴────────────┴────────────┴───────────┴──────────┴───────────┴───────────┘"
            ],
            "text/html": [
              "<div><style>\n",
              ".dataframe > thead > tr,\n",
              ".dataframe > tbody > tr {\n",
              "  text-align: right;\n",
              "  white-space: pre-wrap;\n",
              "}\n",
              "</style>\n",
              "<small>shape: (5, 8)</small><table border=\"1\" class=\"dataframe\"><thead><tr><th>date</th><th>wind_speed</th><th>wind_direction</th><th>radiation_global</th><th>air_temperature</th><th>humidity</th><th>wind_gust_max</th><th>wind_direction_gust_max</th></tr><tr><td>datetime[μs, UTC]</td><td>f64</td><td>f64</td><td>f64</td><td>f64</td><td>f64</td><td>f64</td><td>f64</td></tr></thead><tbody><tr><td>2019-12-31 22:50:00 UTC</td><td>2.0</td><td>260.0</td><td>0.0</td><td>81.9</td><td>81.9</td><td>2.9</td><td>250.0</td></tr><tr><td>2019-12-31 23:00:00 UTC</td><td>2.1</td><td>250.0</td><td>0.0</td><td>80.7</td><td>80.7</td><td>3.3</td><td>250.0</td></tr><tr><td>2019-12-31 23:10:00 UTC</td><td>2.9</td><td>270.0</td><td>0.0</td><td>79.2</td><td>79.2</td><td>4.9</td><td>270.0</td></tr><tr><td>2019-12-31 23:20:00 UTC</td><td>2.5</td><td>260.0</td><td>0.0</td><td>80.7</td><td>80.7</td><td>3.6</td><td>260.0</td></tr><tr><td>2019-12-31 23:30:00 UTC</td><td>2.4</td><td>240.0</td><td>0.0</td><td>80.4</td><td>80.4</td><td>3.5</td><td>250.0</td></tr></tbody></table></div>"
            ]
          },
          "metadata": {},
          "execution_count": 102
        }
      ]
    },
    {
      "cell_type": "markdown",
      "id": "3217bd8b-7dcd-417e-8d36-60c8a4b7fbf1",
      "metadata": {
        "id": "3217bd8b-7dcd-417e-8d36-60c8a4b7fbf1"
      },
      "source": [
        "**Converting UTC to UTC+1 or UTC+2**\n",
        "\n",
        "\n",
        "Standard time:\tUTC +1\tCentral European Time (CET)\n",
        "Daylight saving time:\tUTC +2\tCentral European Summertime (CEST)\n",
        "![Screenshot 2024-02-19 at 10.19.15 AM.png](attachment:828188b3-b04a-4619-8b20-7a4f1014e0d3.png)\n"
      ]
    },
    {
      "cell_type": "code",
      "execution_count": 103,
      "id": "b45de636-54f9-4a46-b90e-8a1c4fbf38a3",
      "metadata": {
        "id": "b45de636-54f9-4a46-b90e-8a1c4fbf38a3"
      },
      "outputs": [],
      "source": [
        "def add_timedelta_based_on_month(dt):\n",
        "    if dt.month in [4, 5, 6, 7, 8, 9, 10]:  # Summer months: April, May, June, July, August, September, October\n",
        "        return dt + pd.Timedelta(hours=2)\n",
        "    else:  # Winter months: November, December, January, February, March\n",
        "        return dt + pd.Timedelta(hours=1)"
      ]
    },
    {
      "cell_type": "code",
      "execution_count": 109,
      "id": "e2eb5535-f3cd-4616-8af0-c40e6ec2e3c9",
      "metadata": {
        "id": "e2eb5535-f3cd-4616-8af0-c40e6ec2e3c9",
        "colab": {
          "base_uri": "https://localhost:8080/",
          "height": 291
        },
        "outputId": "0e6b2561-8144-4a7a-b77b-6378d7ae4c71"
      },
      "outputs": [
        {
          "output_type": "stream",
          "name": "stderr",
          "text": [
            "<ipython-input-109-ed62f1fe8ace>:4: DeprecationWarning: `apply` is deprecated. It has been renamed to `map_elements`.\n",
            "  pl.col(\"date\").apply(add_timedelta_based_on_month)\n"
          ]
        },
        {
          "output_type": "execute_result",
          "data": {
            "text/plain": [
              "shape: (5, 8)\n",
              "┌────────────┬────────────┬────────────┬────────────┬───────────┬──────────┬───────────┬───────────┐\n",
              "│ date       ┆ wind_speed ┆ wind_direc ┆ radiation_ ┆ air_tempe ┆ humidity ┆ wind_gust ┆ wind_dire │\n",
              "│ ---        ┆ ---        ┆ tion       ┆ global     ┆ rature    ┆ ---      ┆ _max      ┆ ction_gus │\n",
              "│ datetime[μ ┆ f64        ┆ ---        ┆ ---        ┆ ---       ┆ f64      ┆ ---       ┆ t_max     │\n",
              "│ s]         ┆            ┆ f64        ┆ f64        ┆ f64       ┆          ┆ f64       ┆ ---       │\n",
              "│            ┆            ┆            ┆            ┆           ┆          ┆           ┆ f64       │\n",
              "╞════════════╪════════════╪════════════╪════════════╪═══════════╪══════════╪═══════════╪═══════════╡\n",
              "│ 2020-01-01 ┆ 2.1        ┆ 250.0      ┆ 0.0        ┆ 80.7      ┆ 80.7     ┆ 3.3       ┆ 250.0     │\n",
              "│ 00:00:00   ┆            ┆            ┆            ┆           ┆          ┆           ┆           │\n",
              "│ 2020-01-01 ┆ 2.9        ┆ 270.0      ┆ 0.0        ┆ 79.2      ┆ 79.2     ┆ 4.9       ┆ 270.0     │\n",
              "│ 00:10:00   ┆            ┆            ┆            ┆           ┆          ┆           ┆           │\n",
              "│ 2020-01-01 ┆ 2.5        ┆ 260.0      ┆ 0.0        ┆ 80.7      ┆ 80.7     ┆ 3.6       ┆ 260.0     │\n",
              "│ 00:20:00   ┆            ┆            ┆            ┆           ┆          ┆           ┆           │\n",
              "│ 2020-01-01 ┆ 2.4        ┆ 240.0      ┆ 0.0        ┆ 80.4      ┆ 80.4     ┆ 3.5       ┆ 250.0     │\n",
              "│ 00:30:00   ┆            ┆            ┆            ┆           ┆          ┆           ┆           │\n",
              "│ 2020-01-01 ┆ 2.6        ┆ 250.0      ┆ 0.0        ┆ 80.6      ┆ 80.6     ┆ 3.4       ┆ 250.0     │\n",
              "│ 00:40:00   ┆            ┆            ┆            ┆           ┆          ┆           ┆           │\n",
              "└────────────┴────────────┴────────────┴────────────┴───────────┴──────────┴───────────┴───────────┘"
            ],
            "text/html": [
              "<div><style>\n",
              ".dataframe > thead > tr,\n",
              ".dataframe > tbody > tr {\n",
              "  text-align: right;\n",
              "  white-space: pre-wrap;\n",
              "}\n",
              "</style>\n",
              "<small>shape: (5, 8)</small><table border=\"1\" class=\"dataframe\"><thead><tr><th>date</th><th>wind_speed</th><th>wind_direction</th><th>radiation_global</th><th>air_temperature</th><th>humidity</th><th>wind_gust_max</th><th>wind_direction_gust_max</th></tr><tr><td>datetime[μs]</td><td>f64</td><td>f64</td><td>f64</td><td>f64</td><td>f64</td><td>f64</td><td>f64</td></tr></thead><tbody><tr><td>2020-01-01 00:00:00</td><td>2.1</td><td>250.0</td><td>0.0</td><td>80.7</td><td>80.7</td><td>3.3</td><td>250.0</td></tr><tr><td>2020-01-01 00:10:00</td><td>2.9</td><td>270.0</td><td>0.0</td><td>79.2</td><td>79.2</td><td>4.9</td><td>270.0</td></tr><tr><td>2020-01-01 00:20:00</td><td>2.5</td><td>260.0</td><td>0.0</td><td>80.7</td><td>80.7</td><td>3.6</td><td>260.0</td></tr><tr><td>2020-01-01 00:30:00</td><td>2.4</td><td>240.0</td><td>0.0</td><td>80.4</td><td>80.4</td><td>3.5</td><td>250.0</td></tr><tr><td>2020-01-01 00:40:00</td><td>2.6</td><td>250.0</td><td>0.0</td><td>80.6</td><td>80.6</td><td>3.4</td><td>250.0</td></tr></tbody></table></div>"
            ]
          },
          "metadata": {},
          "execution_count": 109
        }
      ],
      "source": [
        "weather_df = new_df.clone()\n",
        "\n",
        "weather_df = weather_df.with_columns(\n",
        "    pl.col(\"date\").apply(add_timedelta_based_on_month)\n",
        ")\n",
        "\n",
        "weather_df = weather_df.slice(1,None) #removing the first row\n",
        "weather_df.head()"
      ]
    },
    {
      "cell_type": "markdown",
      "source": [
        "**Saving weather_df as a csv file**"
      ],
      "metadata": {
        "id": "Yu-ROLdcxOc7"
      },
      "id": "Yu-ROLdcxOc7"
    },
    {
      "cell_type": "code",
      "source": [
        "path: pathlib.Path = \"/content/drive/MyDrive/ms_wind_curtailment_prediction/weather_data.csv\"\n",
        "weather_df.write_csv(path, separator=\",\")"
      ],
      "metadata": {
        "id": "AdFbWbXvoKaX"
      },
      "id": "AdFbWbXvoKaX",
      "execution_count": 122,
      "outputs": []
    },
    {
      "cell_type": "code",
      "source": [],
      "metadata": {
        "id": "FXlpRZn6xopJ"
      },
      "id": "FXlpRZn6xopJ",
      "execution_count": null,
      "outputs": []
    }
  ],
  "metadata": {
    "kernelspec": {
      "display_name": "Python 3 (ipykernel)",
      "language": "python",
      "name": "python3"
    },
    "language_info": {
      "codemirror_mode": {
        "name": "ipython",
        "version": 3
      },
      "file_extension": ".py",
      "mimetype": "text/x-python",
      "name": "python",
      "nbconvert_exporter": "python",
      "pygments_lexer": "ipython3",
      "version": "3.11.5"
    },
    "colab": {
      "provenance": []
    }
  },
  "nbformat": 4,
  "nbformat_minor": 5
}