{
  "nbformat": 4,
  "nbformat_minor": 0,
  "metadata": {
    "colab": {
      "provenance": [],
      "authorship_tag": "ABX9TyPHyxLzlQr4bUsey2wNHJQW"
    },
    "kernelspec": {
      "name": "python3",
      "display_name": "Python 3"
    },
    "language_info": {
      "name": "python"
    }
  },
  "cells": [
    {
      "cell_type": "code",
      "execution_count": 1,
      "metadata": {
        "id": "zsb6v-_rvWMg"
      },
      "outputs": [],
      "source": [
        "# packages\n",
        "import os\n",
        "import numpy as np\n",
        "import pandas as pd"
      ]
    },
    {
      "cell_type": "code",
      "source": [
        "# mount your google drive\n",
        "from google.colab import drive\n",
        "drive.mount('/content/drive')"
      ],
      "metadata": {
        "id": "Wtf4f1v2vbKg",
        "outputId": "9942c6f4-9297-46e5-8d4b-b1c059352575",
        "colab": {
          "base_uri": "https://localhost:8080/"
        }
      },
      "execution_count": 2,
      "outputs": [
        {
          "output_type": "stream",
          "name": "stdout",
          "text": [
            "Mounted at /content/drive\n"
          ]
        }
      ]
    },
    {
      "cell_type": "markdown",
      "source": [
        "**Reading data sets and merging it together**"
      ],
      "metadata": {
        "id": "oFgHoRYCvgEf"
      }
    },
    {
      "cell_type": "code",
      "source": [
        "df_weather = pd.read_csv('/content/drive/My Drive/ms_wind_curtailment_prediction/weather_data.csv', sep = ',', index_col=0)\n",
        "df_weather['timestamp'] = pd.to_datetime(df_weather['date'])\n",
        "df_weather.set_index('timestamp', inplace=True)\n",
        "df_weather.drop('date', axis = 1, inplace = True)\n",
        "df_redispatch = pd.read_csv('/content/drive/My Drive/ms_wind_curtailment_prediction/wind_redispatch_2020_24.csv', sep = ';', index_col=0)\n",
        "df_redispatch.index = pd.to_datetime(df_redispatch.index)\n",
        "df_solar = pd.read_csv('/content/drive/My Drive/ms_wind_curtailment_prediction/solar_feedin_2020_24.csv', sep = ';', index_col=0)\n",
        "df_solar.index = pd.to_datetime(df_solar.index)\n",
        "df_demand = pd.read_csv('/content/drive/My Drive/ms_wind_curtailment_prediction/electricity_demand_2020_24.csv', sep = ';', index_col=0)\n",
        "df_demand.index = pd.to_datetime(df_demand.index)"
      ],
      "metadata": {
        "id": "qb3S4nZzvc7y"
      },
      "execution_count": 3,
      "outputs": []
    },
    {
      "cell_type": "code",
      "source": [
        "df_redispatch_subset = df_redispatch[['redispatch', 'level']]\n",
        "df = df_redispatch_subset.merge(df_weather, how='outer', left_index=True, right_index=True)\n",
        "df = df.resample('15T').first()\n",
        "df = df.merge(df_solar, how='outer', left_index=True, right_index=True)\n",
        "df = df.merge(df_demand, how='outer', left_index=True, right_index=True)"
      ],
      "metadata": {
        "id": "JvJ4lEJMvjMc"
      },
      "execution_count": 4,
      "outputs": []
    },
    {
      "cell_type": "code",
      "source": [
        "df = df[(df.index.date >= pd.to_datetime('2020-01-01').date()) & (df.index.date <= pd.to_datetime('2023-12-30').date())]"
      ],
      "metadata": {
        "id": "lXGsDFZivmd0"
      },
      "execution_count": 5,
      "outputs": []
    },
    {
      "cell_type": "markdown",
      "source": [
        "**Impute missing values**"
      ],
      "metadata": {
        "id": "KmmkE0lClH-J"
      }
    },
    {
      "cell_type": "code",
      "source": [
        "# impute missing values for forecast solar with actual solar\n",
        "for index, row in df.iterrows():\n",
        "    if pd.isna(row['forecast_solar_MW']):\n",
        "        df.at[index, 'forecast_solar_MW'] = row['actual_solar_MW']\n",
        "\n",
        "# impute other missing values by interpolation\n",
        "columns_to_interpolate = [\"wind_speed_m/s\",  \"wind_direction_degrees\", \"humidity_percent\", \"radiation_global_J/m2\", \"air_temperature_K\", \"wind_gust_max_m/s\", \"wind_direction_gust_max_degrees\", \"forecast_solar_MW\", \"total_grid_load_MWh\", \"residual_load_MWh\", \"pumped_storage_MWh\"]\n",
        "df[columns_to_interpolate] = df[columns_to_interpolate].interpolate(method='linear', limit_direction='both')\n",
        "df.drop(\"actual_solar_MW\", axis = 1, inplace = True)"
      ],
      "metadata": {
        "id": "Bhn5Bh_6lE95"
      },
      "execution_count": 6,
      "outputs": []
    },
    {
      "cell_type": "code",
      "source": [
        "# save csv\n",
        "df.to_csv('/content/drive/My Drive/ms_wind_curtailment_prediction/curtailment_target_features.csv', sep = ';', index=True, index_label='timestamp')"
      ],
      "metadata": {
        "id": "tT7DUG8JvpIf"
      },
      "execution_count": 7,
      "outputs": []
    }
  ]
}