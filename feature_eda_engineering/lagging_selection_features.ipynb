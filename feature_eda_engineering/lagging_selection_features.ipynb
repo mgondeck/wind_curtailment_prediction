{
  "nbformat": 4,
  "nbformat_minor": 0,
  "metadata": {
    "colab": {
      "provenance": []
    },
    "kernelspec": {
      "name": "python3",
      "display_name": "Python 3"
    },
    "language_info": {
      "name": "python"
    }
  },
  "cells": [
    {
      "cell_type": "markdown",
      "source": [
        "##**Feature lagging**\n",
        "\n",
        "Lagging a time series involves shifting its values forward in time by one or more steps. This means that the observations in the lagged series will appear to have happened later in time compared to the original series. By doing this, we create \"lagged\" copies of the series, which can be useful for investigating serial dependence or cycles in the time series data. This allows us to incorporate past values of the series into our prediction model, which may help capture patterns or dependencies in the data and improve forecast accuracy.\n",
        "\n",
        "https://www.kaggle.com/code/ryanholbrook/time-series-as-features"
      ],
      "metadata": {
        "id": "f0Xx3qO7JvAC"
      }
    },
    {
      "cell_type": "code",
      "execution_count": 1,
      "metadata": {
        "id": "xS0Y5pU3qLRf"
      },
      "outputs": [],
      "source": [
        "import os\n",
        "import pandas as pd\n",
        "import numpy as np\n",
        "from scipy import stats as ss\n",
        "import datetime as dt\n",
        "\n",
        "from statsmodels.graphics.tsaplots import plot_pacf\n",
        "import matplotlib.pyplot as plt\n",
        "import seaborn as sns"
      ]
    },
    {
      "cell_type": "code",
      "source": [
        "from google.colab import drive\n",
        "drive.mount('/content/drive')"
      ],
      "metadata": {
        "colab": {
          "base_uri": "https://localhost:8080/"
        },
        "id": "fMP-RinKrEQ-",
        "outputId": "1134f158-ee8a-4b0a-e519-397442c1571f"
      },
      "execution_count": 2,
      "outputs": [
        {
          "output_type": "stream",
          "name": "stdout",
          "text": [
            "Mounted at /content/drive\n"
          ]
        }
      ]
    },
    {
      "cell_type": "code",
      "source": [
        "df = pd.read_csv(\"/content/drive/MyDrive/ms_wind_curtailment_prediction/curtailment_target_features.csv\", sep=\";\", index_col=0)"
      ],
      "metadata": {
        "id": "hZOQ1zkHrHlX"
      },
      "execution_count": 3,
      "outputs": []
    },
    {
      "cell_type": "code",
      "source": [
        "df_lag = df.drop(['redispatch', 'level'], axis =1)\n",
        "df_lagged = pd.DataFrame(index=df.index)\n",
        "df_lagged['redispatch'] = df['redispatch']\n",
        "df_lagged['level'] = df['level']\n",
        "\n",
        "for feature in df_lag.columns: # dependent variable included!\n",
        "    df_lagged[feature] = df[feature]\n",
        "    df_lagged[feature + '_lag1'] = df_lag[feature].shift(1)\n",
        "    df_lagged[feature + '_lag2'] = df_lag[feature].shift(2)\n",
        "    df_lagged[feature + '_lag3'] = df_lag[feature].shift(3)\n",
        "    df_lagged[feature + '_lag4'] = df_lag[feature].shift(4)\n",
        "    df_lagged[feature + '_lag5'] = df_lag[feature].shift(5)\n",
        "\n",
        "df_lagged.dropna(inplace = True) # maybe better ways"
      ],
      "metadata": {
        "id": "SmJSjVrwuNzK"
      },
      "execution_count": 4,
      "outputs": []
    },
    {
      "cell_type": "markdown",
      "source": [
        "tbd."
      ],
      "metadata": {
        "id": "-gzwKGLSpy10"
      }
    },
    {
      "cell_type": "code",
      "source": [
        "# Identify significant lag values (where autocorrelation is outside the confidence intervals)\n",
        "significant_lags = [48, 96]\n",
        "\n",
        "df_extended = df_lagged.copy()\n",
        "\n",
        "# Create lagged features\n",
        "for lag in significant_lags:\n",
        "    df_extended[f'redispatch_lag_{lag}'] = df_extended['redispatch'].shift(lag)\n",
        "    df_extended[f'level_lag_{lag}'] = df_extended['level'].shift(lag)\n",
        "\n",
        "# Drop rows with NaN values resulting from the shifting\n",
        "df_extended.dropna(inplace=True)"
      ],
      "metadata": {
        "id": "IZK_iAw0sBSA"
      },
      "execution_count": 6,
      "outputs": []
    },
    {
      "cell_type": "code",
      "source": [
        "df_lagged.to_csv(\"/content/drive/MyDrive/ms_wind_curtailment_prediction/lagged_curtailment_target_features.csv\", sep=\";\")"
      ],
      "metadata": {
        "id": "69SYBei3sN1h"
      },
      "execution_count": null,
      "outputs": []
    },
    {
      "cell_type": "code",
      "source": [
        "df_extended.to_csv(\"/content/drive/MyDrive/ms_wind_curtailment_prediction/lagged_curtailment_target_features_extended.csv\", sep=\";\")"
      ],
      "metadata": {
        "id": "BNdMLEaa-pS_"
      },
      "execution_count": 7,
      "outputs": []
    },
    {
      "cell_type": "code",
      "source": [],
      "metadata": {
        "id": "dqW4eTvKuEKr"
      },
      "execution_count": null,
      "outputs": []
    }
  ]
}