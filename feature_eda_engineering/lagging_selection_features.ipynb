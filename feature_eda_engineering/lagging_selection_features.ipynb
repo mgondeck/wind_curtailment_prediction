{
  "nbformat": 4,
  "nbformat_minor": 0,
  "metadata": {
    "colab": {
      "provenance": []
    },
    "kernelspec": {
      "name": "python3",
      "display_name": "Python 3"
    },
    "language_info": {
      "name": "python"
    }
  },
  "cells": [
    {
      "cell_type": "markdown",
      "source": [
        "##**Feature lagging**\n",
        "\n",
        "Lagging a time series involves shifting its values forward in time by one or more steps. This means that the observations in the lagged series will appear to have happened later in time compared to the original series. By doing this, we create \"lagged\" copies of the series, which can be useful for investigating serial dependence or cycles in the time series data. This allows us to incorporate past values of the series into our prediction model, which may help capture patterns or dependencies in the data and improve forecast accuracy.\n",
        "\n",
        "https://www.kaggle.com/code/ryanholbrook/time-series-as-features"
      ],
      "metadata": {
        "id": "f0Xx3qO7JvAC"
      }
    },
    {
      "cell_type": "code",
      "execution_count": 4,
      "metadata": {
        "id": "xS0Y5pU3qLRf"
      },
      "outputs": [],
      "source": [
        "import os\n",
        "import pandas as pd\n",
        "import numpy as np\n",
        "from scipy import stats as ss\n",
        "import datetime as dt\n",
        "\n",
        "from statsmodels.graphics.tsaplots import plot_pacf\n",
        "import matplotlib.pyplot as plt\n",
        "import seaborn as sns"
      ]
    },
    {
      "cell_type": "code",
      "source": [
        "from google.colab import drive\n",
        "drive.mount('/content/drive')"
      ],
      "metadata": {
        "colab": {
          "base_uri": "https://localhost:8080/"
        },
        "id": "fMP-RinKrEQ-",
        "outputId": "bb5cda3f-d799-48c1-c6af-b64a90c5627b"
      },
      "execution_count": 5,
      "outputs": [
        {
          "output_type": "stream",
          "name": "stdout",
          "text": [
            "Drive already mounted at /content/drive; to attempt to forcibly remount, call drive.mount(\"/content/drive\", force_remount=True).\n"
          ]
        }
      ]
    },
    {
      "cell_type": "code",
      "source": [
        "# searching for files, load data and convert index to datetime type\n",
        "def search_file(directory, filename):\n",
        "    for root, dirs, files in os.walk(directory):\n",
        "        if filename in files:\n",
        "            return os.path.join(root, filename)\n",
        "    return None\n",
        "\n",
        "search_directory = '/content/drive/My Drive'\n",
        "file_name = 'curtailment_target_features.csv'\n",
        "file_path = search_file(search_directory, file_name)\n",
        "\n",
        "df = pd.read_csv(file_path, sep = ';', index_col=0)\n",
        "df.index = pd.to_datetime(df.index)"
      ],
      "metadata": {
        "id": "hZOQ1zkHrHlX"
      },
      "execution_count": 7,
      "outputs": []
    },
    {
      "cell_type": "markdown",
      "source": [
        "**XGBoost and DL**\n",
        "\n",
        "Lagg all features for XGBoost and DL model"
      ],
      "metadata": {
        "id": "O0X1a0oRevAF"
      }
    },
    {
      "cell_type": "code",
      "source": [
        "# features\n",
        "df_lag = df.drop(['redispatch', 'level'], axis =1)\n",
        "df_lagged = pd.DataFrame(index=df.index)\n",
        "df_lagged['redispatch'] = df['redispatch']\n",
        "df_lagged['level'] = df['level']\n",
        "\n",
        "for feature in df_lag.columns:\n",
        "    df_lagged[feature] = df[feature]\n",
        "    df_lagged[feature + '_lag1'] = df_lag[feature].shift(1)\n",
        "    df_lagged[feature + '_lag2'] = df_lag[feature].shift(2)\n",
        "\n",
        "df_lagged.dropna(inplace = True)"
      ],
      "metadata": {
        "id": "2keDIY8IeufP"
      },
      "execution_count": 8,
      "outputs": []
    },
    {
      "cell_type": "code",
      "source": [
        "# target variable\n",
        "significant_lags = [48, 96]\n",
        "\n",
        "for lag in significant_lags:\n",
        "    df_lagged[f'redispatch_lag_{lag}'] = df_lagged['redispatch'].shift(lag)\n",
        "    df_lagged[f'level_lag_{lag}'] = df_lagged['level'].shift(lag)\n",
        "\n",
        "df_lagged.dropna(inplace=True)"
      ],
      "metadata": {
        "id": "IFouFxwweuQm"
      },
      "execution_count": 9,
      "outputs": []
    },
    {
      "cell_type": "markdown",
      "source": [
        "**Extra Tree Classifier**\n",
        "\n",
        "Drop highly correlating features and lagg the remaining for Extra Tree model"
      ],
      "metadata": {
        "id": "1hOu3-OYeIHa"
      }
    },
    {
      "cell_type": "code",
      "source": [
        "# drop features that are highly correlating with other features\n",
        "df_etc = df.drop(['wind_speed_m/s', 'radiation_global_J/m2', 'wind_direction_gust_max_degrees'], axis=1)"
      ],
      "metadata": {
        "id": "XH2kS2CXlXd7"
      },
      "execution_count": 10,
      "outputs": []
    },
    {
      "cell_type": "code",
      "source": [
        "# features\n",
        "df_lag = df_etc.drop(['redispatch', 'level'], axis =1)\n",
        "df_etc = pd.DataFrame(index=df.index)\n",
        "df_etc['redispatch'] = df['redispatch']\n",
        "df_etc['level'] = df['level']\n",
        "\n",
        "for feature in df_lag.columns:\n",
        "    df_etc[feature] = df[feature]\n",
        "    df_etc[feature + '_lag1'] = df_lag[feature].shift(1)\n",
        "    df_etc[feature + '_lag2'] = df_lag[feature].shift(2)\n",
        "\n",
        "df_etc.dropna(inplace = True)"
      ],
      "metadata": {
        "id": "SmJSjVrwuNzK"
      },
      "execution_count": 11,
      "outputs": []
    },
    {
      "cell_type": "code",
      "source": [
        "# target variable\n",
        "significant_lags = [48, 96]\n",
        "\n",
        "for lag in significant_lags:\n",
        "    df_etc[f'redispatch_lag_{lag}'] = df_etc['redispatch'].shift(lag)\n",
        "    df_etc[f'level_lag_{lag}'] = df_etc['level'].shift(lag)\n",
        "\n",
        "df_etc.dropna(inplace=True)"
      ],
      "metadata": {
        "id": "IZK_iAw0sBSA"
      },
      "execution_count": 12,
      "outputs": []
    },
    {
      "cell_type": "markdown",
      "source": [
        "**Save dataframes**"
      ],
      "metadata": {
        "id": "2xFDcqnFeftZ"
      }
    },
    {
      "cell_type": "code",
      "source": [
        "folder_path = '/content/drive/My Drive/wind_curtailment_prediction'\n",
        "\n",
        "if not os.path.exists(folder_path):\n",
        "    os.makedirs(folder_path)\n",
        "    print(\"Folder created successfully.\")\n",
        "else:\n",
        "    print(\"Folder already exists.\")"
      ],
      "metadata": {
        "id": "KcxuhOXLl-Vy",
        "outputId": "0e2c6e5b-c087-4185-e2ed-f3758b6bc1e9",
        "colab": {
          "base_uri": "https://localhost:8080/"
        }
      },
      "execution_count": 16,
      "outputs": [
        {
          "output_type": "stream",
          "name": "stdout",
          "text": [
            "Folder already exists.\n"
          ]
        }
      ]
    },
    {
      "cell_type": "code",
      "source": [
        "df_lagged.to_csv(\"/content/drive/MyDrive/wind_curtailment_prediction/lagged_curtailment_target_features.csv\", sep=\";\")"
      ],
      "metadata": {
        "id": "69SYBei3sN1h"
      },
      "execution_count": 17,
      "outputs": []
    },
    {
      "cell_type": "code",
      "source": [
        "df_etc.to_csv(\"/content/drive/MyDrive/wind_curtailment_prediction/lagged_curtailment_target_features_etc.csv\", sep=\";\")"
      ],
      "metadata": {
        "id": "BNdMLEaa-pS_"
      },
      "execution_count": 18,
      "outputs": []
    }
  ]
}