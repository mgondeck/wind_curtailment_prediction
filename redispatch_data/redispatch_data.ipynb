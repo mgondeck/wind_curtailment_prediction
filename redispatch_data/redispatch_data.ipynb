{
 "cells": [
  {
   "cell_type": "markdown",
   "id": "cfa550c6-9997-4d78-8888-225e27dc51e3",
   "metadata": {},
   "source": [
    "## Redispatch data of wind power plants in Langenhorn (Schleswig-Holstein)"
   ]
  },
  {
   "cell_type": "code",
   "execution_count": 138,
   "id": "7a67e350-893d-481d-b993-8cbdd76ac063",
   "metadata": {
    "tags": []
   },
   "outputs": [],
   "source": [
    "# packages\n",
    "import pandas as pd\n",
    "import matplotlib.pyplot as plt\n",
    "from datetime import datetime, timedelta"
   ]
  },
  {
   "cell_type": "markdown",
   "id": "46bed8e3-43c2-4086-aed5-2e440801c06f",
   "metadata": {},
   "source": [
    "**Redipatch data of the location Langenhorn (not only wind)**\n",
    "\n",
    "Website Redispatch data SH-Netz (DSO): https://www.sh-netz.com/de/energie-einspeisen/redispatch-2-0/einspeisemanagement/veroeffentlichungen/abgeschlossene-massnahmen.html"
   ]
  },
  {
   "cell_type": "code",
   "execution_count": 139,
   "id": "fe307e03-1ac0-4abc-9bde-471776aa3ad5",
   "metadata": {
    "tags": []
   },
   "outputs": [],
   "source": [
    "df_redispatch = pd.read_csv(\"../data/Redispatch_Langenhorn.csv\", sep = ';')\n",
    "\n",
    "columns_to_keep = ['Start', 'Ende', 'Dauer (Min)', \n",
    "                   'Stufe (%)', 'Ursache', 'Anlagenschlüssel'] \n",
    "                   #'Ort Engpass', 'Einsatz-ID', , 'Gebiet', 'Anforderer', 'Netzbetreiber',\n",
    "                   #'Anlagen-ID', 'Entschädigungspflicht']\n",
    "\n",
    "column_name_mapping = {\n",
    "#    'Einsatz-ID': 'mission_ID',\n",
    "    'Start': 'start_redispatch',\n",
    "    'Ende': 'end_redispatch',\n",
    "    'Dauer (Min)': 'duration (min)',\n",
    "#    'Gebiet': 'location',\n",
    "#    'Ort Engpass': 'congestion_location',\n",
    "    'Stufe (%)': 'level',\n",
    "    'Ursache': 'cause',\n",
    "    'Anlagenschlüssel': 'plant_key_eeg',\n",
    "#    'Anforderer': 'requester',\n",
    "#    'Netzbetreiber': 'grid_operator',\n",
    "#    'Anlagen-ID': 'plant_ID',\n",
    "#    'Entschädigungspflicht': 'compensation_obligation'\n",
    "}\n",
    "df_redispatch = df_redispatch[columns_to_keep].rename(columns=column_name_mapping)\n",
    "\n",
    "translation_dict = {\n",
    "    'Netzengpass': 'grid congestion',\n",
    "    'Funktionsnachweis': 'functional proof',\n",
    "    'Kundenfunktionstest': 'customer function test',\n",
    "    'Test': 'test',\n",
    "    'Direktvermarkter': 'direct marketer',\n",
    "    'Sonstige': 'other', \n",
    "    'Vorgelagerter Netzbetreiber': 'upstream grid operator'\n",
    "    }\n",
    "\n",
    "df_redispatch['cause'] = df_redispatch['cause'].map(translation_dict).fillna(df_redispatch['cause'])\n",
    "\n",
    "# change data types of columns \n",
    "df_redispatch['start_redispatch'] = pd.to_datetime(df_redispatch['start_redispatch'], errors='coerce', format='mixed', dayfirst=True)\n",
    "df_redispatch['end_redispatch'] = pd.to_datetime(df_redispatch['end_redispatch'], errors='coerce', format='mixed', dayfirst=True)"
   ]
  },
  {
   "cell_type": "markdown",
   "id": "f5cd8675-5423-4b74-a135-72a53589836d",
   "metadata": {},
   "source": [
    "**EEG-keys and plant type data of Langenhorn (not only wind)**\n",
    "\n",
    "Website:\n",
    "http://www.energymap.info/energieregionen/DE/105/119/477/19932.html"
   ]
  },
  {
   "cell_type": "code",
   "execution_count": 140,
   "id": "83d848cb-bcd5-4797-8933-c7373a6d287c",
   "metadata": {
    "tags": []
   },
   "outputs": [],
   "source": [
    "df_eeg = pd.read_csv(\"../data/EEG_Langenhorn.csv\", sep = ';')\n",
    "\n",
    "columns_to_keep = ['Anlagenschluessel', 'Anlagentyp', 'Inbetriebnahme', 'DSO', 'TSO', \n",
    "                   #'Nennleistung(kWp_el)', 'kWh(2013)', 'kWh(average)', 'kWh/kW', \n",
    "                   'GPS-Lat', 'GPS-Lon']\n",
    "\n",
    "column_name_mapping = {\n",
    "    'Inbetriebnahme': 'commissioning_date',\n",
    "    'Anlagenschluessel': 'plant_key_eeg',\n",
    "    'Anlagentyp': 'plant_type',\n",
    "#    'Nennleistung(kWp_el)': 'rated_capacity_kWp', # bruttoleistung\n",
    "    'DSO': 'dso',\n",
    "    'TSO': 'tso',\n",
    "#    'kWh(2013)': 'kWh_2013',\n",
    "#    'kWh(average)': 'avg_kWh',\n",
    "#    'kWh/kW': 'kWh/kW',\n",
    "    'GPS-Lat': 'lat',\n",
    "    'GPS-Lon': 'long'\n",
    "}\n",
    "\n",
    "df_eeg = df_eeg[columns_to_keep].rename(columns=column_name_mapping)\n",
    "\n",
    "# change data types of columns \n",
    "df_eeg['commissioning_date'] = pd.to_datetime(df_eeg['commissioning_date'], errors='coerce', format='mixed', dayfirst=True)\n",
    "#df_eeg['rated_capacity_kWp'] = df_eeg['rated_capacity_kWp'].str.replace(',', '.')\n",
    "#df_eeg['kWh_2013'] = df_eeg['kWh_2013'].str.replace('.', '')\n",
    "#df_eeg['avg_kWh'] = df_eeg['avg_kWh'].str.replace('.', '')\n",
    "#df_eeg['avg_kWh'] = df_eeg['avg_kWh'].str.replace(',', '.')\n",
    "df_eeg['lat'] = df_eeg['lat'].str.replace(',', '.')\n",
    "df_eeg['long'] = df_eeg['long'].str.replace(',', '.')\n",
    "#df_eeg['kWh_2013'] = df_eeg['kWh_2013'].astype(float)\n",
    "#df_eeg['rated_capacity_kWp'] = df_eeg['rated_capacity_kWp'].astype(float)\n",
    "#df_eeg['avg_kWh'] = df_eeg['avg_kWh'].astype(float)\n",
    "df_eeg['lat'] = df_eeg['lat'].astype(float)\n",
    "df_eeg['long'] = df_eeg['long'].astype(float)\n",
    "\n",
    "translation_dict = {\n",
    "    'Solarstrom': 'solar',\n",
    "    'Biomasse': 'biomass',\n",
    "    'Windkraft': 'wind',\n",
    "    }\n",
    "\n",
    "df_eeg['plant_type'] = df_eeg['plant_type'].map(translation_dict).fillna(df_eeg['plant_type'])\n",
    "\n",
    "df_eeg.dropna(inplace = True)"
   ]
  },
  {
   "cell_type": "markdown",
   "id": "aed5b99a-08aa-418d-891f-8761d04deb5b",
   "metadata": {},
   "source": [
    "**Filter wind power plants in df_redispatch by mapping EEG-keys of wind plants from df_eeg**"
   ]
  },
  {
   "cell_type": "code",
   "execution_count": 141,
   "id": "05970e93-fbbd-46f9-aa0c-89a5b04dba54",
   "metadata": {
    "tags": []
   },
   "outputs": [],
   "source": [
    "df_redispatch_wind = pd.merge(df_redispatch, df_eeg[df_eeg['plant_type'] == 'wind'], on='plant_key_eeg', how='inner')\n"
   ]
  },
  {
   "cell_type": "code",
   "execution_count": 142,
   "id": "d536829b-6a31-4e92-b555-c76f9ad8bbe0",
   "metadata": {
    "tags": []
   },
   "outputs": [
    {
     "data": {
      "text/plain": [
       "Index(['start_redispatch', 'end_redispatch', 'duration (min)', 'level',\n",
       "       'cause', 'plant_key_eeg', 'plant_type', 'commissioning_date', 'dso',\n",
       "       'tso', 'lat', 'long'],\n",
       "      dtype='object')"
      ]
     },
     "execution_count": 142,
     "metadata": {},
     "output_type": "execute_result"
    }
   ],
   "source": [
    "df_redispatch_wind.columns"
   ]
  },
  {
   "cell_type": "code",
   "execution_count": 143,
   "id": "318504c2-f46a-405a-a6b5-69d22cedce14",
   "metadata": {
    "tags": []
   },
   "outputs": [
    {
     "data": {
      "text/plain": [
       "array(['E20793012S12X00000000002414080001',\n",
       "       'E20793012S12Z00000000002414080001',\n",
       "       'E20793012S12000000000002414080001',\n",
       "       'E20793012S12Y00000000002414080001',\n",
       "       'E20793012S12V00000000002414080001',\n",
       "       'E20793012S12W00000000002414080001',\n",
       "       'E2079301EA01000000000070577400001',\n",
       "       'E2079301EA01000000000070577400002',\n",
       "       'E2079301EA01000000000070577400003',\n",
       "       'E2079301EA01000000000070577400004',\n",
       "       'E2079301EA01000000000070577400005',\n",
       "       'E2079301EA01000000000070577400006'], dtype=object)"
      ]
     },
     "execution_count": 143,
     "metadata": {},
     "output_type": "execute_result"
    }
   ],
   "source": [
    "df_redispatch_wind['plant_key_eeg'].unique() # 12 unique wind plants "
   ]
  },
  {
   "cell_type": "markdown",
   "id": "5338c8c9-755a-4d4b-bfe6-d4b8ee373b90",
   "metadata": {},
   "source": [
    "**Look up if the 12 identified wind plants are registered in the Marktstammdatenregister**\n",
    "\n",
    "Website:\n",
    "https://www.marktstammdatenregister.de/MaStR/Einheit/Einheiten/OeffentlicheEinheitenuebersicht"
   ]
  },
  {
   "cell_type": "code",
   "execution_count": 144,
   "id": "cf1939f7-54e8-498e-a0e1-3387d5909b7b",
   "metadata": {
    "tags": []
   },
   "outputs": [],
   "source": [
    "# Marktstammdatenregister Windkraft Langenhorn\n",
    "df_register = pd.read_csv(\"../data/Marktstammdatenregister_Langenhorn.csv\", sep = ';')\n",
    "\n",
    "# select relevant features\n",
    "columns_to_keep = ['MaStR-Nr. der Einheit', 'Inbetriebnahmedatum der Einheit',\n",
    "                   #'Bruttoleistung der Einheit', 'Nettonennleistung der Einheit', '\\tMaStR-Nr. des Anlagenbetreibers',\n",
    "                   'Name des Anlagenbetreibers (nur Org.)']\n",
    "\n",
    "# translate column names\n",
    "column_name_mapping = {\n",
    "    'MaStR-Nr. der Einheit': 'plant_key_mastr',\n",
    "    'Inbetriebnahmedatum der Einheit': 'commissioning_date',\n",
    "#    'Bruttoleistung der Einheit': 'gross_capacity',\n",
    "#    'Nettonennleistung der Einheit': 'net_capacity',\n",
    "#    '\\tMaStR-Nr. des Anlagenbetreibers': 'operator_key',\n",
    "    'Name des Anlagenbetreibers (nur Org.)': 'operator_name'\n",
    "}\n",
    "\n",
    "df_register = df_register[columns_to_keep].rename(columns=column_name_mapping)\n",
    "df_register['commissioning_date'] = pd.to_datetime(df_register['commissioning_date'], errors='coerce', format='mixed', dayfirst=True)"
   ]
  },
  {
   "cell_type": "code",
   "execution_count": 145,
   "id": "91766964-d5b6-4fc2-b417-d336fb111f50",
   "metadata": {
    "tags": []
   },
   "outputs": [],
   "source": [
    "# Merge the DataFrames on 'commissioning_date'\n",
    "df_redispatch_wind_registered = pd.merge(df_redispatch_wind, df_register, on='commissioning_date', how='inner')"
   ]
  },
  {
   "cell_type": "markdown",
   "id": "a40c741d-8b23-4365-94a6-2d7635f76ed2",
   "metadata": {
    "tags": []
   },
   "source": [
    "**Create a df minute-by-minute redispatch of the 11 wind plants found in the register**"
   ]
  },
  {
   "cell_type": "code",
   "execution_count": 146,
   "id": "2f815df7-ee21-4c1a-ab90-26951db62dc9",
   "metadata": {
    "tags": []
   },
   "outputs": [],
   "source": [
    "# remove duplicates and unnecessary columns\n",
    "df_redispatch_wind_registered = df_redispatch_wind_registered.drop_duplicates()\n",
    "df_redispatch_wind_registered.reset_index(inplace=True, drop=True)\n",
    "\n",
    "columns_to_remove = ['duration (min)', 'commissioning_date']\n",
    "df_redispatch_wind_registered.drop(columns_to_remove, axis = 1, inplace = True)"
   ]
  },
  {
   "cell_type": "code",
   "execution_count": 147,
   "id": "76511731-7a63-4081-95d0-c6540a874004",
   "metadata": {
    "tags": []
   },
   "outputs": [],
   "source": [
    "# last two years\n",
    "# latest_end = df_redispatch_wind_registered['end_redispatch'].max()\n",
    "# earliest_start = latest_end - timedelta(days=365 * 2)\n",
    "\n",
    "# one year (2023)\n",
    "earliest_start = datetime(2023, 1, 1, 0, 0, 0)\n",
    "latest_end = datetime(2024, 2, 1, 0, 0, 0)\n",
    "\n",
    "time_index = pd.date_range(start=earliest_start, end=latest_end, freq='10T') # all 10 min\n",
    "subset_df = df_redispatch_wind_registered[(df_redispatch_wind_registered['start_redispatch'] >= earliest_start) & (df_redispatch_wind_registered['end_redispatch'] <= latest_end)]"
   ]
  },
  {
   "cell_type": "code",
   "execution_count": 148,
   "id": "24b71dfe-5658-4e04-9806-3e0ac1e8a2b3",
   "metadata": {
    "tags": []
   },
   "outputs": [],
   "source": [
    "wind_redispatch = pd.DataFrame(index=time_index)\n",
    "wind_redispatch['redispatch'] = 0\n",
    "columns_to_copy = ['level', 'cause', 'plant_key_eeg', 'plant_key_mastr',\n",
    "                   'lat', 'long', 'operator_name', 'dso', 'tso']\n",
    "for column in columns_to_copy:\n",
    "    wind_redispatch[column] = ''\n",
    "\n",
    "# iterate over the subset_df    \n",
    "for _, column in subset_df.iterrows():\n",
    "    start = column['start_redispatch']\n",
    "    end = column['end_redispatch']\n",
    "    mask = (wind_redispatch.index >= start) & (wind_redispatch.index <= end)\n",
    "    wind_redispatch.loc[mask, 'redispatch'] = 1\n",
    "    for column in columns_to_copy:\n",
    "        wind_redispatch.loc[mask, column] = row[column]\n",
    "\n",
    "# replace empty entries when redispatch is 0 with 0 instead of \"\"\n",
    "wind_redispatch.loc[wind_redispatch['redispatch'] == 0, :] = 0     "
   ]
  },
  {
   "cell_type": "code",
   "execution_count": 149,
   "id": "a123f0ac-49ee-4388-a72a-f2f1b879f92e",
   "metadata": {
    "collapsed": true,
    "jupyter": {
     "outputs_hidden": true
    },
    "tags": []
   },
   "outputs": [
    {
     "data": {
      "text/html": [
       "<div>\n",
       "<style scoped>\n",
       "    .dataframe tbody tr th:only-of-type {\n",
       "        vertical-align: middle;\n",
       "    }\n",
       "\n",
       "    .dataframe tbody tr th {\n",
       "        vertical-align: top;\n",
       "    }\n",
       "\n",
       "    .dataframe thead th {\n",
       "        text-align: right;\n",
       "    }\n",
       "</style>\n",
       "<table border=\"1\" class=\"dataframe\">\n",
       "  <thead>\n",
       "    <tr style=\"text-align: right;\">\n",
       "      <th></th>\n",
       "      <th>redispatch</th>\n",
       "      <th>level</th>\n",
       "      <th>cause</th>\n",
       "      <th>plant_key_eeg</th>\n",
       "      <th>plant_key_mastr</th>\n",
       "      <th>lat</th>\n",
       "      <th>long</th>\n",
       "      <th>operator_name</th>\n",
       "      <th>dso</th>\n",
       "      <th>tso</th>\n",
       "    </tr>\n",
       "  </thead>\n",
       "  <tbody>\n",
       "    <tr>\n",
       "      <th>2023-01-03 23:50:00</th>\n",
       "      <td>1</td>\n",
       "      <td>0</td>\n",
       "      <td>grid congestion</td>\n",
       "      <td>E2079301EA01000000000070577400006</td>\n",
       "      <td>SEE923447900071</td>\n",
       "      <td>54.679</td>\n",
       "      <td>8.908</td>\n",
       "      <td>Bürgerwindpark Langenhorn II</td>\n",
       "      <td>Schleswig-Holstein Netz AG (E.ON Hanse AG)</td>\n",
       "      <td>TenneT TSO GmbH</td>\n",
       "    </tr>\n",
       "    <tr>\n",
       "      <th>2023-01-04 00:00:00</th>\n",
       "      <td>1</td>\n",
       "      <td>0</td>\n",
       "      <td>grid congestion</td>\n",
       "      <td>E2079301EA01000000000070577400006</td>\n",
       "      <td>SEE923447900071</td>\n",
       "      <td>54.679</td>\n",
       "      <td>8.908</td>\n",
       "      <td>Bürgerwindpark Langenhorn II</td>\n",
       "      <td>Schleswig-Holstein Netz AG (E.ON Hanse AG)</td>\n",
       "      <td>TenneT TSO GmbH</td>\n",
       "    </tr>\n",
       "    <tr>\n",
       "      <th>2023-01-04 00:10:00</th>\n",
       "      <td>1</td>\n",
       "      <td>0</td>\n",
       "      <td>grid congestion</td>\n",
       "      <td>E2079301EA01000000000070577400006</td>\n",
       "      <td>SEE923447900071</td>\n",
       "      <td>54.679</td>\n",
       "      <td>8.908</td>\n",
       "      <td>Bürgerwindpark Langenhorn II</td>\n",
       "      <td>Schleswig-Holstein Netz AG (E.ON Hanse AG)</td>\n",
       "      <td>TenneT TSO GmbH</td>\n",
       "    </tr>\n",
       "    <tr>\n",
       "      <th>2023-01-04 00:20:00</th>\n",
       "      <td>1</td>\n",
       "      <td>0</td>\n",
       "      <td>grid congestion</td>\n",
       "      <td>E2079301EA01000000000070577400006</td>\n",
       "      <td>SEE923447900071</td>\n",
       "      <td>54.679</td>\n",
       "      <td>8.908</td>\n",
       "      <td>Bürgerwindpark Langenhorn II</td>\n",
       "      <td>Schleswig-Holstein Netz AG (E.ON Hanse AG)</td>\n",
       "      <td>TenneT TSO GmbH</td>\n",
       "    </tr>\n",
       "    <tr>\n",
       "      <th>2023-01-04 00:30:00</th>\n",
       "      <td>1</td>\n",
       "      <td>0</td>\n",
       "      <td>grid congestion</td>\n",
       "      <td>E2079301EA01000000000070577400006</td>\n",
       "      <td>SEE923447900071</td>\n",
       "      <td>54.679</td>\n",
       "      <td>8.908</td>\n",
       "      <td>Bürgerwindpark Langenhorn II</td>\n",
       "      <td>Schleswig-Holstein Netz AG (E.ON Hanse AG)</td>\n",
       "      <td>TenneT TSO GmbH</td>\n",
       "    </tr>\n",
       "    <tr>\n",
       "      <th>...</th>\n",
       "      <td>...</td>\n",
       "      <td>...</td>\n",
       "      <td>...</td>\n",
       "      <td>...</td>\n",
       "      <td>...</td>\n",
       "      <td>...</td>\n",
       "      <td>...</td>\n",
       "      <td>...</td>\n",
       "      <td>...</td>\n",
       "      <td>...</td>\n",
       "    </tr>\n",
       "    <tr>\n",
       "      <th>2023-12-14 16:10:00</th>\n",
       "      <td>1</td>\n",
       "      <td>0</td>\n",
       "      <td>grid congestion</td>\n",
       "      <td>E2079301EA01000000000070577400006</td>\n",
       "      <td>SEE923447900071</td>\n",
       "      <td>54.679</td>\n",
       "      <td>8.908</td>\n",
       "      <td>Bürgerwindpark Langenhorn II</td>\n",
       "      <td>Schleswig-Holstein Netz AG (E.ON Hanse AG)</td>\n",
       "      <td>TenneT TSO GmbH</td>\n",
       "    </tr>\n",
       "    <tr>\n",
       "      <th>2023-12-14 16:20:00</th>\n",
       "      <td>1</td>\n",
       "      <td>0</td>\n",
       "      <td>grid congestion</td>\n",
       "      <td>E2079301EA01000000000070577400006</td>\n",
       "      <td>SEE923447900071</td>\n",
       "      <td>54.679</td>\n",
       "      <td>8.908</td>\n",
       "      <td>Bürgerwindpark Langenhorn II</td>\n",
       "      <td>Schleswig-Holstein Netz AG (E.ON Hanse AG)</td>\n",
       "      <td>TenneT TSO GmbH</td>\n",
       "    </tr>\n",
       "    <tr>\n",
       "      <th>2023-12-14 16:30:00</th>\n",
       "      <td>1</td>\n",
       "      <td>0</td>\n",
       "      <td>grid congestion</td>\n",
       "      <td>E2079301EA01000000000070577400006</td>\n",
       "      <td>SEE923447900071</td>\n",
       "      <td>54.679</td>\n",
       "      <td>8.908</td>\n",
       "      <td>Bürgerwindpark Langenhorn II</td>\n",
       "      <td>Schleswig-Holstein Netz AG (E.ON Hanse AG)</td>\n",
       "      <td>TenneT TSO GmbH</td>\n",
       "    </tr>\n",
       "    <tr>\n",
       "      <th>2023-12-14 16:40:00</th>\n",
       "      <td>1</td>\n",
       "      <td>0</td>\n",
       "      <td>grid congestion</td>\n",
       "      <td>E2079301EA01000000000070577400006</td>\n",
       "      <td>SEE923447900071</td>\n",
       "      <td>54.679</td>\n",
       "      <td>8.908</td>\n",
       "      <td>Bürgerwindpark Langenhorn II</td>\n",
       "      <td>Schleswig-Holstein Netz AG (E.ON Hanse AG)</td>\n",
       "      <td>TenneT TSO GmbH</td>\n",
       "    </tr>\n",
       "    <tr>\n",
       "      <th>2023-12-14 16:50:00</th>\n",
       "      <td>1</td>\n",
       "      <td>0</td>\n",
       "      <td>grid congestion</td>\n",
       "      <td>E2079301EA01000000000070577400006</td>\n",
       "      <td>SEE923447900071</td>\n",
       "      <td>54.679</td>\n",
       "      <td>8.908</td>\n",
       "      <td>Bürgerwindpark Langenhorn II</td>\n",
       "      <td>Schleswig-Holstein Netz AG (E.ON Hanse AG)</td>\n",
       "      <td>TenneT TSO GmbH</td>\n",
       "    </tr>\n",
       "  </tbody>\n",
       "</table>\n",
       "<p>3890 rows × 10 columns</p>\n",
       "</div>"
      ],
      "text/plain": [
       "                     redispatch level            cause  \\\n",
       "2023-01-03 23:50:00           1     0  grid congestion   \n",
       "2023-01-04 00:00:00           1     0  grid congestion   \n",
       "2023-01-04 00:10:00           1     0  grid congestion   \n",
       "2023-01-04 00:20:00           1     0  grid congestion   \n",
       "2023-01-04 00:30:00           1     0  grid congestion   \n",
       "...                         ...   ...              ...   \n",
       "2023-12-14 16:10:00           1     0  grid congestion   \n",
       "2023-12-14 16:20:00           1     0  grid congestion   \n",
       "2023-12-14 16:30:00           1     0  grid congestion   \n",
       "2023-12-14 16:40:00           1     0  grid congestion   \n",
       "2023-12-14 16:50:00           1     0  grid congestion   \n",
       "\n",
       "                                         plant_key_eeg  plant_key_mastr  \\\n",
       "2023-01-03 23:50:00  E2079301EA01000000000070577400006  SEE923447900071   \n",
       "2023-01-04 00:00:00  E2079301EA01000000000070577400006  SEE923447900071   \n",
       "2023-01-04 00:10:00  E2079301EA01000000000070577400006  SEE923447900071   \n",
       "2023-01-04 00:20:00  E2079301EA01000000000070577400006  SEE923447900071   \n",
       "2023-01-04 00:30:00  E2079301EA01000000000070577400006  SEE923447900071   \n",
       "...                                                ...              ...   \n",
       "2023-12-14 16:10:00  E2079301EA01000000000070577400006  SEE923447900071   \n",
       "2023-12-14 16:20:00  E2079301EA01000000000070577400006  SEE923447900071   \n",
       "2023-12-14 16:30:00  E2079301EA01000000000070577400006  SEE923447900071   \n",
       "2023-12-14 16:40:00  E2079301EA01000000000070577400006  SEE923447900071   \n",
       "2023-12-14 16:50:00  E2079301EA01000000000070577400006  SEE923447900071   \n",
       "\n",
       "                        lat   long                 operator_name  \\\n",
       "2023-01-03 23:50:00  54.679  8.908  Bürgerwindpark Langenhorn II   \n",
       "2023-01-04 00:00:00  54.679  8.908  Bürgerwindpark Langenhorn II   \n",
       "2023-01-04 00:10:00  54.679  8.908  Bürgerwindpark Langenhorn II   \n",
       "2023-01-04 00:20:00  54.679  8.908  Bürgerwindpark Langenhorn II   \n",
       "2023-01-04 00:30:00  54.679  8.908  Bürgerwindpark Langenhorn II   \n",
       "...                     ...    ...                           ...   \n",
       "2023-12-14 16:10:00  54.679  8.908  Bürgerwindpark Langenhorn II   \n",
       "2023-12-14 16:20:00  54.679  8.908  Bürgerwindpark Langenhorn II   \n",
       "2023-12-14 16:30:00  54.679  8.908  Bürgerwindpark Langenhorn II   \n",
       "2023-12-14 16:40:00  54.679  8.908  Bürgerwindpark Langenhorn II   \n",
       "2023-12-14 16:50:00  54.679  8.908  Bürgerwindpark Langenhorn II   \n",
       "\n",
       "                                                            dso  \\\n",
       "2023-01-03 23:50:00  Schleswig-Holstein Netz AG (E.ON Hanse AG)   \n",
       "2023-01-04 00:00:00  Schleswig-Holstein Netz AG (E.ON Hanse AG)   \n",
       "2023-01-04 00:10:00  Schleswig-Holstein Netz AG (E.ON Hanse AG)   \n",
       "2023-01-04 00:20:00  Schleswig-Holstein Netz AG (E.ON Hanse AG)   \n",
       "2023-01-04 00:30:00  Schleswig-Holstein Netz AG (E.ON Hanse AG)   \n",
       "...                                                         ...   \n",
       "2023-12-14 16:10:00  Schleswig-Holstein Netz AG (E.ON Hanse AG)   \n",
       "2023-12-14 16:20:00  Schleswig-Holstein Netz AG (E.ON Hanse AG)   \n",
       "2023-12-14 16:30:00  Schleswig-Holstein Netz AG (E.ON Hanse AG)   \n",
       "2023-12-14 16:40:00  Schleswig-Holstein Netz AG (E.ON Hanse AG)   \n",
       "2023-12-14 16:50:00  Schleswig-Holstein Netz AG (E.ON Hanse AG)   \n",
       "\n",
       "                                 tso  \n",
       "2023-01-03 23:50:00  TenneT TSO GmbH  \n",
       "2023-01-04 00:00:00  TenneT TSO GmbH  \n",
       "2023-01-04 00:10:00  TenneT TSO GmbH  \n",
       "2023-01-04 00:20:00  TenneT TSO GmbH  \n",
       "2023-01-04 00:30:00  TenneT TSO GmbH  \n",
       "...                              ...  \n",
       "2023-12-14 16:10:00  TenneT TSO GmbH  \n",
       "2023-12-14 16:20:00  TenneT TSO GmbH  \n",
       "2023-12-14 16:30:00  TenneT TSO GmbH  \n",
       "2023-12-14 16:40:00  TenneT TSO GmbH  \n",
       "2023-12-14 16:50:00  TenneT TSO GmbH  \n",
       "\n",
       "[3890 rows x 10 columns]"
      ]
     },
     "execution_count": 149,
     "metadata": {},
     "output_type": "execute_result"
    }
   ],
   "source": [
    "wind_redispatch[wind_redispatch[\"redispatch\"] == 1]"
   ]
  },
  {
   "cell_type": "code",
   "execution_count": 150,
   "id": "5aaf185e-84ea-4b2f-8bae-85c5e35bd828",
   "metadata": {},
   "outputs": [],
   "source": [
    "# store csv\n",
    "wind_redispatch.to_csv('wind_redispatch_2023.csv',sep = ',')"
   ]
  },
  {
   "cell_type": "code",
   "execution_count": null,
   "id": "478adf10-efe6-4b5f-a843-067f6f162846",
   "metadata": {},
   "outputs": [],
   "source": []
  }
 ],
 "metadata": {
  "kernelspec": {
   "display_name": "Python 3 (ipykernel)",
   "language": "python",
   "name": "python3"
  },
  "language_info": {
   "codemirror_mode": {
    "name": "ipython",
    "version": 3
   },
   "file_extension": ".py",
   "mimetype": "text/x-python",
   "name": "python",
   "nbconvert_exporter": "python",
   "pygments_lexer": "ipython3",
   "version": "3.11.3"
  }
 },
 "nbformat": 4,
 "nbformat_minor": 5
}
