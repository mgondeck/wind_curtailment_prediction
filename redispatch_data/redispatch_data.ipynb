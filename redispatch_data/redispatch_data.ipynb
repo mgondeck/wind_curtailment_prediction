{
 "cells": [
  {
   "cell_type": "markdown",
   "id": "cfa550c6-9997-4d78-8888-225e27dc51e3",
   "metadata": {},
   "source": [
    "## Redispatch data of wind power plants in Langenhorn (Schleswig-Holstein)"
   ]
  },
  {
   "cell_type": "code",
   "execution_count": 1,
   "id": "7a67e350-893d-481d-b993-8cbdd76ac063",
   "metadata": {
    "tags": []
   },
   "outputs": [],
   "source": [
    "# packages\n",
    "import pandas as pd\n",
    "import matplotlib.pyplot as plt\n",
    "from datetime import datetime, timedelta"
   ]
  },
  {
   "cell_type": "markdown",
   "id": "46bed8e3-43c2-4086-aed5-2e440801c06f",
   "metadata": {},
   "source": [
    "**Redipatch data of the location Langenhorn (not only wind)**\n",
    "\n",
    "Website Redispatch data SH-Netz (DSO): https://www.sh-netz.com/de/energie-einspeisen/redispatch-2-0/einspeisemanagement/veroeffentlichungen/abgeschlossene-massnahmen.html"
   ]
  },
  {
   "cell_type": "code",
   "execution_count": 2,
   "id": "fe307e03-1ac0-4abc-9bde-471776aa3ad5",
   "metadata": {
    "tags": []
   },
   "outputs": [],
   "source": [
    "df_redispatch = pd.read_csv(\"../data/Redispatch_Langenhorn.csv\", sep = ';')\n",
    "\n",
    "columns_to_keep = ['Start', 'Ende', 'Dauer (Min)', 'Ort Engpass', \n",
    "                   'Stufe (%)', 'Ursache', 'Anlagenschlüssel'] \n",
    "                   #'Einsatz-ID', , 'Gebiet', 'Anforderer', 'Netzbetreiber',\n",
    "                   #'Anlagen-ID', 'Entschädigungspflicht']\n",
    "\n",
    "column_name_mapping = {\n",
    "#    'Einsatz-ID': 'mission_ID',\n",
    "    'Start': 'start_redispatch',\n",
    "    'Ende': 'end_redispatch',\n",
    "    'Dauer (Min)': 'duration (min)',\n",
    "#    'Gebiet': 'location',\n",
    "    'Ort Engpass': 'congestion_location',\n",
    "    'Stufe (%)': 'level',\n",
    "    'Ursache': 'cause',\n",
    "    'Anlagenschlüssel': 'plant_key_eeg',\n",
    "#    'Anforderer': 'requester',\n",
    "#    'Netzbetreiber': 'grid_operator',\n",
    "#    'Anlagen-ID': 'plant_ID',\n",
    "#    'Entschädigungspflicht': 'compensation_obligation'\n",
    "}\n",
    "\n",
    "# Rename columns\n",
    "df_redispatch = df_redispatch[columns_to_keep].rename(columns=column_name_mapping)\n",
    "\n",
    "# change data types of columns \n",
    "df_redispatch['start_redispatch'] = pd.to_datetime(df_redispatch['start_redispatch'], errors='coerce', format='mixed', dayfirst=True)\n",
    "df_redispatch['end_redispatch'] = pd.to_datetime(df_redispatch['end_redispatch'], errors='coerce', format='mixed', dayfirst=True)"
   ]
  },
  {
   "cell_type": "markdown",
   "id": "f5cd8675-5423-4b74-a135-72a53589836d",
   "metadata": {},
   "source": [
    "**EEG-keys and plant type data of Langenhorn (not only wind)**\n",
    "\n",
    "Website:\n",
    "http://www.energymap.info/energieregionen/DE/105/119/477/19932.html"
   ]
  },
  {
   "cell_type": "code",
   "execution_count": 3,
   "id": "83d848cb-bcd5-4797-8933-c7373a6d287c",
   "metadata": {
    "tags": []
   },
   "outputs": [],
   "source": [
    "# load data\n",
    "df_eeg = pd.read_csv(\"../data/EEG_Langenhorn.csv\", sep = ';')\n",
    "\n",
    "# select relevant features\n",
    "columns_to_keep = ['Anlagenschluessel', 'Anlagentyp', 'Inbetriebnahme', 'DSO', 'TSO', \n",
    "                   #'Nennleistung(kWp_el)', 'kWh(2013)', 'kWh(average)', 'kWh/kW', \n",
    "                   'GPS-Lat', 'GPS-Lon']\n",
    "\n",
    "# translate column names\n",
    "column_name_mapping = {\n",
    "    'Inbetriebnahme': 'commissioning_date',\n",
    "    'Anlagenschluessel': 'plant_key_eeg',\n",
    "    'Anlagentyp': 'plant_type',\n",
    "#    'Nennleistung(kWp_el)': 'rated_capacity_kWp', # bruttoleistung\n",
    "    'DSO': 'dso',\n",
    "    'TSO': 'tso',\n",
    "#    'kWh(2013)': 'kWh_2013',\n",
    "#    'kWh(average)': 'avg_kWh',\n",
    "#    'kWh/kW': 'kWh/kW',\n",
    "    'GPS-Lat': 'lat',\n",
    "    'GPS-Lon': 'long'\n",
    "}\n",
    "\n",
    "df_eeg = df_eeg[columns_to_keep].rename(columns=column_name_mapping)\n",
    "\n",
    "# change data types of columns \n",
    "df_eeg['commissioning_date'] = pd.to_datetime(df_eeg['commissioning_date'], errors='coerce', format='mixed', dayfirst=True)\n",
    "#df_eeg['rated_capacity_kWp'] = df_eeg['rated_capacity_kWp'].str.replace(',', '.')\n",
    "#df_eeg['kWh_2013'] = df_eeg['kWh_2013'].str.replace('.', '')\n",
    "#df_eeg['avg_kWh'] = df_eeg['avg_kWh'].str.replace('.', '')\n",
    "#df_eeg['avg_kWh'] = df_eeg['avg_kWh'].str.replace(',', '.')\n",
    "df_eeg['lat'] = df_eeg['lat'].str.replace(',', '.')\n",
    "df_eeg['long'] = df_eeg['long'].str.replace(',', '.')\n",
    "#df_eeg['kWh_2013'] = df_eeg['kWh_2013'].astype(float)\n",
    "#df_eeg['rated_capacity_kWp'] = df_eeg['rated_capacity_kWp'].astype(float)\n",
    "#df_eeg['avg_kWh'] = df_eeg['avg_kWh'].astype(float)\n",
    "df_eeg['lat'] = df_eeg['lat'].astype(float)\n",
    "df_eeg['long'] = df_eeg['long'].astype(float)"
   ]
  },
  {
   "cell_type": "markdown",
   "id": "aed5b99a-08aa-418d-891f-8761d04deb5b",
   "metadata": {},
   "source": [
    "**Filter wind power plants in df_redispatch by mapping EEG-keys of wind plants from df_eeg**"
   ]
  },
  {
   "cell_type": "code",
   "execution_count": 4,
   "id": "05970e93-fbbd-46f9-aa0c-89a5b04dba54",
   "metadata": {
    "tags": []
   },
   "outputs": [],
   "source": [
    "df_redispatch_wind = pd.merge(df_redispatch, df_eeg[df_eeg['plant_type'] == 'Windkraft'], on='plant_key_eeg', how='inner')\n"
   ]
  },
  {
   "cell_type": "code",
   "execution_count": 5,
   "id": "d536829b-6a31-4e92-b555-c76f9ad8bbe0",
   "metadata": {
    "tags": []
   },
   "outputs": [
    {
     "data": {
      "text/plain": [
       "Index(['start_redispatch', 'end_redispatch', 'duration (min)',\n",
       "       'congestion_location', 'level', 'cause', 'plant_key_eeg', 'plant_type',\n",
       "       'commissioning_date', 'dso', 'tso', 'lat', 'long'],\n",
       "      dtype='object')"
      ]
     },
     "execution_count": 5,
     "metadata": {},
     "output_type": "execute_result"
    }
   ],
   "source": [
    "df_redispatch_wind.columns"
   ]
  },
  {
   "cell_type": "code",
   "execution_count": 6,
   "id": "318504c2-f46a-405a-a6b5-69d22cedce14",
   "metadata": {
    "tags": []
   },
   "outputs": [
    {
     "data": {
      "text/plain": [
       "array(['E20793012S12X00000000002414080001',\n",
       "       'E20793012S12Z00000000002414080001',\n",
       "       'E20793012S12000000000002414080001',\n",
       "       'E20793012S12Y00000000002414080001',\n",
       "       'E20793012S12V00000000002414080001',\n",
       "       'E20793012S12W00000000002414080001',\n",
       "       'E2079301EA01000000000070577400001',\n",
       "       'E2079301EA01000000000070577400002',\n",
       "       'E2079301EA01000000000070577400003',\n",
       "       'E2079301EA01000000000070577400004',\n",
       "       'E2079301EA01000000000070577400005',\n",
       "       'E2079301EA01000000000070577400006'], dtype=object)"
      ]
     },
     "execution_count": 6,
     "metadata": {},
     "output_type": "execute_result"
    }
   ],
   "source": [
    "df_redispatch_wind['plant_key_eeg'].unique() # 12 unique wind plants "
   ]
  },
  {
   "cell_type": "markdown",
   "id": "5338c8c9-755a-4d4b-bfe6-d4b8ee373b90",
   "metadata": {},
   "source": [
    "**Look up if the 12 identified wind plants are registered in the Marktstammdatenregister**\n",
    "\n",
    "Website:\n",
    "https://www.marktstammdatenregister.de/MaStR/Einheit/Einheiten/OeffentlicheEinheitenuebersicht"
   ]
  },
  {
   "cell_type": "code",
   "execution_count": 7,
   "id": "cf1939f7-54e8-498e-a0e1-3387d5909b7b",
   "metadata": {
    "tags": []
   },
   "outputs": [],
   "source": [
    "# Marktstammdatenregister Windkraft Langenhorn\n",
    "df_register = pd.read_csv(\"../data/Marktstammdatenregister_Langenhorn.csv\", sep = ';')\n",
    "\n",
    "# select relevant features\n",
    "columns_to_keep = ['MaStR-Nr. der Einheit', 'Inbetriebnahmedatum der Einheit',\n",
    "                   #'Bruttoleistung der Einheit', 'Nettonennleistung der Einheit', '\\tMaStR-Nr. des Anlagenbetreibers',\n",
    "                   'Name des Anlagenbetreibers (nur Org.)']\n",
    "\n",
    "# translate column names\n",
    "column_name_mapping = {\n",
    "    'MaStR-Nr. der Einheit': 'plant_key_mastr',\n",
    "    'Inbetriebnahmedatum der Einheit': 'commissioning_date',\n",
    "#    'Bruttoleistung der Einheit': 'gross_capacity',\n",
    "#    'Nettonennleistung der Einheit': 'net_capacity',\n",
    "#    '\\tMaStR-Nr. des Anlagenbetreibers': 'operator_key',\n",
    "    'Name des Anlagenbetreibers (nur Org.)': 'operator_name'\n",
    "}\n",
    "\n",
    "df_register = df_register[columns_to_keep].rename(columns=column_name_mapping)\n",
    "df_register['commissioning_date'] = pd.to_datetime(df_register['commissioning_date'], errors='coerce', format='mixed', dayfirst=True)"
   ]
  },
  {
   "cell_type": "code",
   "execution_count": 8,
   "id": "91766964-d5b6-4fc2-b417-d336fb111f50",
   "metadata": {
    "tags": []
   },
   "outputs": [],
   "source": [
    "# Merge the DataFrames on 'commissioning_date'\n",
    "df_redispatch_wind_registered = pd.merge(df_redispatch_wind, df_register, on='commissioning_date', how='inner')"
   ]
  },
  {
   "cell_type": "markdown",
   "id": "a40c741d-8b23-4365-94a6-2d7635f76ed2",
   "metadata": {
    "tags": []
   },
   "source": [
    "**Create a df minute-by-minute redispatch of the 11 wind plants found in the register**"
   ]
  },
  {
   "cell_type": "code",
   "execution_count": 9,
   "id": "2f815df7-ee21-4c1a-ab90-26951db62dc9",
   "metadata": {
    "tags": []
   },
   "outputs": [],
   "source": [
    "# remove duplicated\n",
    "df_redispatch_wind_registered = df_redispatch_wind_registered.drop_duplicates()\n",
    "df_redispatch_wind_registered.reset_index(inplace=True, drop=True)"
   ]
  },
  {
   "cell_type": "code",
   "execution_count": 10,
   "id": "0f518b83-f31a-42f2-8de2-6c24650ff018",
   "metadata": {
    "tags": []
   },
   "outputs": [],
   "source": [
    "columns_to_remove = ['duration (min)', 'commissioning_date']\n",
    "df_redispatch_wind_registered.drop(columns_to_remove, axis = 1, inplace = True)"
   ]
  },
  {
   "cell_type": "code",
   "execution_count": 11,
   "id": "76511731-7a63-4081-95d0-c6540a874004",
   "metadata": {
    "tags": []
   },
   "outputs": [],
   "source": [
    "# redispatch of the last two years\n",
    "latest_end = df_redispatch_wind_registered['end_redispatch'].max()\n",
    "earliest_start = latest_end - timedelta(days=365 * 2)"
   ]
  },
  {
   "cell_type": "code",
   "execution_count": null,
   "id": "2e5561dd-7ab1-4135-bd8e-c4d7e36e9097",
   "metadata": {
    "tags": []
   },
   "outputs": [],
   "source": [
    "time_index = pd.date_range(start=earliest_start, end=latest_end, freq='T')\n",
    "\n",
    "def update_redispatch_status(row):\n",
    "    return (row['start_redispatch'] <= time_index) & (time_index <= row['end_redispatch'])\n",
    "\n",
    "redispatch_status = df_redispatch_wind_registered.apply(lambda row: update_redispatch_status(row), axis=1)\n",
    "other_columns = df_redispatch_wind_registered.apply(lambda col: col.values.repeat(len(time_index)), axis=0)\n",
    "\n",
    "wind_redispatch = pd.DataFrame({'redispatch': redispatch_status}, index=time_index)\n",
    "wind_redispatch.reset_index(inplace=True)\n",
    "wind_redispatch['index'] = wind_redispatch['index'].dt.floor('min')\n",
    "wind_redispatch.set_index('index', inplace=True)\n",
    "\n",
    "wind_redispatch[list(other_columns.index)] = other_columns.T\n",
    "wind_redispatch['redispatch'] = wind_redispatch['redispatch'].astype(int)"
   ]
  },
  {
   "cell_type": "code",
   "execution_count": null,
   "id": "57d55b80-e6fd-4ba8-9dc1-29bfd4ced9e3",
   "metadata": {
    "tags": []
   },
   "outputs": [],
   "source": [
    "new_order = ['redispatch', 'level', 'cause', 'plant_type', 'plant_key_eeg', 'plant_key_mastr',\n",
    "             'lat', 'long', 'operator_name', 'congestion_location', 'dso', 'tso']\n",
    "\n",
    "wind_redispatch = wind_redispatch.reindex(columns=new_order)"
   ]
  },
  {
   "cell_type": "code",
   "execution_count": null,
   "id": "9bb464a6-880c-4c50-84b1-17d8a44473b2",
   "metadata": {
    "tags": []
   },
   "outputs": [],
   "source": [
    "wind_redispatch.head()"
   ]
  },
  {
   "cell_type": "code",
   "execution_count": null,
   "id": "5aaf185e-84ea-4b2f-8bae-85c5e35bd828",
   "metadata": {},
   "outputs": [],
   "source": [
    "# store csv\n",
    "wind_redispatch.to_csv('wind_redispatch_minute.csv',sep = ',')"
   ]
  },
  {
   "cell_type": "code",
   "execution_count": null,
   "id": "b14614d6-e4b4-4d20-9b8e-b797fc8a03da",
   "metadata": {},
   "outputs": [],
   "source": []
  }
 ],
 "metadata": {
  "kernelspec": {
   "display_name": "Python 3 (ipykernel)",
   "language": "python",
   "name": "python3"
  },
  "language_info": {
   "codemirror_mode": {
    "name": "ipython",
    "version": 3
   },
   "file_extension": ".py",
   "mimetype": "text/x-python",
   "name": "python",
   "nbconvert_exporter": "python",
   "pygments_lexer": "ipython3",
   "version": "3.11.3"
  }
 },
 "nbformat": 4,
 "nbformat_minor": 5
}
