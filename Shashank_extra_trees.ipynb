{
  "nbformat": 4,
  "nbformat_minor": 0,
  "metadata": {
    "colab": {
      "provenance": [],
      "authorship_tag": "ABX9TyMUoUFEKdXiQBwy1lFBlgC4"
    },
    "kernelspec": {
      "name": "python3",
      "display_name": "Python 3"
    },
    "language_info": {
      "name": "python"
    }
  },
  "cells": [
    {
      "cell_type": "code",
      "execution_count": null,
      "metadata": {
        "id": "5aTFTPMLa5Vv"
      },
      "outputs": [],
      "source": [
        "# packages\n",
        "import os\n",
        "import numpy as np\n",
        "import pandas as pd\n",
        "import joblib\n",
        "\n",
        "from sklearn.impute import SimpleImputer\n",
        "from sklearn.preprocessing import StandardScaler\n",
        "from sklearn.pipeline import Pipeline\n",
        "from sklearn.ensemble import ExtraTreesClassifier\n",
        "from imblearn.over_sampling import SMOTE\n",
        "from sklearn.model_selection import GridSearchCV\n",
        "from sklearn.utils.class_weight import compute_class_weight\n",
        "\n",
        "from sklearn.metrics import classification_report, confusion_matrix, precision_score, f1_score, recall_score\n",
        "from sklearn.model_selection import TimeSeriesSplit\n",
        "from matplotlib import pyplot as plt\n",
        "from statsmodels.graphics.tsaplots import plot_acf"
      ]
    },
    {
      "cell_type": "code",
      "source": [
        "# mount your google drive\n",
        "from google.colab import drive\n",
        "drive.mount('/content/drive')"
      ],
      "metadata": {
        "colab": {
          "base_uri": "https://localhost:8080/"
        },
        "id": "uTaVBrhBbNYg",
        "outputId": "f896275d-6337-4426-e42c-45bbf73a0d78"
      },
      "execution_count": null,
      "outputs": [
        {
          "output_type": "stream",
          "name": "stdout",
          "text": [
            "Mounted at /content/drive\n"
          ]
        }
      ]
    },
    {
      "cell_type": "code",
      "source": [
        "df = pd.read_csv('/content/drive/My Drive/ms_wind_curtailment_prediction/lagged_curtailment_target_features.csv', sep = ';', index_col=0)"
      ],
      "metadata": {
        "id": "IZcC1gJpbPkx"
      },
      "execution_count": null,
      "outputs": []
    },
    {
      "cell_type": "code",
      "source": [
        "df.index = pd.to_datetime(df.index)\n"
      ],
      "metadata": {
        "id": "_vX2S9TcbWvT"
      },
      "execution_count": null,
      "outputs": []
    },
    {
      "cell_type": "code",
      "source": [
        "# Identify significant lag values (where autocorrelation is outside the confidence intervals)\n",
        "significant_lags = [48, 96]\n",
        "\n",
        "df_lagged = df.copy()\n",
        "\n",
        "# Create lagged features\n",
        "for lag in significant_lags:\n",
        "    df_lagged[f'redispatch_lag_{lag}'] = df_lagged['redispatch'].shift(lag)\n",
        "    df_lagged[f'level_lag_{lag}'] = df_lagged['level'].shift(lag)\n",
        "\n",
        "# Drop rows with NaN values resulting from the shifting\n",
        "df_lagged.dropna(inplace=True)"
      ],
      "metadata": {
        "id": "r5BE8XOJbafr"
      },
      "execution_count": null,
      "outputs": []
    },
    {
      "cell_type": "code",
      "source": [
        "df_lagged.columns"
      ],
      "metadata": {
        "colab": {
          "base_uri": "https://localhost:8080/"
        },
        "id": "5b7SDsqjbiVi",
        "outputId": "2366bd53-8a71-43ac-a9ad-f5f6865fecf4"
      },
      "execution_count": null,
      "outputs": [
        {
          "output_type": "execute_result",
          "data": {
            "text/plain": [
              "Index(['redispatch', 'level', 'wind_speed_m/s', 'wind_speed_m/s_lag1',\n",
              "       'wind_speed_m/s_lag2', 'wind_speed_m/s_lag3', 'wind_speed_m/s_lag4',\n",
              "       'wind_speed_m/s_lag5', 'wind_direction_degrees',\n",
              "       'wind_direction_degrees_lag1', 'wind_direction_degrees_lag2',\n",
              "       'wind_direction_degrees_lag3', 'wind_direction_degrees_lag4',\n",
              "       'wind_direction_degrees_lag5', 'radiation_global_J/m2',\n",
              "       'radiation_global_J/m2_lag1', 'radiation_global_J/m2_lag2',\n",
              "       'radiation_global_J/m2_lag3', 'radiation_global_J/m2_lag4',\n",
              "       'radiation_global_J/m2_lag5', 'air_temperature_K',\n",
              "       'air_temperature_K_lag1', 'air_temperature_K_lag2',\n",
              "       'air_temperature_K_lag3', 'air_temperature_K_lag4',\n",
              "       'air_temperature_K_lag5', 'humidity_percent', 'humidity_percent_lag1',\n",
              "       'humidity_percent_lag2', 'humidity_percent_lag3',\n",
              "       'humidity_percent_lag4', 'humidity_percent_lag5', 'wind_gust_max_m/s',\n",
              "       'wind_gust_max_m/s_lag1', 'wind_gust_max_m/s_lag2',\n",
              "       'wind_gust_max_m/s_lag3', 'wind_gust_max_m/s_lag4',\n",
              "       'wind_gust_max_m/s_lag5', 'wind_direction_gust_max_degrees',\n",
              "       'wind_direction_gust_max_degrees_lag1',\n",
              "       'wind_direction_gust_max_degrees_lag2',\n",
              "       'wind_direction_gust_max_degrees_lag3',\n",
              "       'wind_direction_gust_max_degrees_lag4',\n",
              "       'wind_direction_gust_max_degrees_lag5', 'forecast_solar_MW',\n",
              "       'forecast_solar_MW_lag1', 'forecast_solar_MW_lag2',\n",
              "       'forecast_solar_MW_lag3', 'forecast_solar_MW_lag4',\n",
              "       'forecast_solar_MW_lag5', 'total_grid_load_MWh',\n",
              "       'total_grid_load_MWh_lag1', 'total_grid_load_MWh_lag2',\n",
              "       'total_grid_load_MWh_lag3', 'total_grid_load_MWh_lag4',\n",
              "       'total_grid_load_MWh_lag5', 'residual_load_MWh',\n",
              "       'residual_load_MWh_lag1', 'residual_load_MWh_lag2',\n",
              "       'residual_load_MWh_lag3', 'residual_load_MWh_lag4',\n",
              "       'residual_load_MWh_lag5', 'pumped_storage_MWh',\n",
              "       'pumped_storage_MWh_lag1', 'pumped_storage_MWh_lag2',\n",
              "       'pumped_storage_MWh_lag3', 'pumped_storage_MWh_lag4',\n",
              "       'pumped_storage_MWh_lag5', 'redispatch_lag_48', 'level_lag_48',\n",
              "       'redispatch_lag_96', 'level_lag_96'],\n",
              "      dtype='object')"
            ]
          },
          "metadata": {},
          "execution_count": 7
        }
      ]
    },
    {
      "cell_type": "code",
      "source": [
        "# get desired df size\n",
        "start_date = '2022-01-01'\n",
        "end_date = '2023-06-30'\n",
        "df_lagged = df_lagged.loc[start_date:end_date]"
      ],
      "metadata": {
        "id": "O7E1LidwGrYI"
      },
      "execution_count": null,
      "outputs": []
    },
    {
      "cell_type": "code",
      "source": [
        "# Define features and target\n",
        "features = df_lagged.columns\n",
        "target = 'redispatch'\n",
        "\n",
        "X = df_lagged[features].drop(['redispatch', 'level'], axis=1)\n",
        "y = df_lagged[target]\n",
        "\n",
        "# Define hyperparameters\n",
        "params = {\n",
        "    'max_depth': 20,\n",
        "    'min_samples_split': 5,\n",
        "    'min_samples_leaf': 5,\n",
        "    'max_features': 'log2',\n",
        "    'n_estimators': 500,\n",
        "    'random_state': 42,\n",
        "    'class_weight': 'balanced',\n",
        "    'bootstrap': True\n",
        "}\n",
        "\n",
        "# Define the number of splits for time series cross-validation\n",
        "n_splits = 10  # You can adjust this value as needed\n",
        "gap = 48  # 12 hour difference between train and test sets\n",
        "\n",
        "# Initialize lists to store evaluation metrics for each fold\n",
        "train_f1_scores = []\n",
        "train_precision_scores = []\n",
        "train_recall_scores = []\n",
        "test_f1_scores = []\n",
        "test_precision_scores = []\n",
        "test_recall_scores = []\n",
        "thresh_f1_scores = []\n",
        "thresh_precision_scores = []\n",
        "thresh_recall_scores = []\n",
        "\n",
        "# Define the time series splitter\n",
        "tscv = TimeSeriesSplit(n_splits=n_splits, gap=gap)\n",
        "\n",
        "# Define threshold for precision calculation\n",
        "threshold = 0.45\n",
        "\n",
        "# Initialize SMOTE\n",
        "smote = SMOTE(k_neighbors=1, random_state=42)\n",
        "\n",
        "# Iterate over each fold\n",
        "for fold, (train_index, test_index) in enumerate(tscv.split(X), 1):\n",
        "    print(f\"Training on fold {fold}/{n_splits}\")\n",
        "    # Get the data for this fold\n",
        "    X_train, X_test = X.iloc[train_index], X.iloc[test_index]\n",
        "    y_train, y_test = y.iloc[train_index], y.iloc[test_index]\n",
        "\n",
        "    # Apply SMOTE to balance the classes\n",
        "    X_train_balanced, y_train_balanced = smote.fit_resample(X_train, y_train)\n",
        "\n",
        "    # Initialize and train the Extra Trees classifier\n",
        "    model = ExtraTreesClassifier(**params)\n",
        "    model.fit(X_train_balanced, y_train_balanced)\n",
        "\n",
        "    # Predictions\n",
        "    y_train_pred = model.predict(X_train)\n",
        "    y_test_pred = model.predict(X_test)\n",
        "\n",
        "    # Evaluate the model using precision, recall, and F1 score\n",
        "    train_f1 = f1_score(y_train, y_train_pred, zero_division=1)\n",
        "    train_precision = precision_score(y_train, y_train_pred, zero_division=1)\n",
        "    train_recall = recall_score(y_train, y_train_pred, zero_division=1)\n",
        "    test_f1 = f1_score(y_test, y_test_pred, zero_division=1)\n",
        "    test_precision = precision_score(y_test, y_test_pred, zero_division=1)\n",
        "    test_recall = recall_score(y_test, y_test_pred, zero_division=1)\n",
        "\n",
        "    # Compute precision, recall, and F1 score using the specified threshold\n",
        "    y_test_proba = model.predict_proba(X_test)[:, 1]\n",
        "    y_test_pred_threshold = (y_test_proba > threshold).astype(int)\n",
        "    fold_precision = precision_score(y_test, y_test_pred_threshold, zero_division=1)\n",
        "    fold_recall = recall_score(y_test, y_test_pred_threshold, zero_division=1)\n",
        "    fold_f1 = f1_score(y_test, y_test_pred_threshold, zero_division=1)\n",
        "\n",
        "    cm = confusion_matrix(y_test, y_test_pred_threshold)\n",
        "    # Print the confusion matrix\n",
        "    print(f\"Confusion Matrix (Fold {fold}):\")\n",
        "    print(cm)\n",
        "    print(\"\\n\")\n",
        "\n",
        "    # Store the evaluation metrics for this fold\n",
        "    train_f1_scores.append(train_f1)\n",
        "    train_precision_scores.append(train_precision)\n",
        "    train_recall_scores.append(train_recall)\n",
        "    test_f1_scores.append(test_f1)\n",
        "    test_precision_scores.append(test_precision)\n",
        "    test_recall_scores.append(test_recall)\n",
        "    thresh_f1_scores.append(fold_f1)\n",
        "    thresh_precision_scores.append(fold_precision)\n",
        "    thresh_recall_scores.append(fold_recall)\n",
        "\n",
        "# Calculate average evaluation metrics across all folds\n",
        "avg_train_f1 = np.mean(train_f1_scores)\n",
        "avg_train_precision = np.mean(train_precision_scores)\n",
        "avg_train_recall = np.mean(train_recall_scores)\n",
        "avg_test_f1 = np.mean(test_f1_scores)\n",
        "avg_test_precision = np.mean(test_precision_scores)\n",
        "avg_test_recall = np.mean(test_recall_scores)\n",
        "avg_thresh_f1_scores = np.mean(thresh_f1_scores)\n",
        "avg_thresh_precision_scores = np.mean(thresh_precision_scores)\n",
        "avg_thresh_recall_scores = np.mean(thresh_recall_scores)\n",
        "\n",
        "# Print the results\n",
        "print(\"Average Train F1 Score:\", avg_train_f1)\n",
        "print(\"Average Train Precision:\", avg_train_precision)\n",
        "print(\"Average Train Recall:\", avg_train_recall)\n",
        "print(\"\\nAverage Test F1 Score:\", avg_test_f1)\n",
        "print(\"Average Test Precision:\", avg_test_precision)\n",
        "print(\"Average Test Recall:\", avg_test_recall)\n",
        "print(\"\\nAverage Threshold F1 Score:\", avg_thresh_f1_scores)\n",
        "print(\"Average Threshold Precision:\", avg_thresh_precision_scores)\n",
        "print(\"Average Threshold Recall:\", avg_thresh_recall_scores)"
      ],
      "metadata": {
        "colab": {
          "base_uri": "https://localhost:8080/"
        },
        "id": "nEODY_nHblfj",
        "outputId": "06d4d92c-14ad-4828-ae46-c0df730dcdbc"
      },
      "execution_count": null,
      "outputs": [
        {
          "output_type": "stream",
          "name": "stdout",
          "text": [
            "Training on fold 1/10\n",
            "Confusion Matrix (Fold 1):\n",
            "[[4643    0]\n",
            " [ 123    0]]\n",
            "\n",
            "\n",
            "Training on fold 2/10\n",
            "Confusion Matrix (Fold 2):\n",
            "[[4218    0]\n",
            " [ 548    0]]\n",
            "\n",
            "\n",
            "Training on fold 3/10\n",
            "Confusion Matrix (Fold 3):\n",
            "[[3422  342]\n",
            " [ 426  576]]\n",
            "\n",
            "\n",
            "Training on fold 4/10\n",
            "Confusion Matrix (Fold 4):\n",
            "[[3481  355]\n",
            " [ 534  396]]\n",
            "\n",
            "\n",
            "Training on fold 5/10\n",
            "Confusion Matrix (Fold 5):\n",
            "[[2696  837]\n",
            " [ 417  816]]\n",
            "\n",
            "\n",
            "Training on fold 6/10\n",
            "Confusion Matrix (Fold 6):\n",
            "[[2446  654]\n",
            " [ 700  966]]\n",
            "\n",
            "\n",
            "Training on fold 7/10\n",
            "Confusion Matrix (Fold 7):\n",
            "[[3698  482]\n",
            " [ 413  173]]\n",
            "\n",
            "\n",
            "Training on fold 8/10\n",
            "Confusion Matrix (Fold 8):\n",
            "[[3831  392]\n",
            " [ 338  205]]\n",
            "\n",
            "\n",
            "Training on fold 9/10\n",
            "Confusion Matrix (Fold 9):\n",
            "[[3864  501]\n",
            " [ 164  237]]\n",
            "\n",
            "\n",
            "Training on fold 10/10\n",
            "Confusion Matrix (Fold 10):\n",
            "[[3795  835]\n",
            " [  36  100]]\n",
            "\n",
            "\n",
            "Average Train F1 Score: 0.8984404642601109\n",
            "Average Train Precision: 0.8286759337287473\n",
            "Average Train Recall: 0.9859913589371727\n",
            "\n",
            "Average Test F1 Score: 0.33394916883707887\n",
            "Average Test Precision: 0.5380688072027373\n",
            "Average Test Recall: 0.3773095099022651\n",
            "\n",
            "Average Threshold F1 Score: 0.3465937986520303\n",
            "Average Threshold Precision: 0.5280287932024957\n",
            "Average Threshold Recall: 0.4241359803306919\n"
          ]
        }
      ]
    },
    {
      "cell_type": "markdown",
      "source": [
        "Average Train F1 Score: 0.8984404642601109\n",
        "Average Train Precision: 0.8286759337287473\n",
        "Average Train Recall: 0.9859913589371727\n",
        "\n",
        "Average Test F1 Score: 0.33394916883707887\n",
        "Average Test Precision: 0.5380688072027373\n",
        "Average Test Recall: 0.3773095099022651\n",
        "\n",
        "Average Threshold F1 Score: 0.3465937986520303\n",
        "Average Threshold Precision: 0.5280287932024957\n",
        "Average Threshold Recall: 0.4241359803306919"
      ],
      "metadata": {
        "id": "SfS0s3AnQs7A"
      }
    },
    {
      "cell_type": "code",
      "source": [],
      "metadata": {
        "id": "I-KF49ireMrs"
      },
      "execution_count": null,
      "outputs": []
    },
    {
      "cell_type": "markdown",
      "source": [
        "1. with all features and for all years\n",
        "\n",
        "Average Train F1 Score: 0.8919136140043056\n",
        "Average Train Precision: 0.8125640769436469\n",
        "Average Train Recall: 0.9946395181135141\n",
        "\n",
        " Average Test F1 Score: 0.14931013647497063\n",
        "Average Test Precision: 0.2704487542166848\n",
        "Average Test Recall: 0.14845568670700726\n",
        "\n",
        " Average Threshold F1 Score: 0.14503863955501922\n",
        "Average Threshold Precision: 0.4748371186409834\n",
        "Average Threshold Recall: 0.13406205628745235\n",
        "\n",
        "2. without wind speed and for all years\n",
        "\n",
        "Average Train F1 Score: 0.9101319063370739\n",
        "Average Train Precision: 0.8411824844930612\n",
        "Average Train Recall: 0.9963448322180584\n",
        "\n",
        " Average Test F1 Score: 0.14035396058573552\n",
        "Average Test Precision: 0.3720906604082431\n",
        "Average Test Recall: 0.1310732093387057\n",
        "\n",
        " Average Threshold F1 Score: 0.13235714904120804\n",
        "Average Threshold Precision: 0.4778839839773711\n",
        "Average Threshold Recall: 0.11568066060562987"
      ],
      "metadata": {
        "id": "046Mmksv3uyA"
      }
    },
    {
      "cell_type": "code",
      "source": [
        "# safe XGBoost classifier\n",
        "joblib.dump(model, '/content/drive/My Drive/ms_wind_curtailment_prediction/extra_trees_classifier.pkl')"
      ],
      "metadata": {
        "colab": {
          "base_uri": "https://localhost:8080/"
        },
        "id": "Jtxl4So43yir",
        "outputId": "d87e6a4f-2317-4bd7-c19c-1e4f2aa59352"
      },
      "execution_count": null,
      "outputs": [
        {
          "output_type": "execute_result",
          "data": {
            "text/plain": [
              "['/content/drive/My Drive/ms_wind_curtailment_prediction/extra_trees_classifier.pkl']"
            ]
          },
          "metadata": {},
          "execution_count": 15
        }
      ]
    },
    {
      "cell_type": "code",
      "source": [],
      "metadata": {
        "id": "vLXVBmgZIpjp"
      },
      "execution_count": null,
      "outputs": []
    }
  ]
}