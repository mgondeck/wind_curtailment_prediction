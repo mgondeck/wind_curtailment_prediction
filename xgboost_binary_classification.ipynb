{
  "nbformat": 4,
  "nbformat_minor": 0,
  "metadata": {
    "colab": {
      "provenance": [],
      "authorship_tag": "ABX9TyMK8W7PaMtqJQ0YzgDzbQ8e"
    },
    "kernelspec": {
      "name": "python3",
      "display_name": "Python 3"
    },
    "language_info": {
      "name": "python"
    }
  },
  "cells": [
    {
      "cell_type": "markdown",
      "source": [
        "## Binary Classification with XGBoost"
      ],
      "metadata": {
        "id": "EvVyUtGZ8WdJ"
      }
    },
    {
      "cell_type": "code",
      "execution_count": 2,
      "metadata": {
        "id": "cAUnjqGq8e0I"
      },
      "outputs": [],
      "source": [
        "# load packages\n",
        "import os\n",
        "import numpy as np\n",
        "import pandas as pd\n",
        "\n",
        "from sklearn.impute import SimpleImputer\n",
        "from sklearn.preprocessing import StandardScaler\n",
        "from sklearn.pipeline import Pipeline\n",
        "from sklearn.model_selection import TimeSeriesSplit\n",
        "from imblearn.over_sampling import SMOTE\n",
        "\n",
        "from xgboost import XGBClassifier\n",
        "\n",
        "from sklearn.metrics import confusion_matrix, precision_score, f1_score\n",
        "from matplotlib import pyplot as plt\n",
        "\n",
        "from sklearn.model_selection import GridSearchCV"
      ]
    },
    {
      "cell_type": "code",
      "source": [
        "# mount your google drive\n",
        "from google.colab import drive\n",
        "drive.mount('/content/drive')"
      ],
      "metadata": {
        "colab": {
          "base_uri": "https://localhost:8080/"
        },
        "id": "YDLSLy76-MS8",
        "outputId": "7a51d103-48df-41d1-f50b-7484cbee87c4"
      },
      "execution_count": 3,
      "outputs": [
        {
          "output_type": "stream",
          "name": "stdout",
          "text": [
            "Mounted at /content/drive\n"
          ]
        }
      ]
    },
    {
      "cell_type": "code",
      "source": [
        "# load lagged dataset\n",
        "df = pd.read_csv('/content/drive/My Drive/ms_wind_curtailment_prediction/lagged_curtailment_target_features.csv', sep = ';', index_col=0)"
      ],
      "metadata": {
        "id": "IiyQT8FT-OwX"
      },
      "execution_count": 91,
      "outputs": []
    },
    {
      "cell_type": "code",
      "source": [
        "# get desired df size\n",
        "start_date = '2022-01-01'\n",
        "end_date = '2022-12-31'\n",
        "df = df.loc[start_date:end_date]"
      ],
      "metadata": {
        "id": "H4kgvp2Q6oTW"
      },
      "execution_count": 29,
      "outputs": []
    },
    {
      "cell_type": "code",
      "source": [
        "# impute, scale pipeline and smote (for class imbalance)\n",
        "preprocessor = Pipeline([\n",
        "    ('imputer', SimpleImputer(strategy='constant', fill_value=0)),\n",
        "    ('scaler', StandardScaler())\n",
        "])\n",
        "\n",
        "smote = SMOTE(random_state=13)\n",
        "\n",
        "# define features X and target y\n",
        "X = df.drop(['redispatch', 'level'], axis = 1)\n",
        "y = df['redispatch']"
      ],
      "metadata": {
        "id": "is0ckOao15OY"
      },
      "execution_count": 30,
      "outputs": []
    },
    {
      "cell_type": "code",
      "source": [
        "# importance of the last redispatch status for the training data\n",
        "def last_redispatch(y_train, window_size=2): #2h in advance\n",
        "    \"\"\"\n",
        "    Computes the importance of the last redispatch status for each data point in the training data\n",
        "    using a rolling window. It creates a list by summing the redispatch statuses of the\n",
        "    last values within the defined window. (LAST SENTENCE TO BE CHANGED)\n",
        "    \"\"\"\n",
        "    last_redispatch_importance = []\n",
        "    for i in range(len(y_train)):\n",
        "        window_start = max(0, i - window_size)\n",
        "        window_end = i\n",
        "        importance = y_train.iloc[window_start:window_end].sum()/window_size\n",
        "        last_redispatch_importance.append(importance)\n",
        "\n",
        "    return last_redispatch_importance"
      ],
      "metadata": {
        "id": "kUgq-TTnsrHf"
      },
      "execution_count": 77,
      "outputs": []
    },
    {
      "cell_type": "markdown",
      "source": [
        "**XGBoost**\\\n",
        "tbd.\n",
        "\n",
        "**K-fold cross-validation**\\\n",
        "tbd."
      ],
      "metadata": {
        "id": "Chb1lgzemLGc"
      }
    },
    {
      "cell_type": "code",
      "source": [
        "# create model instance\n",
        "xgboost_class = XGBClassifier(booster='gbtree', reg_alpha=2, eval_metric='logloss', gamma = 5, min_child_weight=2,\n",
        "                              n_estimators=250, max_depth=1, learning_rate=0.1, objective='binary:logistic', random_state = 13)\n",
        "# reg_alpha: L1 regularization (reduce overfitting)\n",
        "# gamma: minimum loss reduction required to make a further partition on a leaf node of the tree (larger gamma more conservative (reduce overfitting))\n",
        "# scale_pos_weights: higher weight to the minority class to address class imbalance\n",
        "\n",
        "# cross-validation\n",
        "n_splits = 70\n",
        "test_size = 48 #(48 - 12h with 15 min intervalls)\n",
        "tscv = TimeSeriesSplit(n_splits=n_splits, test_size=test_size, gap = 10)\n",
        "\n",
        "precision_scores = []\n",
        "f1_scores = []\n",
        "conf_matrices = []\n",
        "precision_train_scores = []\n",
        "f1_train_scores = []\n",
        "conf_train_matrices = []\n",
        "\n",
        "for train_index, test_index in tscv.split(X):\n",
        "\n",
        "    X_train, X_test = X.iloc[train_index], X.iloc[test_index]\n",
        "    y_train, y_test = y.iloc[train_index], y.iloc[test_index]\n",
        "\n",
        "    X_train = X_train.copy()\n",
        "    X_test = X_test.copy()\n",
        "\n",
        "    # having at least one instance of redispatch 1 or 0 in test\n",
        "    if y_test.sum() == 0 or y_test.sum() == 1:\n",
        "        continue\n",
        "\n",
        "    # preprocess train data\n",
        "    X_train_scaled = preprocessor.fit_transform(X_train)\n",
        "    X_train_preprocessed, y_train_preprocessed = smote.fit_resample(X_train_scaled, y_train)\n",
        "\n",
        "    # add importance of the last redispatch status for train\n",
        "    last_redispatch_importance_train = last_redispatch(y_train_preprocessed)\n",
        "    X_train_preprocessed = pd.DataFrame(X_train_preprocessed, columns=X_train.columns)\n",
        "    X_train_preprocessed['last_redispatch_importance'] = last_redispatch_importance_train\n",
        "\n",
        "    # fit model\n",
        "    xgboost_class.fit(X_train_preprocessed, y_train_preprocessed)\n",
        "\n",
        "    # add importance of the last redispatch status for test and predict\n",
        "    X_test_preprocessed = preprocessor.transform(X_test)\n",
        "    X_test_preprocessed_df = pd.DataFrame(X_test_preprocessed, columns=X_test.columns)\n",
        "    X_test_preprocessed_df['last_redispatch_importance'] = 0\n",
        "    y_pred = np.zeros(len(X_test))\n",
        "\n",
        "    window = 2\n",
        "    for i in range(len(X_test)):\n",
        "        if i == 0:\n",
        "            last_redispatch_importance = y_train.iloc[-2:].sum() / window\n",
        "        elif i == 1:\n",
        "            last_redispatch_importance = (y_train.iloc[-1:].sum() + y_pred[i - 1]) / window\n",
        "        else:\n",
        "            last_redispatch_importance = (y_pred[i - 2] + y_pred[i - 1]) / window\n",
        "        X_test_preprocessed_df.loc[i, 'last_redispatch_importance'] = last_redispatch_importance\n",
        "        y_pred[i] = xgboost_class.predict(X_test_preprocessed_df.iloc[[i]].values.reshape(1, -1))[0]\n",
        "\n",
        "    # make predictions for train data\n",
        "    y_pred_train = xgboost_class.predict(X_train_preprocessed)\n",
        "\n",
        "    # evaluate\n",
        "    precision_scores.append(precision_score(y_test, y_pred))\n",
        "    f1_scores.append(f1_score(y_test, y_pred))\n",
        "    conf_matrices.append(confusion_matrix(y_test, y_pred))\n",
        "\n",
        "    precision_train_scores.append(precision_score(y_train_preprocessed, y_pred_train))\n",
        "    f1_train_scores.append(f1_score(y_train_preprocessed, y_pred_train))\n",
        "    conf_train_matrices.append(confusion_matrix(y_train_preprocessed, y_pred_train))\n",
        "\n",
        "    sorted_idx = xgboost_class.feature_importances_.argsort()\n",
        "    plt.barh(X_train_preprocessed.columns[sorted_idx], xgboost_class.feature_importances_[sorted_idx])\n",
        "\n",
        "# print evaluation results\n",
        "print(\"Average Scores:\")\n",
        "print(\"Precision:\", sum(precision_scores) / len(precision_scores))\n",
        "print(\"F1-Scores:\", sum(f1_scores) / len(f1_scores))\n",
        "print(\"Confusion Matrix:\", sum(conf_matrices) / len(conf_matrices))\n",
        "print(\"Precision (Train):\", sum(precision_train_scores) / len(precision_train_scores))\n",
        "print(\"F1-Scores (Train):\", sum(f1_train_scores) / len(f1_train_scores))\n",
        "print(\"Confusion Matrix (Train):\", sum(conf_train_matrices) / len(conf_train_matrices))"
      ],
      "metadata": {
        "id": "TkTfyhE8e29B"
      },
      "execution_count": null,
      "outputs": []
    },
    {
      "cell_type": "code",
      "source": [
        "# train model on larger train data set and save\n",
        "\n",
        "# get desired df size\n",
        "start_date = '2021-01-01'\n",
        "end_date = '2023-06-30'\n",
        "df = df.loc[start_date:end_date]\n",
        "\n",
        "# define features X and target y\n",
        "X = df.drop(['redispatch', 'level'], axis = 1)\n",
        "y = df['redispatch']\n",
        "\n",
        "# preprocess train data\n",
        "X_train_scaled = preprocessor.fit_transform(X_train)\n",
        "X_train_preprocessed, y_train_preprocessed = smote.fit_resample(X_train_scaled, y_train)\n",
        "\n",
        "# add importance of the last redispatch status for train\n",
        "last_redispatch_importance_train = last_redispatch(y_train_preprocessed)\n",
        "X_train_preprocessed = pd.DataFrame(X_train_preprocessed, columns=X_train.columns)\n",
        "X_train_preprocessed['last_redispatch_importance'] = last_redispatch_importance_train\n",
        "\n",
        "# fit model\n",
        "xgboost_class.fit(X_train_preprocessed, y_train_preprocessed)\n",
        "\n"
      ],
      "metadata": {
        "id": "JmeAc6Yn1icc"
      },
      "execution_count": 93,
      "outputs": []
    },
    {
      "cell_type": "markdown",
      "source": [
        "**Grid Search CV**\n",
        "\n",
        "• it is doing its own train/test split\\\n",
        "• the last feature importance is calculated for every timestamp. to not get wrong results it is shifted by 48 (12h)\n"
      ],
      "metadata": {
        "id": "TOgqejrOtZO4"
      }
    },
    {
      "cell_type": "code",
      "source": [
        "# importance of the last redispatch status for the training data\n",
        "window_size = 4  #last 60 min\n",
        "last_redispatch_importance = []\n",
        "for i in range(len(df)):\n",
        "    window_start = max(0, i - window_size)\n",
        "    window_end = i\n",
        "    importance = df['redispatch'].iloc[window_start:window_end].sum() #also incorporate the level ???\n",
        "    last_redispatch_importance.append(importance)\n",
        "\n",
        "df['last_redispatch_importance'] = last_redispatch_importance\n",
        "df['last_redispatch_importance'] = df['last_redispatch_importance'].shift(48)\n",
        "df.dropna(inplace = True)\n",
        "\n",
        "X = df.drop(['redispatch', 'level'], axis = 1)\n",
        "y = df['redispatch']"
      ],
      "metadata": {
        "id": "qp6I28ruQsKQ"
      },
      "execution_count": null,
      "outputs": []
    },
    {
      "cell_type": "code",
      "source": [
        "# preprocess data\n",
        "X_scaled = preprocessor.fit_transform(X)\n",
        "X_preprocessed, y_preprocessed = smote.fit_resample(X_scaled, y)\n",
        "\n",
        "# parameter grid\n",
        "param_grid = {\n",
        "    'n_estimators': [200, 250, 300],\n",
        "    'max_depth': [2, 4, 6],\n",
        "    'learning_rate': [0.1, 0.01, 0.001],\n",
        "    'gamma': [0, 1, 5],\n",
        "    'reg_alpha': [0, 0.1, 0.5]\n",
        "}\n",
        "\n",
        "# timeseries split\n",
        "test_size = 48\n",
        "tscv = TimeSeriesSplit(test_size=test_size)\n",
        "\n",
        "# XGBClassifier and GridSearchCV\n",
        "xgboost_class = XGBClassifier(booster='gbtree', eval_metric='logloss', objective='binary:logistic', random_state=13)\n",
        "grid_search = GridSearchCV(estimator=xgboost_class, param_grid=param_grid, cv=tscv, scoring='precision', n_jobs=-1)\n",
        "\n",
        "# fit\n",
        "grid_search.fit(X_scaled, y)\n",
        "\n",
        "print(\"Best Parameters:\", grid_search.best_params_)\n",
        "print(\"Best Score:\", grid_search.best_score_)"
      ],
      "metadata": {
        "outputId": "6f0730b8-ded1-4b59-9d2b-334f55466adc",
        "colab": {
          "base_uri": "https://localhost:8080/",
          "height": 365
        },
        "id": "53pqOnqZYg89"
      },
      "execution_count": null,
      "outputs": [
        {
          "output_type": "error",
          "ename": "KeyboardInterrupt",
          "evalue": "",
          "traceback": [
            "\u001b[0;31m---------------------------------------------------------------------------\u001b[0m",
            "\u001b[0;31mKeyboardInterrupt\u001b[0m                         Traceback (most recent call last)",
            "\u001b[0;32m<ipython-input-45-b7b6d0f891d2>\u001b[0m in \u001b[0;36m<cell line: 23>\u001b[0;34m()\u001b[0m\n\u001b[1;32m     21\u001b[0m \u001b[0;34m\u001b[0m\u001b[0m\n\u001b[1;32m     22\u001b[0m \u001b[0;31m# fit\u001b[0m\u001b[0;34m\u001b[0m\u001b[0;34m\u001b[0m\u001b[0m\n\u001b[0;32m---> 23\u001b[0;31m \u001b[0mgrid_search\u001b[0m\u001b[0;34m.\u001b[0m\u001b[0mfit\u001b[0m\u001b[0;34m(\u001b[0m\u001b[0mX_scaled\u001b[0m\u001b[0;34m,\u001b[0m \u001b[0my\u001b[0m\u001b[0;34m)\u001b[0m\u001b[0;34m\u001b[0m\u001b[0;34m\u001b[0m\u001b[0m\n\u001b[0m\u001b[1;32m     24\u001b[0m \u001b[0;34m\u001b[0m\u001b[0m\n\u001b[1;32m     25\u001b[0m \u001b[0mprint\u001b[0m\u001b[0;34m(\u001b[0m\u001b[0;34m\"Best Parameters:\"\u001b[0m\u001b[0;34m,\u001b[0m \u001b[0mgrid_search\u001b[0m\u001b[0;34m.\u001b[0m\u001b[0mbest_params_\u001b[0m\u001b[0;34m)\u001b[0m\u001b[0;34m\u001b[0m\u001b[0;34m\u001b[0m\u001b[0m\n",
            "\u001b[0;32m/usr/local/lib/python3.10/dist-packages/sklearn/model_selection/_search.py\u001b[0m in \u001b[0;36mfit\u001b[0;34m(self, X, y, groups, **fit_params)\u001b[0m\n\u001b[1;32m    872\u001b[0m                 \u001b[0;32mreturn\u001b[0m \u001b[0mresults\u001b[0m\u001b[0;34m\u001b[0m\u001b[0;34m\u001b[0m\u001b[0m\n\u001b[1;32m    873\u001b[0m \u001b[0;34m\u001b[0m\u001b[0m\n\u001b[0;32m--> 874\u001b[0;31m             \u001b[0mself\u001b[0m\u001b[0;34m.\u001b[0m\u001b[0m_run_search\u001b[0m\u001b[0;34m(\u001b[0m\u001b[0mevaluate_candidates\u001b[0m\u001b[0;34m)\u001b[0m\u001b[0;34m\u001b[0m\u001b[0;34m\u001b[0m\u001b[0m\n\u001b[0m\u001b[1;32m    875\u001b[0m \u001b[0;34m\u001b[0m\u001b[0m\n\u001b[1;32m    876\u001b[0m             \u001b[0;31m# multimetric is determined here because in the case of a callable\u001b[0m\u001b[0;34m\u001b[0m\u001b[0;34m\u001b[0m\u001b[0m\n",
            "\u001b[0;32m/usr/local/lib/python3.10/dist-packages/sklearn/model_selection/_search.py\u001b[0m in \u001b[0;36m_run_search\u001b[0;34m(self, evaluate_candidates)\u001b[0m\n\u001b[1;32m   1386\u001b[0m     \u001b[0;32mdef\u001b[0m \u001b[0m_run_search\u001b[0m\u001b[0;34m(\u001b[0m\u001b[0mself\u001b[0m\u001b[0;34m,\u001b[0m \u001b[0mevaluate_candidates\u001b[0m\u001b[0;34m)\u001b[0m\u001b[0;34m:\u001b[0m\u001b[0;34m\u001b[0m\u001b[0;34m\u001b[0m\u001b[0m\n\u001b[1;32m   1387\u001b[0m         \u001b[0;34m\"\"\"Search all candidates in param_grid\"\"\"\u001b[0m\u001b[0;34m\u001b[0m\u001b[0;34m\u001b[0m\u001b[0m\n\u001b[0;32m-> 1388\u001b[0;31m         \u001b[0mevaluate_candidates\u001b[0m\u001b[0;34m(\u001b[0m\u001b[0mParameterGrid\u001b[0m\u001b[0;34m(\u001b[0m\u001b[0mself\u001b[0m\u001b[0;34m.\u001b[0m\u001b[0mparam_grid\u001b[0m\u001b[0;34m)\u001b[0m\u001b[0;34m)\u001b[0m\u001b[0;34m\u001b[0m\u001b[0;34m\u001b[0m\u001b[0m\n\u001b[0m\u001b[1;32m   1389\u001b[0m \u001b[0;34m\u001b[0m\u001b[0m\n\u001b[1;32m   1390\u001b[0m \u001b[0;34m\u001b[0m\u001b[0m\n",
            "\u001b[0;32m/usr/local/lib/python3.10/dist-packages/sklearn/model_selection/_search.py\u001b[0m in \u001b[0;36mevaluate_candidates\u001b[0;34m(candidate_params, cv, more_results)\u001b[0m\n\u001b[1;32m    819\u001b[0m                     )\n\u001b[1;32m    820\u001b[0m \u001b[0;34m\u001b[0m\u001b[0m\n\u001b[0;32m--> 821\u001b[0;31m                 out = parallel(\n\u001b[0m\u001b[1;32m    822\u001b[0m                     delayed(_fit_and_score)(\n\u001b[1;32m    823\u001b[0m                         \u001b[0mclone\u001b[0m\u001b[0;34m(\u001b[0m\u001b[0mbase_estimator\u001b[0m\u001b[0;34m)\u001b[0m\u001b[0;34m,\u001b[0m\u001b[0;34m\u001b[0m\u001b[0;34m\u001b[0m\u001b[0m\n",
            "\u001b[0;32m/usr/local/lib/python3.10/dist-packages/sklearn/utils/parallel.py\u001b[0m in \u001b[0;36m__call__\u001b[0;34m(self, iterable)\u001b[0m\n\u001b[1;32m     61\u001b[0m             \u001b[0;32mfor\u001b[0m \u001b[0mdelayed_func\u001b[0m\u001b[0;34m,\u001b[0m \u001b[0margs\u001b[0m\u001b[0;34m,\u001b[0m \u001b[0mkwargs\u001b[0m \u001b[0;32min\u001b[0m \u001b[0miterable\u001b[0m\u001b[0;34m\u001b[0m\u001b[0;34m\u001b[0m\u001b[0m\n\u001b[1;32m     62\u001b[0m         )\n\u001b[0;32m---> 63\u001b[0;31m         \u001b[0;32mreturn\u001b[0m \u001b[0msuper\u001b[0m\u001b[0;34m(\u001b[0m\u001b[0;34m)\u001b[0m\u001b[0;34m.\u001b[0m\u001b[0m__call__\u001b[0m\u001b[0;34m(\u001b[0m\u001b[0miterable_with_config\u001b[0m\u001b[0;34m)\u001b[0m\u001b[0;34m\u001b[0m\u001b[0;34m\u001b[0m\u001b[0m\n\u001b[0m\u001b[1;32m     64\u001b[0m \u001b[0;34m\u001b[0m\u001b[0m\n\u001b[1;32m     65\u001b[0m \u001b[0;34m\u001b[0m\u001b[0m\n",
            "\u001b[0;32m/usr/local/lib/python3.10/dist-packages/joblib/parallel.py\u001b[0m in \u001b[0;36m__call__\u001b[0;34m(self, iterable)\u001b[0m\n\u001b[1;32m   1950\u001b[0m         \u001b[0mnext\u001b[0m\u001b[0;34m(\u001b[0m\u001b[0moutput\u001b[0m\u001b[0;34m)\u001b[0m\u001b[0;34m\u001b[0m\u001b[0;34m\u001b[0m\u001b[0m\n\u001b[1;32m   1951\u001b[0m \u001b[0;34m\u001b[0m\u001b[0m\n\u001b[0;32m-> 1952\u001b[0;31m         \u001b[0;32mreturn\u001b[0m \u001b[0moutput\u001b[0m \u001b[0;32mif\u001b[0m \u001b[0mself\u001b[0m\u001b[0;34m.\u001b[0m\u001b[0mreturn_generator\u001b[0m \u001b[0;32melse\u001b[0m \u001b[0mlist\u001b[0m\u001b[0;34m(\u001b[0m\u001b[0moutput\u001b[0m\u001b[0;34m)\u001b[0m\u001b[0;34m\u001b[0m\u001b[0;34m\u001b[0m\u001b[0m\n\u001b[0m\u001b[1;32m   1953\u001b[0m \u001b[0;34m\u001b[0m\u001b[0m\n\u001b[1;32m   1954\u001b[0m     \u001b[0;32mdef\u001b[0m \u001b[0m__repr__\u001b[0m\u001b[0;34m(\u001b[0m\u001b[0mself\u001b[0m\u001b[0;34m)\u001b[0m\u001b[0;34m:\u001b[0m\u001b[0;34m\u001b[0m\u001b[0;34m\u001b[0m\u001b[0m\n",
            "\u001b[0;32m/usr/local/lib/python3.10/dist-packages/joblib/parallel.py\u001b[0m in \u001b[0;36m_get_outputs\u001b[0;34m(self, iterator, pre_dispatch)\u001b[0m\n\u001b[1;32m   1593\u001b[0m \u001b[0;34m\u001b[0m\u001b[0m\n\u001b[1;32m   1594\u001b[0m             \u001b[0;32mwith\u001b[0m \u001b[0mself\u001b[0m\u001b[0;34m.\u001b[0m\u001b[0m_backend\u001b[0m\u001b[0;34m.\u001b[0m\u001b[0mretrieval_context\u001b[0m\u001b[0;34m(\u001b[0m\u001b[0;34m)\u001b[0m\u001b[0;34m:\u001b[0m\u001b[0;34m\u001b[0m\u001b[0;34m\u001b[0m\u001b[0m\n\u001b[0;32m-> 1595\u001b[0;31m                 \u001b[0;32myield\u001b[0m \u001b[0;32mfrom\u001b[0m \u001b[0mself\u001b[0m\u001b[0;34m.\u001b[0m\u001b[0m_retrieve\u001b[0m\u001b[0;34m(\u001b[0m\u001b[0;34m)\u001b[0m\u001b[0;34m\u001b[0m\u001b[0;34m\u001b[0m\u001b[0m\n\u001b[0m\u001b[1;32m   1596\u001b[0m \u001b[0;34m\u001b[0m\u001b[0m\n\u001b[1;32m   1597\u001b[0m         \u001b[0;32mexcept\u001b[0m \u001b[0mGeneratorExit\u001b[0m\u001b[0;34m:\u001b[0m\u001b[0;34m\u001b[0m\u001b[0;34m\u001b[0m\u001b[0m\n",
            "\u001b[0;32m/usr/local/lib/python3.10/dist-packages/joblib/parallel.py\u001b[0m in \u001b[0;36m_retrieve\u001b[0;34m(self)\u001b[0m\n\u001b[1;32m   1705\u001b[0m                 (self._jobs[0].get_status(\n\u001b[1;32m   1706\u001b[0m                     timeout=self.timeout) == TASK_PENDING)):\n\u001b[0;32m-> 1707\u001b[0;31m                 \u001b[0mtime\u001b[0m\u001b[0;34m.\u001b[0m\u001b[0msleep\u001b[0m\u001b[0;34m(\u001b[0m\u001b[0;36m0.01\u001b[0m\u001b[0;34m)\u001b[0m\u001b[0;34m\u001b[0m\u001b[0;34m\u001b[0m\u001b[0m\n\u001b[0m\u001b[1;32m   1708\u001b[0m                 \u001b[0;32mcontinue\u001b[0m\u001b[0;34m\u001b[0m\u001b[0;34m\u001b[0m\u001b[0m\n\u001b[1;32m   1709\u001b[0m \u001b[0;34m\u001b[0m\u001b[0m\n",
            "\u001b[0;31mKeyboardInterrupt\u001b[0m: "
          ]
        }
      ]
    },
    {
      "cell_type": "code",
      "source": [],
      "metadata": {
        "id": "Mpsva9qORNpo"
      },
      "execution_count": null,
      "outputs": []
    },
    {
      "cell_type": "code",
      "source": [],
      "metadata": {
        "id": "FTkUzCijRNc3"
      },
      "execution_count": null,
      "outputs": []
    },
    {
      "cell_type": "code",
      "source": [
        "# plot redispatch against the datetime index\n",
        "start_date = '2021-01-01'\n",
        "end_date = '2023-12-31'\n",
        "\n",
        "ax = df.loc[start_date:end_date, 'redispatch'].plot(figsize=(15, 10))\n",
        "\n",
        "# Customize the x-axis format and limits\n",
        "plt.gcf().autofmt_xdate()\n",
        "\n",
        "# Add labels and title\n",
        "plt.xlabel('Date')\n",
        "plt.ylabel('Redispatch')\n",
        "plt.title('Plot of Redispatch against Date')\n",
        "\n",
        "# Show the plot\n",
        "plt.show()"
      ],
      "metadata": {
        "colab": {
          "base_uri": "https://localhost:8080/",
          "height": 853
        },
        "id": "mGBX41Un1Yay",
        "outputId": "782ddf10-ebec-40b1-ee7e-361cccbb37dc"
      },
      "execution_count": 92,
      "outputs": [
        {
          "output_type": "display_data",
          "data": {
            "text/plain": [
              "<Figure size 1500x1000 with 1 Axes>"
            ],
            "image/png": "[encoded data removed]"
          },
          "metadata": {}
        }
      ]
    },
    {
      "cell_type": "code",
      "source": [],
      "metadata": {
        "id": "oMy0OhjXDat_"
      },
      "execution_count": null,
      "outputs": []
    }
  ]
}