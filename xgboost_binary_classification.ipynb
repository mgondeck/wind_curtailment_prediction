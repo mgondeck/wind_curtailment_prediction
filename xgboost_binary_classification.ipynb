{
  "nbformat": 4,
  "nbformat_minor": 0,
  "metadata": {
    "colab": {
      "provenance": [],
      "authorship_tag": "ABX9TyN7XtZKV8dpE3jB8zS3DvAg"
    },
    "kernelspec": {
      "name": "python3",
      "display_name": "Python 3"
    },
    "language_info": {
      "name": "python"
    }
  },
  "cells": [
    {
      "cell_type": "code",
      "execution_count": 12,
      "metadata": {
        "id": "cAUnjqGq8e0I"
      },
      "outputs": [],
      "source": [
        "# packages\n",
        "import os\n",
        "import numpy as np\n",
        "import pandas as pd\n",
        "\n",
        "from sklearn.impute import SimpleImputer\n",
        "from sklearn.preprocessing import StandardScaler\n",
        "from sklearn.pipeline import Pipeline\n",
        "from sklearn.model_selection import train_test_split\n",
        "from sklearn.model_selection import TimeSeriesSplit\n",
        "from imblearn.over_sampling import SMOTE\n",
        "\n",
        "from xgboost import XGBClassifier\n",
        "\n",
        "from sklearn.metrics import classification_report, recall_score, confusion_matrix\n",
        "\n",
        "from matplotlib import pyplot as plt"
      ]
    },
    {
      "cell_type": "code",
      "source": [
        "# mount your google drive\n",
        "from google.colab import drive\n",
        "drive.mount('/content/drive')"
      ],
      "metadata": {
        "colab": {
          "base_uri": "https://localhost:8080/"
        },
        "id": "YDLSLy76-MS8",
        "outputId": "f7ac89f6-da19-4e5d-8296-70d46b9a6ca3"
      },
      "execution_count": 2,
      "outputs": [
        {
          "output_type": "stream",
          "name": "stdout",
          "text": [
            "Mounted at /content/drive\n"
          ]
        }
      ]
    },
    {
      "cell_type": "code",
      "source": [
        "df = pd.read_csv('/content/drive/My Drive/ms_wind_curtailment_prediction/lagged_curtailment_target_features.csv', sep = ';', index_col=0)"
      ],
      "metadata": {
        "id": "IiyQT8FT-OwX"
      },
      "execution_count": 13,
      "outputs": []
    },
    {
      "cell_type": "code",
      "source": [
        "# preprocessing pipelines\n",
        "preprocessor = Pipeline([\n",
        "    ('imputer', SimpleImputer(strategy='constant', fill_value=0)),\n",
        "    ('scaler', StandardScaler())\n",
        "])\n",
        "\n",
        "smote = SMOTE(random_state=13)\n",
        "\n",
        "X_train_preprocessed = preprocessor.fit_transform(X_train)\n",
        "X_train_preprocessed, y_train_preprocessed = smote.fit_resample(X_train_preprocessed, y_train)\n",
        "X_test_preprocessed = preprocessor.transform(X_test)"
      ],
      "metadata": {
        "id": "pUPIQ7nA-XP8"
      },
      "execution_count": 5,
      "outputs": []
    },
    {
      "cell_type": "code",
      "source": [
        "# create model instance\n",
        "xgboost_class = XGBClassifier(n_estimators=2, max_depth=2, learning_rate=1, objective='binary:logistic', random_state = 9)"
      ],
      "metadata": {
        "id": "is0ckOao15OY"
      },
      "execution_count": null,
      "outputs": []
    },
    {
      "cell_type": "code",
      "source": [
        "# define X and y\n",
        "X = df.drop(['redispatch', 'level'], axis = 1)\n",
        "y = df['redispatch']\n",
        "\n",
        "from sklearn.metrics import recall_score, confusion_matrix\n",
        "\n",
        "# Initialize lists to store evaluation metrics\n",
        "recall_scores = []\n",
        "conf_matrices = []\n",
        "\n",
        "# Perform forward chaining cross-validation\n",
        "for train_index, test_index in tscv.split(X):\n",
        "    X_train_preprocessed, X_test_preprocessed = X.iloc[train_index], X.iloc[test_index]\n",
        "    y_train_preprocessed, y_test_preprocessed = y.iloc[train_index], y.iloc[test_index]\n",
        "\n",
        "    xgboost_class.fit(X_train_preprocessed, y_train_preprocessed)\n",
        "\n",
        "    y_pred = xgboost_class.predict(X_test_preprocessed)\n",
        "\n",
        "    y_pred_binary = [1 if pred > 0.4 else 0 for pred in y_pred]\n",
        "\n",
        "    # Calculate recall\n",
        "    recall = recall_score(y_test_preprocessed, y_pred_binary)\n",
        "    recall_scores.append(recall)\n",
        "\n",
        "    # Calculate confusion matrix\n",
        "    conf_matrix = confusion_matrix(y_test_preprocessed, y_pred_binary)\n",
        "    conf_matrices.append(conf_matrix)\n",
        "\n",
        "# Print average recall across all folds\n",
        "print(\"Average Recall Score:\", sum(recall_scores) / len(recall_scores))\n",
        "\n",
        "# Print average confusion matrix across all folds\n",
        "print(\"Average Confusion Matrix:\")\n",
        "print(sum(conf_matrices) / len(conf_matrices))"
      ],
      "metadata": {
        "id": "HisEx6Ps1j2w",
        "outputId": "c3cfe324-2de4-449f-a5d5-74f3a0c6be9a",
        "colab": {
          "base_uri": "https://localhost:8080/"
        }
      },
      "execution_count": 17,
      "outputs": [
        {
          "output_type": "stream",
          "name": "stdout",
          "text": [
            "Average Recall Score: 0.0026578247698612395\n",
            "Average Confusion Matrix:\n",
            "[[2.1606e+04 2.9600e+01]\n",
            " [1.6684e+03 5.0000e+00]]\n"
          ]
        }
      ]
    },
    {
      "cell_type": "code",
      "source": [],
      "metadata": {
        "id": "RcpDXef02QQP"
      },
      "execution_count": null,
      "outputs": []
    },
    {
      "cell_type": "code",
      "source": [],
      "metadata": {
        "id": "bLhy4cXp2QDN"
      },
      "execution_count": null,
      "outputs": []
    },
    {
      "cell_type": "code",
      "source": [
        "# Split the entire dataset into training and test sets\n",
        "cutoff_time = \"2023-12-29 23:45:00\"\n",
        "\n",
        "# train data\n",
        "train = df[df.index < cutoff_time]\n",
        "X_train = train.drop(['redispatch', 'level'], axis = 1)\n",
        "y_train = train['redispatch']\n",
        "\n",
        "# test data\n",
        "test = df[df.index >= cutoff_time]\n",
        "X_test = test.drop(['redispatch', 'level'], axis = 1)\n",
        "y_test = test['redispatch']\n",
        "\n",
        "# weights\n",
        "# weights = df['level'] ## to be done"
      ],
      "metadata": {
        "id": "xdHQrnUA-WU-"
      },
      "execution_count": 14,
      "outputs": []
    },
    {
      "cell_type": "code",
      "source": [
        "# create model instance\n",
        "xgboost_class = XGBClassifier(n_estimators=2, max_depth=2, learning_rate=1, objective='binary:logistic', random_state = 9)\n",
        "# fit model\n",
        "xgboost_class.fit(X_train_preprocessed, y_train_preprocessed)\n",
        "# make predictions\n",
        "y_pred = xgboost_class.predict(X_test_preprocessed)"
      ],
      "metadata": {
        "id": "WkMwR7nU-ZgR"
      },
      "execution_count": 6,
      "outputs": []
    },
    {
      "cell_type": "code",
      "source": [
        "# evaluate\n",
        "print(classification_report(y_test, y_pred))"
      ],
      "metadata": {
        "colab": {
          "base_uri": "https://localhost:8080/"
        },
        "id": "NYMB5INOCOGO",
        "outputId": "0d895287-f369-4f5f-cc3d-52e24aaf120e"
      },
      "execution_count": 7,
      "outputs": [
        {
          "output_type": "stream",
          "name": "stdout",
          "text": [
            "              precision    recall  f1-score   support\n",
            "\n",
            "         0.0       0.94      0.85      0.90     32458\n",
            "         1.0       0.15      0.35      0.21      2484\n",
            "\n",
            "    accuracy                           0.82     34942\n",
            "   macro avg       0.55      0.60      0.55     34942\n",
            "weighted avg       0.89      0.82      0.85     34942\n",
            "\n"
          ]
        }
      ]
    }
  ]
}