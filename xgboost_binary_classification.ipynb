{
  "nbformat": 4,
  "nbformat_minor": 0,
  "metadata": {
    "colab": {
      "provenance": [],
      "authorship_tag": "ABX9TyOUHiixOoiuLyagw5WG2nvC"
    },
    "kernelspec": {
      "name": "python3",
      "display_name": "Python 3"
    },
    "language_info": {
      "name": "python"
    }
  },
  "cells": [
    {
      "cell_type": "code",
      "execution_count": 121,
      "metadata": {
        "id": "cAUnjqGq8e0I"
      },
      "outputs": [],
      "source": [
        "# packages\n",
        "import os\n",
        "import numpy as np\n",
        "import pandas as pd\n",
        "\n",
        "from sklearn.impute import SimpleImputer\n",
        "from sklearn.preprocessing import StandardScaler\n",
        "from sklearn.pipeline import Pipeline\n",
        "from sklearn.model_selection import train_test_split\n",
        "from sklearn.model_selection import TimeSeriesSplit\n",
        "from imblearn.over_sampling import SMOTE\n",
        "\n",
        "from xgboost import XGBClassifier\n",
        "\n",
        "from sklearn.metrics import recall_score, confusion_matrix, accuracy_score, precision_score\n",
        "\n",
        "from matplotlib import pyplot as plt"
      ]
    },
    {
      "cell_type": "code",
      "source": [
        "# mount your google drive\n",
        "from google.colab import drive\n",
        "drive.mount('/content/drive')"
      ],
      "metadata": {
        "colab": {
          "base_uri": "https://localhost:8080/"
        },
        "id": "YDLSLy76-MS8",
        "outputId": "33726863-2121-4276-e168-39a2169d5832"
      },
      "execution_count": 54,
      "outputs": [
        {
          "output_type": "stream",
          "name": "stdout",
          "text": [
            "Drive already mounted at /content/drive; to attempt to forcibly remount, call drive.mount(\"/content/drive\", force_remount=True).\n"
          ]
        }
      ]
    },
    {
      "cell_type": "code",
      "source": [
        "df = pd.read_csv('/content/drive/My Drive/ms_wind_curtailment_prediction/lagged_curtailment_target_features.csv', sep = ';', index_col=0)"
      ],
      "metadata": {
        "id": "IiyQT8FT-OwX"
      },
      "execution_count": 110,
      "outputs": []
    },
    {
      "cell_type": "code",
      "source": [
        "# Drop the rows to get appropriate test data\n",
        "df.drop(df.index[-4416:], inplace=True)"
      ],
      "metadata": {
        "id": "H4kgvp2Q6oTW"
      },
      "execution_count": 111,
      "outputs": []
    },
    {
      "cell_type": "code",
      "source": [
        "# preprocessing pipelines\n",
        "preprocessor = Pipeline([\n",
        "    ('imputer', SimpleImputer(strategy='constant', fill_value=0)),\n",
        "    ('scaler', StandardScaler())\n",
        "])\n",
        "\n",
        "smote = SMOTE(random_state=13)\n",
        "\n",
        "# create model instance\n",
        "xgboost_class = XGBClassifier(n_estimators=2, max_depth=2, learning_rate=1, objective='binary:logistic', random_state = 13)\n",
        "\n",
        "# features X and target y\n",
        "X = df.drop(['redispatch', 'level'], axis = 1)\n",
        "y = df['redispatch']"
      ],
      "metadata": {
        "id": "is0ckOao15OY"
      },
      "execution_count": 113,
      "outputs": []
    },
    {
      "cell_type": "code",
      "source": [
        "# cross-validation\n",
        "n_splits = 16\n",
        "test_size = 24 #(6h with 15 min intervalls)\n",
        "tscv = TimeSeriesSplit(n_splits=n_splits, test_size=test_size) #, step=step)\n",
        "\n",
        "recall_scores = []\n",
        "precision_scores = []\n",
        "accuracy_scores = []\n",
        "conf_matrices = []\n",
        "\n",
        "for i, (train_index, test_index) in enumerate(tscv.split(X)):\n",
        "\n",
        "    X_train, X_test = X.iloc[train_index], X.iloc[test_index]\n",
        "    y_train, y_test = y.iloc[train_index], y.iloc[test_index]\n",
        "\n",
        "    X_train = X_train.copy()\n",
        "    X_test = X_test.copy()\n",
        "\n",
        "    # check if at least one instance of redispatch with status 1 is present in the test data\n",
        "    if y_test.sum() == 0:\n",
        "        continue\n",
        "\n",
        "    # importance of the last redispatch status for the training data\n",
        "    window_size = 2  # last 30 min\n",
        "    last_redispatch_importance_train = []\n",
        "    for i in range(len(y_train)):\n",
        "        window_start = max(0, i - window_size)\n",
        "        window_end = i\n",
        "        importance = y_train.iloc[window_start:window_end].sum() # also incorporate the level\n",
        "        last_redispatch_importance_train.append(importance)\n",
        "    X_train['last_redispatch_importance'] = last_redispatch_importance_train\n",
        "\n",
        "    # rate of decrease for the importance values\n",
        "    decrease_rate = last_redispatch_importance_train[-1] / len(X_test)\n",
        "\n",
        "    # forward fill the last value of 'last_redispatch_importance' for the test data with decreasing values\n",
        "    last_redispatch_importance_test = np.linspace(last_redispatch_importance_train[-1], 0, len(X_test))\n",
        "    X_test['last_redispatch_importance'] = last_redispatch_importance_test\n",
        "\n",
        "    # Preprocess and oversample only the training data\n",
        "    X_train_preprocessed = preprocessor.fit_transform(X_train)\n",
        "    X_train_preprocessed, y_train_preprocessed = smote.fit_resample(X_train_preprocessed, y_train)\n",
        "\n",
        "    # Preprocess the test data\n",
        "    X_test_preprocessed = preprocessor.transform(X_test)\n",
        "\n",
        "    # Fit the model on the preprocessed training data\n",
        "    xgboost_class.fit(X_train_preprocessed, y_train_preprocessed)\n",
        "\n",
        "    # Make predictions on the preprocessed test data\n",
        "    y_pred = xgboost_class.predict(X_test_preprocessed)\n",
        "\n",
        "    # Convert predicted probabilities to binary predictions\n",
        "    y_pred_binary = [1 if pred > 0.3 else 0 for pred in y_pred]\n",
        "\n",
        "    #print(y_test.value_counts())\n",
        "    #print(\"last redispatch importance: \", X_test['last_redispatch_importance'])\n",
        "\n",
        "    recall = recall_score(y_test, y_pred)\n",
        "    recall_scores.append(recall)\n",
        "    precision = precision_score(y_test, y_pred)\n",
        "    precision_scores.append(precision)\n",
        "    accuracy = accuracy_score(y_test, y_pred)\n",
        "    accuracy_scores.append(accuracy)\n",
        "    conf_matrix = confusion_matrix(y_test, y_pred)\n",
        "    conf_matrices.append(conf_matrix)\n",
        "\n",
        "# evaluate\n",
        "print(\"Average Recall:\", sum(recall_scores) / len(recall_scores))\n",
        "print(\"Average Precision:\", sum(precision_scores) / len(precision_scores))\n",
        "print(\"Average Accuracy:\", sum(accuracy_scores) / len(accuracy_scores))\n",
        "print(\"Average Confusion Matrix:\", sum(conf_matrices) / len(conf_matrices))"
      ],
      "metadata": {
        "colab": {
          "base_uri": "https://localhost:8080/"
        },
        "id": "HisEx6Ps1j2w",
        "outputId": "c4bc86a6-192d-4dd1-82b6-1eba9d186090"
      },
      "execution_count": 122,
      "outputs": [
        {
          "output_type": "stream",
          "name": "stderr",
          "text": [
            "/usr/local/lib/python3.10/dist-packages/sklearn/metrics/_classification.py:1344: UndefinedMetricWarning: Precision is ill-defined and being set to 0.0 due to no predicted samples. Use `zero_division` parameter to control this behavior.\n",
            "  _warn_prf(average, modifier, msg_start, len(result))\n",
            "/usr/local/lib/python3.10/dist-packages/sklearn/metrics/_classification.py:1344: UndefinedMetricWarning: Precision is ill-defined and being set to 0.0 due to no predicted samples. Use `zero_division` parameter to control this behavior.\n",
            "  _warn_prf(average, modifier, msg_start, len(result))\n"
          ]
        },
        {
          "output_type": "stream",
          "name": "stdout",
          "text": [
            "Average Recall: 0.3333333333333333\n",
            "Average Precision: 0.028985507246376812\n",
            "Average Accuracy: 0.5416666666666666\n",
            "Average Confusion Matrix: [[12.33333333  7.        ]\n",
            " [ 4.          0.66666667]]\n"
          ]
        }
      ]
    },
    {
      "cell_type": "code",
      "source": [
        "# Plot the column against the datetime index\n",
        "start_date = '2023-11-01'\n",
        "end_date = '2023-11-15'\n",
        "\n",
        "# Plot the data\n",
        "ax = df.loc[start_date:end_date, 'redispatch'].plot(figsize=(15, 10))\n",
        "\n",
        "# Customize the x-axis format and limits\n",
        "plt.gcf().autofmt_xdate()  # Rotate x-axis labels for better readability\n",
        "\n",
        "# Add labels and title\n",
        "plt.xlabel('Date')\n",
        "plt.ylabel('Redispatch')\n",
        "plt.title('Plot of Redispatch against Date')\n",
        "\n",
        "# Show the plot\n",
        "plt.show()"
      ],
      "metadata": {
        "colab": {
          "base_uri": "https://localhost:8080/",
          "height": 740
        },
        "id": "mGBX41Un1Yay",
        "outputId": "af49727d-c251-4025-feef-e7dc0d5bc79c"
      },
      "execution_count": 67,
      "outputs": [
        {
          "output_type": "display_data",
          "data": {
            "text/plain": [
              "<Figure size 1500x1000 with 1 Axes>"
            ],
            "image/png": "[encoded data removed]"
          },
          "metadata": {}
        }
      ]
    },
    {
      "cell_type": "code",
      "source": [],
      "metadata": {
        "id": "oMy0OhjXDat_"
      },
      "execution_count": null,
      "outputs": []
    }
  ]
}