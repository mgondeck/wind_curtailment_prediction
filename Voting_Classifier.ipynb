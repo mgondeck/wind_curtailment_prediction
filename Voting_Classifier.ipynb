{
  "nbformat": 4,
  "nbformat_minor": 0,
  "metadata": {
    "colab": {
      "provenance": []
    },
    "kernelspec": {
      "name": "python3",
      "display_name": "Python 3"
    },
    "language_info": {
      "name": "python"
    }
  },
  "cells": [
    {
      "cell_type": "code",
      "execution_count": 45,
      "metadata": {
        "id": "9mAVew5fDd6i"
      },
      "outputs": [],
      "source": [
        "import numpy as np\n",
        "import pandas as pd\n",
        "\n",
        "from sklearn.preprocessing import StandardScaler\n",
        "from sklearn.pipeline import Pipeline\n",
        "from sklearn.ensemble import ExtraTreesClassifier\n",
        "from imblearn.over_sampling import SMOTE\n",
        "\n",
        "from sklearn.ensemble import VotingClassifier\n",
        "from sklearn.metrics import accuracy_score\n",
        "from keras.models import load_model\n",
        "from sklearn.ensemble import ExtraTreesClassifier\n",
        "import joblib\n",
        "\n",
        "from sklearn.metrics import classification_report, confusion_matrix, precision_score, f1_score\n",
        "\n",
        "import seaborn as sns\n",
        "from matplotlib import pyplot as plt"
      ]
    },
    {
      "cell_type": "code",
      "source": [
        "# mount your google drive\n",
        "from google.colab import drive\n",
        "drive.mount('/content/drive')"
      ],
      "metadata": {
        "colab": {
          "base_uri": "https://localhost:8080/"
        },
        "id": "IrDePMGSDvbu",
        "outputId": "061f33c4-659b-49b5-817c-5b3ebdbc5141"
      },
      "execution_count": 46,
      "outputs": [
        {
          "output_type": "stream",
          "name": "stdout",
          "text": [
            "Drive already mounted at /content/drive; to attempt to forcibly remount, call drive.mount(\"/content/drive\", force_remount=True).\n"
          ]
        }
      ]
    },
    {
      "cell_type": "markdown",
      "source": [
        "**Loading pretrained models**"
      ],
      "metadata": {
        "id": "fnkjXBaJEFY7"
      }
    },
    {
      "cell_type": "code",
      "source": [
        "# Load deep learning model\n",
        "# deep_learning_model = load_model('deep_learning_model.h5')\n",
        "\n",
        "# Load XGBoost classifier\n",
        "xgboost_class = joblib.load('/content/drive/My Drive/ms_wind_curtailment_prediction/xgboost_class.pkl')\n",
        "\n",
        "# Load Extra Trees classifier\n",
        "extra_trees_clf = joblib.load('/content/drive/My Drive/ms_wind_curtailment_prediction/extra_trees_classifier.pkl')"
      ],
      "metadata": {
        "id": "v9Ef1Ac5EFMT"
      },
      "execution_count": 47,
      "outputs": []
    },
    {
      "cell_type": "code",
      "source": [
        "df = pd.read_csv('/content/drive/My Drive/ms_wind_curtailment_prediction/lagged_curtailment_target_features.csv', sep = ';', index_col=0)"
      ],
      "metadata": {
        "id": "0_1UwYdczRm0"
      },
      "execution_count": 48,
      "outputs": []
    },
    {
      "cell_type": "code",
      "source": [
        "df.index = pd.to_datetime(df.index)\n",
        "df.drop(['wind_speed_m/s', 'wind_speed_m/s_lag1', 'wind_speed_m/s_lag2', 'wind_speed_m/s_lag3'], inplace=True, axis=1)"
      ],
      "metadata": {
        "id": "MS9gz7bHYKJh"
      },
      "execution_count": 49,
      "outputs": []
    },
    {
      "cell_type": "code",
      "source": [
        "# select train datset\n",
        "start_date_train = '2021-07-01'\n",
        "end_date_train = '2023-06-30'\n",
        "df_model_train = df.loc[start_date_train:end_date_train]\n",
        "\n",
        "start_date_pred = '2023-07-01'\n",
        "end_date_pred = '2023-12-31'\n",
        "df_model_pred = df.loc[start_date_pred:end_date_pred]"
      ],
      "metadata": {
        "id": "lWBWpP7YzMrE"
      },
      "execution_count": 50,
      "outputs": []
    },
    {
      "cell_type": "code",
      "source": [
        "# impute, scale pipeline and smote (for class imbalance)\n",
        "preprocessor = Pipeline([\n",
        "    ('scaler', StandardScaler())\n",
        "])\n",
        "\n",
        "smote = SMOTE(random_state=13)\n",
        "\n",
        "# define features X and target y\n",
        "X_train = df_model_train.drop(['redispatch', 'level'], axis = 1)\n",
        "X_test = df_model_pred.drop(['redispatch', 'level'], axis = 1)\n",
        "y_train = df_model_train['redispatch']\n",
        "y_test = df_model_pred['redispatch']"
      ],
      "metadata": {
        "id": "X0Xr3R7q3IhS"
      },
      "execution_count": 51,
      "outputs": []
    },
    {
      "cell_type": "markdown",
      "source": [
        "Voting use a soft vote"
      ],
      "metadata": {
        "id": "qLFnGmabEKJr"
      }
    },
    {
      "cell_type": "code",
      "source": [
        "# Create a voting classifier with soft voting\n",
        "voting_classifier = VotingClassifier(\n",
        "    estimators=[\n",
        "        ('xgboost', xgboost_class),\n",
        "        ('extra_trees', extra_trees_clf)\n",
        "    ],\n",
        "    voting='soft'\n",
        ")\n",
        "\n",
        "# preprocess train and test data\n",
        "X_train_scaled = preprocessor.fit_transform(X_train)\n",
        "X_train_preprocessed, y_train_preprocessed = smote.fit_resample(X_train_scaled, y_train)\n",
        "X_test_preprocessed = preprocessor.transform(X_test)\n",
        "\n",
        "# fit the model\n",
        "voting_classifier.fit(X_train_preprocessed, y_train_preprocessed)\n",
        "\n",
        "# Make predictions using the voting classifier\n",
        "threshold = 0.72\n",
        "y_prob_voting = voting_classifier.predict_proba(X_test_preprocessed)\n",
        "y_pred_voting = (y_prob_voting[:, 1] >= threshold).astype(int)\n",
        "y_train_prob_voting = voting_classifier.predict_proba(X_train_preprocessed)\n",
        "y_pred_train_voting = (y_train_prob_voting[:, 1] >= threshold).astype(int)\n",
        "\n",
        "# evaluate\n",
        "precision_score_test = precision_score(y_test, y_pred_voting)\n",
        "f1_score_test = f1_score(y_test, y_pred_voting)\n",
        "conf_matrix_test = confusion_matrix(y_test, y_pred_voting)\n",
        "\n",
        "precision_train_score = precision_score(y_train_preprocessed, y_pred_train_voting)\n",
        "f1_train_score = f1_score(y_train_preprocessed, y_pred_train_voting)\n",
        "conf_train_matrix = confusion_matrix(y_train_preprocessed, y_pred_train_voting)\n",
        "\n",
        "# print evaluation\n",
        "print(\"Scores:\")\n",
        "print(\"Precision:\", precision_score_test)\n",
        "print(\"F1-Scores:\", f1_score_test)\n",
        "print(\"Average Confusion Matrix:\")\n",
        "print(f\"{'True Negative':<20} {'False Positive':<20}\")\n",
        "print(f\"{conf_matrix_test[0][0]:<20} {conf_matrix_test[0][1]:<20}\")\n",
        "print(f\"{'False Negative':<20} {'True Positive':<20}\")\n",
        "print(f\"{conf_matrix_test[1][0]:<20} {conf_matrix_test[1][1]:<20}\")\n",
        "\n",
        "print(\"Precision (Train):\", precision_train_score)\n",
        "print(\"F1-Scores (Train):\", f1_train_score)\n",
        "print(\"Average Confusion Matrix (Train):\")\n",
        "print(f\"{'True Negative':<20} {'False Positive':<20}\")\n",
        "print(f\"{conf_train_matrix[0][0]:<20} {conf_train_matrix[0][1]:<20}\")\n",
        "print(f\"{'False Negative':<20} {'True Positive':<20}\")\n",
        "print(f\"{conf_train_matrix[1][0]:<20} {conf_train_matrix[1][1]:<20}\")"
      ],
      "metadata": {
        "id": "xgm29_ksEKa2",
        "outputId": "d0cc66bc-28fa-4f16-ca1f-1b9570aeb45d",
        "colab": {
          "base_uri": "https://localhost:8080/"
        }
      },
      "execution_count": 42,
      "outputs": [
        {
          "output_type": "stream",
          "name": "stdout",
          "text": [
            "Scores:\n",
            "Precision: 0.29574132492113564\n",
            "F1-Scores: 0.3273679615888258\n",
            "Average Confusion Matrix:\n",
            "True Negative        False Positive      \n",
            "15664                893                 \n",
            "False Negative       True Positive       \n",
            "648                  375                 \n",
            "Precision (Train): 0.8523629084149568\n",
            "F1-Scores (Train): 0.3103838794079744\n",
            "Average Confusion Matrix (Train):\n",
            "True Negative        False Positive      \n",
            "60769                2065                \n",
            "False Negative       True Positive       \n",
            "50912                11922               \n"
          ]
        }
      ]
    },
    {
      "cell_type": "code",
      "source": [
        "sns.set_style(\"whitegrid\")\n",
        "#df_model_pred['y_pred_voting'] = y_pred_voting\n",
        "#df_model_pred = df_model_pred.loc['2023-08-01':'2023-08-15']\n",
        "\n",
        "fig, (ax1, ax2) = plt.subplots(2, 1, figsize=(15, 3), sharex=True)\n",
        "ax1.plot(df_model_pred.index, df_model_pred['redispatch'], marker='o', linestyle='', label='True values', color='blue')\n",
        "ax1.set_ylabel('True')\n",
        "ax1.legend()\n",
        "\n",
        "ax2.plot(df_model_pred.index, df_model_pred['y_pred_voting'], marker='o', linestyle='', label='Prediction', color='orange')\n",
        "ax2.set_ylabel('Predicted')\n",
        "ax2.legend()\n",
        "plt.gcf().autofmt_xdate()\n",
        "plt.suptitle('Comparison of true and predicted curtailment status')\n",
        "\n",
        "ax1.grid(False)\n",
        "ax2.grid(False)\n",
        "fig.subplots_adjust(hspace=0.3)\n",
        "\n",
        "plt.gcf().autofmt_xdate()\n",
        "for ax in [ax1, ax2]:\n",
        "    ax.locator_params(axis='y', nbins=1)\n",
        "    ax.spines['top'].set_visible(False)\n",
        "    ax.spines['right'].set_visible(False)\n",
        "    ax.spines['left'].set_visible(False)\n",
        "    ax.spines['bottom'].set_visible(False)\n",
        "\n",
        "#plt.savefig('redispatch_week.png')\n"
      ],
      "metadata": {
        "id": "QMOihvV0Wt8v",
        "outputId": "fac81e89-7d14-4a07-adc9-8ba941d1ed07",
        "colab": {
          "base_uri": "https://localhost:8080/",
          "height": 332
        }
      },
      "execution_count": 73,
      "outputs": [
        {
          "output_type": "display_data",
          "data": {
            "text/plain": [
              "<Figure size 1500x300 with 2 Axes>"
            ],
            "image/png": "[encoded data removed]"
          },
          "metadata": {}
        }
      ]
    },
    {
      "cell_type": "code",
      "source": [],
      "metadata": {
        "id": "3hkud-vQYutV"
      },
      "execution_count": 34,
      "outputs": []
    }
  ]
}