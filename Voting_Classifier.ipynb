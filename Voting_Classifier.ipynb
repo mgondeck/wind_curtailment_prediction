{
  "nbformat": 4,
  "nbformat_minor": 0,
  "metadata": {
    "colab": {
      "provenance": [],
      "authorship_tag": "ABX9TyM5w9ansfsYm4beLFH+tx+j"
    },
    "kernelspec": {
      "name": "python3",
      "display_name": "Python 3"
    },
    "language_info": {
      "name": "python"
    }
  },
  "cells": [
    {
      "cell_type": "code",
      "execution_count": 1,
      "metadata": {
        "id": "9mAVew5fDd6i"
      },
      "outputs": [],
      "source": [
        "from sklearn.ensemble import VotingClassifier\n",
        "from sklearn.metrics import accuracy_score\n",
        "from keras.models import load_model\n",
        "from sklearn.ensemble import ExtraTreesClassifier\n",
        "import joblib"
      ]
    },
    {
      "cell_type": "code",
      "source": [
        "# mount your google drive\n",
        "from google.colab import drive\n",
        "drive.mount('/content/drive')"
      ],
      "metadata": {
        "colab": {
          "base_uri": "https://localhost:8080/"
        },
        "id": "IrDePMGSDvbu",
        "outputId": "92a8cd05-39af-468d-bdc0-7d515756165d"
      },
      "execution_count": 2,
      "outputs": [
        {
          "output_type": "stream",
          "name": "stdout",
          "text": [
            "Mounted at /content/drive\n"
          ]
        }
      ]
    },
    {
      "cell_type": "markdown",
      "source": [
        "Loading the Deep learning model and the Extra trees classifier model"
      ],
      "metadata": {
        "id": "fnkjXBaJEFY7"
      }
    },
    {
      "cell_type": "code",
      "source": [
        "# Load deep learning model\n",
        "deep_learning_model = load_model('deep_learning_model.h5')\n",
        "\n",
        "# Load Extra Trees classifier\n",
        "extra_trees_clf = joblib.load('extra_trees_classifier.pkl')\n"
      ],
      "metadata": {
        "id": "v9Ef1Ac5EFMT"
      },
      "execution_count": null,
      "outputs": []
    },
    {
      "cell_type": "markdown",
      "source": [
        "Voting use a soft vote"
      ],
      "metadata": {
        "id": "qLFnGmabEKJr"
      }
    },
    {
      "cell_type": "code",
      "source": [
        "# Create a voting classifier with soft voting\n",
        "voting_classifier = VotingClassifier(\n",
        "    estimators=[\n",
        "        ('deep_learning', deep_learning_model),\n",
        "        ('extra_trees', extra_trees_clf)\n",
        "    ],\n",
        "    voting='soft'\n",
        ")\n",
        "\n",
        "# Fit the voting classifier on the training data\n",
        "voting_classifier.fit(X_train, y_train)\n",
        "\n",
        "# Make predictions using the voting classifier\n",
        "y_pred_voting = voting_classifier.predict(X_test)\n",
        "\n",
        "# Evaluate the performance of the voting classifier\n",
        "accuracy_voting = accuracy_score(y_test, y_pred_voting)\n",
        "print(\"Accuracy of Voting Classifier:\", accuracy_voting)\n"
      ],
      "metadata": {
        "id": "xgm29_ksEKa2"
      },
      "execution_count": null,
      "outputs": []
    }
  ]
}