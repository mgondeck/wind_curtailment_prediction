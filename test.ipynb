{
  "nbformat": 4,
  "nbformat_minor": 0,
  "metadata": {
    "colab": {
      "provenance": [],
      "toc_visible": true,
      "authorship_tag": "ABX9TyNM7/ZNk3APICYNrGRiXlEr"
    },
    "kernelspec": {
      "name": "python3",
      "display_name": "Python 3"
    },
    "language_info": {
      "name": "python"
    }
  },
  "cells": [
    {
      "cell_type": "code",
      "execution_count": 1,
      "metadata": {
        "id": "2dtIzOiJ2RjA"
      },
      "outputs": [],
      "source": [
        "#testing"
      ]
    },
    {
      "cell_type": "code",
      "source": [],
      "metadata": {
        "id": "_BH11H3P2Y7U"
      },
      "execution_count": null,
      "outputs": []
    }
  ]
}